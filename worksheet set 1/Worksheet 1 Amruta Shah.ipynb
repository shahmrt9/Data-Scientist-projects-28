{
 "cells": [
  {
   "cell_type": "code",
   "execution_count": 3,
   "id": "dc8f0ea4",
   "metadata": {},
   "outputs": [
    {
     "name": "stdout",
     "output_type": "stream",
     "text": [
      "Enter the number 5\n",
      "The factorial of 5 is 120\n"
     ]
    }
   ],
   "source": [
    "# program for to find the factorial of a number Method 1\n",
    "num=int(input('Enter the number '))\n",
    "factorial=1\n",
    "if num <0:\n",
    "    print(\"Sorry, factorial does not exist for negative numbers\")\n",
    "elif num ==0:\n",
    "    print(\"The factorial of 0 is 1\")\n",
    "else:\n",
    "    for i in range(1,num + 1):\n",
    "        factorial = factorial*i\n",
    "    print(\"The factorial of\",num,\"is\",factorial)"
   ]
  },
  {
   "cell_type": "code",
   "execution_count": 4,
   "id": "8c238223",
   "metadata": {},
   "outputs": [
    {
     "name": "stdout",
     "output_type": "stream",
     "text": [
      "The factorial of 5 is 120\n"
     ]
    }
   ],
   "source": [
    "# program for to find the factorial of a number method 2\n",
    "def f(number):\n",
    "    factorial=1\n",
    "    for n in range(1,number+1):\n",
    "        factorial=factorial*n\n",
    "    print(\"The factorial of\",number,\"is\",factorial)\n",
    "f(5)"
   ]
  },
  {
   "cell_type": "code",
   "execution_count": 5,
   "id": "d7e647c0",
   "metadata": {},
   "outputs": [
    {
     "name": "stdout",
     "output_type": "stream",
     "text": [
      "enter the number 70\n",
      "Entered number 70 is composite\n"
     ]
    }
   ],
   "source": [
    "#program to find whether a number is prime or composite\n",
    "num=int(input(\"enter the number \"))\n",
    "if (num==0 or num==1):\n",
    "    print('Entered number',num,'is not prime nor composite')\n",
    "else:\n",
    "    count=0\n",
    "    for n in range(2,num):\n",
    "        if num%n== 0:\n",
    "            count+=1\n",
    "    if count>=1:\n",
    "        print('Entered number',num,'is composite')\n",
    "    else:\n",
    "        print('Entered number',num,'is prime')\n"
   ]
  },
  {
   "cell_type": "code",
   "execution_count": null,
   "id": "c9b94363",
   "metadata": {},
   "outputs": [],
   "source": [
    "# program to get the third side of right-angled triangle from two given sides.\n",
    "import math\n",
    "\n",
    "a=float(input('Enter length of one side '))\n",
    "b=float(input('Enter length of 2nd side '))\n",
    "c=math.sqrt(a**2 + b**2)\n",
    "print(c)"
   ]
  },
  {
   "cell_type": "code",
   "execution_count": 1,
   "id": "c8e7bf7a",
   "metadata": {},
   "outputs": [
    {
     "name": "stdout",
     "output_type": "stream",
     "text": [
      "{'t': 1, 'a': 2, 'D': 1}\n"
     ]
    }
   ],
   "source": [
    "## program to print the frequency of each of the characters present in a given string\n",
    "string='Data'\n",
    "freq={chr:string.count(chr) for chr in set(string)}\n",
    "print(freq)"
   ]
  },
  {
   "cell_type": "code",
   "execution_count": 2,
   "id": "8764c965",
   "metadata": {},
   "outputs": [
    {
     "name": "stdout",
     "output_type": "stream",
     "text": [
      "enter ur string amu\n",
      "string is not palindrome\n"
     ]
    }
   ],
   "source": [
    "# program to check whether a given string is palindrome or not\n",
    "\n",
    "str=input('enter ur string ')\n",
    "rev_str=reversed(str)\n",
    "if list(str)==list(rev_str):\n",
    "    print('string is palindrome')\n",
    "else:\n",
    "    print('string is not palindrome')"
   ]
  }
 ],
 "metadata": {
  "kernelspec": {
   "display_name": "Python 3",
   "language": "python",
   "name": "python3"
  },
  "language_info": {
   "codemirror_mode": {
    "name": "ipython",
    "version": 3
   },
   "file_extension": ".py",
   "mimetype": "text/x-python",
   "name": "python",
   "nbconvert_exporter": "python",
   "pygments_lexer": "ipython3",
   "version": "3.8.8"
  }
 },
 "nbformat": 4,
 "nbformat_minor": 5
}
