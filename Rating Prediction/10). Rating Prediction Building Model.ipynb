{
 "cells": [
  {
   "cell_type": "markdown",
   "id": "487cd667",
   "metadata": {},
   "source": [
    "# RATINGS PREDICTION"
   ]
  },
  {
   "cell_type": "markdown",
   "id": "28df5490",
   "metadata": {},
   "source": [
    "We have a client who has a website where people write different reviews for technical products. Now they are adding a new feature to their website i.e. The reviewer will have to add stars(rating) as well with the review. The rating is out 5 stars and it only has 5 options available 1 star, 2 stars, 3 stars, 4 stars, 5 stars. Now they want to predict ratings for the reviews which were written in the past and they don’t have a rating. So, we have to build an application which can predict the rating by seeing the review.\n",
    "\n",
    "Data Collection Phase\n",
    "\n",
    "You have to scrape at least 20000 rows of data. You can scrape more data as well, it’s up to you. more the data better the model In this section you need to scrape the reviews of different laptops, Phones, Headphones, smart watches, Professional Cameras, Printers, Monitors, Home theater, Router from different e\u0002commerce websites. Basically, we need these columns\u00021) reviews of the product. 2) rating of the product. You can fetch other data as well, if you think data can be useful or can help in the project. It completely depends on your imagination or assumption.\n",
    "\n",
    "Hint: • Try to fetch data from different websites. If data is from different websites, it will help our model to remove the effect of over fitting. • Try to fetch an equal number of reviews for each rating, for example if you are fetching 10000 reviews then all ratings 1,2,3,4,5 should be 2000. It will balance our data set. • Convert all the ratings to their round number, as there are only 5 options for rating i.e., 1,2,3,4,5. If a rating is 4.5 convert it 5.\n",
    "\n",
    "Model Building Phase\n",
    "\n",
    "After collecting the data, you need to build a machine learning model. Before model building do all data preprocessing steps involving NLP. Try different models with different hyper parameters and select the best model. Follow the complete life cycle of data science. Include all the steps like\u00021. Data Cleaning 2. Exploratory Data Analysis 3. Data Preprocessing 4. Model Building 5. Model Evaluation 6. Selecting the best mode"
   ]
  },
  {
   "cell_type": "markdown",
   "id": "18988137",
   "metadata": {},
   "source": [
    "# Importing Libraries"
   ]
  },
  {
   "cell_type": "code",
   "execution_count": 1,
   "id": "f0af7366",
   "metadata": {},
   "outputs": [],
   "source": [
    "import pandas as pd        # for data manipulation\n",
    "import numpy as np         # for mathematical calculations\n",
    "import seaborn as sns      # for data visualization\n",
    "\n",
    "import matplotlib.pyplot as plt  #for graphical analysis\n",
    "%matplotlib inline\n",
    "\n",
    "from scipy.stats import zscore # to remove outliers\n",
    "\n",
    "from sklearn.preprocessing import StandardScaler  # for normalize the model\n",
    "from sklearn.preprocessing import LabelEncoder  # to convert object into int\n",
    "\n",
    "\n",
    "from sklearn.model_selection import train_test_split  # for train and test model\n",
    "\n",
    "import warnings                      # to ignore any warnings\n",
    "warnings.filterwarnings(\"ignore\")\n",
    "\n",
    "from sklearn import metrics  # for model evaluation\n",
    "from sklearn.metrics import accuracy_score, confusion_matrix, classification_report, auc"
   ]
  },
  {
   "cell_type": "markdown",
   "id": "d5eaac50",
   "metadata": {},
   "source": [
    "# Load the dataset"
   ]
  },
  {
   "cell_type": "code",
   "execution_count": 2,
   "id": "a48db389",
   "metadata": {},
   "outputs": [
    {
     "data": {
      "text/html": [
       "<div>\n",
       "<style scoped>\n",
       "    .dataframe tbody tr th:only-of-type {\n",
       "        vertical-align: middle;\n",
       "    }\n",
       "\n",
       "    .dataframe tbody tr th {\n",
       "        vertical-align: top;\n",
       "    }\n",
       "\n",
       "    .dataframe thead th {\n",
       "        text-align: right;\n",
       "    }\n",
       "</style>\n",
       "<table border=\"1\" class=\"dataframe\">\n",
       "  <thead>\n",
       "    <tr style=\"text-align: right;\">\n",
       "      <th></th>\n",
       "      <th>Unnamed: 0</th>\n",
       "      <th>Review</th>\n",
       "      <th>Ratings</th>\n",
       "      <th>Text</th>\n",
       "    </tr>\n",
       "  </thead>\n",
       "  <tbody>\n",
       "    <tr>\n",
       "      <th>0</th>\n",
       "      <td>0</td>\n",
       "      <td>Overall worthy Laptop</td>\n",
       "      <td>5</td>\n",
       "      <td>I boght this laptop for mainly multitasking an...</td>\n",
       "    </tr>\n",
       "    <tr>\n",
       "      <th>1</th>\n",
       "      <td>1</td>\n",
       "      <td>Durable solid laptop.</td>\n",
       "      <td>NaN</td>\n",
       "      <td>The laptop is good for this price point.\\nFirs...</td>\n",
       "    </tr>\n",
       "    <tr>\n",
       "      <th>2</th>\n",
       "      <td>2</td>\n",
       "      <td>Perfect except the battery backup.</td>\n",
       "      <td>5</td>\n",
       "      <td>Lasts 4 hours of lite work and 2x4gb ram has t...</td>\n",
       "    </tr>\n",
       "    <tr>\n",
       "      <th>3</th>\n",
       "      <td>3</td>\n",
       "      <td>Good Value for money Laptop</td>\n",
       "      <td>NaN</td>\n",
       "      <td>Thin Gaming Laptop with good build quality. Go...</td>\n",
       "    </tr>\n",
       "    <tr>\n",
       "      <th>4</th>\n",
       "      <td>4</td>\n",
       "      <td>Excellent laptop</td>\n",
       "      <td>5</td>\n",
       "      <td>Excellent service by Amazon. Good laptop with ...</td>\n",
       "    </tr>\n",
       "    <tr>\n",
       "      <th>...</th>\n",
       "      <td>...</td>\n",
       "      <td>...</td>\n",
       "      <td>...</td>\n",
       "      <td>...</td>\n",
       "    </tr>\n",
       "    <tr>\n",
       "      <th>12569</th>\n",
       "      <td>12569</td>\n",
       "      <td>Wonderful</td>\n",
       "      <td>5</td>\n",
       "      <td>best product</td>\n",
       "    </tr>\n",
       "    <tr>\n",
       "      <th>12570</th>\n",
       "      <td>12570</td>\n",
       "      <td>Simply awesome</td>\n",
       "      <td>5</td>\n",
       "      <td>Wonderful.and nice product</td>\n",
       "    </tr>\n",
       "    <tr>\n",
       "      <th>12571</th>\n",
       "      <td>12571</td>\n",
       "      <td>Classy product</td>\n",
       "      <td>5</td>\n",
       "      <td>This one is absolutely perfect for work produc...</td>\n",
       "    </tr>\n",
       "    <tr>\n",
       "      <th>12572</th>\n",
       "      <td>12572</td>\n",
       "      <td>Classy product</td>\n",
       "      <td>5</td>\n",
       "      <td>Awesome 👍\\nJust go for it... After lot of rese...</td>\n",
       "    </tr>\n",
       "    <tr>\n",
       "      <th>12573</th>\n",
       "      <td>12573</td>\n",
       "      <td>Classy product</td>\n",
       "      <td>5</td>\n",
       "      <td>Best pick for office work like Motion graphics...</td>\n",
       "    </tr>\n",
       "  </tbody>\n",
       "</table>\n",
       "<p>12574 rows × 4 columns</p>\n",
       "</div>"
      ],
      "text/plain": [
       "       Unnamed: 0                              Review Ratings  \\\n",
       "0               0               Overall worthy Laptop       5   \n",
       "1               1               Durable solid laptop.     NaN   \n",
       "2               2  Perfect except the battery backup.       5   \n",
       "3               3         Good Value for money Laptop     NaN   \n",
       "4               4                    Excellent laptop       5   \n",
       "...           ...                                 ...     ...   \n",
       "12569       12569                           Wonderful       5   \n",
       "12570       12570                      Simply awesome       5   \n",
       "12571       12571                      Classy product       5   \n",
       "12572       12572                      Classy product       5   \n",
       "12573       12573                      Classy product       5   \n",
       "\n",
       "                                                    Text  \n",
       "0      I boght this laptop for mainly multitasking an...  \n",
       "1      The laptop is good for this price point.\\nFirs...  \n",
       "2      Lasts 4 hours of lite work and 2x4gb ram has t...  \n",
       "3      Thin Gaming Laptop with good build quality. Go...  \n",
       "4      Excellent service by Amazon. Good laptop with ...  \n",
       "...                                                  ...  \n",
       "12569                                       best product  \n",
       "12570                         Wonderful.and nice product  \n",
       "12571  This one is absolutely perfect for work produc...  \n",
       "12572  Awesome 👍\\nJust go for it... After lot of rese...  \n",
       "12573  Best pick for office work like Motion graphics...  \n",
       "\n",
       "[12574 rows x 4 columns]"
      ]
     },
     "execution_count": 2,
     "metadata": {},
     "output_type": "execute_result"
    }
   ],
   "source": [
    "df=pd.read_csv(\"Rating_train_set.csv\")  # read the data\n",
    "df"
   ]
  },
  {
   "cell_type": "markdown",
   "id": "c6b96f1d",
   "metadata": {},
   "source": [
    "Observations: 1)From dataset we can see that there are unnecessary columns are present like Unnamed: 0. 2)Null Values are present. 3) No. of 12574 rows & No. of 4 columns are present in the dataset."
   ]
  },
  {
   "cell_type": "markdown",
   "id": "78d12a98",
   "metadata": {},
   "source": [
    "# Dimensions of Dataset"
   ]
  },
  {
   "cell_type": "code",
   "execution_count": 3,
   "id": "92e1f410",
   "metadata": {},
   "outputs": [
    {
     "name": "stdout",
     "output_type": "stream",
     "text": [
      "(12574, 4)\n",
      "------------------------------------------------------------\n",
      "Unnamed: 0       0\n",
      "Review           5\n",
      "Ratings       4755\n",
      "Text           223\n",
      "dtype: int64\n",
      "------------------------------------------------------------\n",
      "<class 'pandas.core.frame.DataFrame'>\n",
      "RangeIndex: 12574 entries, 0 to 12573\n",
      "Data columns (total 4 columns):\n",
      " #   Column      Non-Null Count  Dtype \n",
      "---  ------      --------------  ----- \n",
      " 0   Unnamed: 0  12574 non-null  int64 \n",
      " 1   Review      12569 non-null  object\n",
      " 2   Ratings     7819 non-null   object\n",
      " 3   Text        12351 non-null  object\n",
      "dtypes: int64(1), object(3)\n",
      "memory usage: 393.1+ KB\n"
     ]
    }
   ],
   "source": [
    "# check the no. of rows & column & finding the count of missing value\n",
    "print(df.shape)\n",
    "print(\"-\"*60)\n",
    "print(df.isna().sum())\n",
    "print(\"-\"*60)\n",
    "#printing the summary of data type\n",
    "df.info() "
   ]
  },
  {
   "cell_type": "code",
   "execution_count": 4,
   "id": "a590e8a8",
   "metadata": {},
   "outputs": [],
   "source": [
    "# Lets first delate the irrelavant columns\n",
    "df.drop(columns=['Unnamed: 0'],axis=1, inplace=True)"
   ]
  },
  {
   "cell_type": "code",
   "execution_count": 5,
   "id": "3f6e2086",
   "metadata": {},
   "outputs": [
    {
     "data": {
      "text/html": [
       "<div>\n",
       "<style scoped>\n",
       "    .dataframe tbody tr th:only-of-type {\n",
       "        vertical-align: middle;\n",
       "    }\n",
       "\n",
       "    .dataframe tbody tr th {\n",
       "        vertical-align: top;\n",
       "    }\n",
       "\n",
       "    .dataframe thead th {\n",
       "        text-align: right;\n",
       "    }\n",
       "</style>\n",
       "<table border=\"1\" class=\"dataframe\">\n",
       "  <thead>\n",
       "    <tr style=\"text-align: right;\">\n",
       "      <th></th>\n",
       "      <th>Review</th>\n",
       "      <th>Ratings</th>\n",
       "      <th>Text</th>\n",
       "    </tr>\n",
       "  </thead>\n",
       "  <tbody>\n",
       "    <tr>\n",
       "      <th>0</th>\n",
       "      <td>Overall worthy Laptop</td>\n",
       "      <td>5</td>\n",
       "      <td>I boght this laptop for mainly multitasking an...</td>\n",
       "    </tr>\n",
       "    <tr>\n",
       "      <th>1</th>\n",
       "      <td>Durable solid laptop.</td>\n",
       "      <td>NaN</td>\n",
       "      <td>The laptop is good for this price point.\\nFirs...</td>\n",
       "    </tr>\n",
       "  </tbody>\n",
       "</table>\n",
       "</div>"
      ],
      "text/plain": [
       "                  Review Ratings  \\\n",
       "0  Overall worthy Laptop       5   \n",
       "1  Durable solid laptop.     NaN   \n",
       "\n",
       "                                                Text  \n",
       "0  I boght this laptop for mainly multitasking an...  \n",
       "1  The laptop is good for this price point.\\nFirs...  "
      ]
     },
     "execution_count": 5,
     "metadata": {},
     "output_type": "execute_result"
    }
   ],
   "source": [
    "#Recheck the Dataset\n",
    "df.head(2)"
   ]
  },
  {
   "cell_type": "markdown",
   "id": "7a9dc68f",
   "metadata": {},
   "source": [
    "Now our data looks good now lets check Statistical Summary of dataset "
   ]
  },
  {
   "cell_type": "markdown",
   "id": "49872290",
   "metadata": {},
   "source": [
    "# Statistical Summary"
   ]
  },
  {
   "cell_type": "code",
   "execution_count": 6,
   "id": "ece7f3d1",
   "metadata": {},
   "outputs": [
    {
     "data": {
      "text/html": [
       "<div>\n",
       "<style scoped>\n",
       "    .dataframe tbody tr th:only-of-type {\n",
       "        vertical-align: middle;\n",
       "    }\n",
       "\n",
       "    .dataframe tbody tr th {\n",
       "        vertical-align: top;\n",
       "    }\n",
       "\n",
       "    .dataframe thead th {\n",
       "        text-align: right;\n",
       "    }\n",
       "</style>\n",
       "<table border=\"1\" class=\"dataframe\">\n",
       "  <thead>\n",
       "    <tr style=\"text-align: right;\">\n",
       "      <th></th>\n",
       "      <th>Review</th>\n",
       "      <th>Ratings</th>\n",
       "      <th>Text</th>\n",
       "    </tr>\n",
       "  </thead>\n",
       "  <tbody>\n",
       "    <tr>\n",
       "      <th>count</th>\n",
       "      <td>12569</td>\n",
       "      <td>7819</td>\n",
       "      <td>12351</td>\n",
       "    </tr>\n",
       "    <tr>\n",
       "      <th>unique</th>\n",
       "      <td>2544</td>\n",
       "      <td>6</td>\n",
       "      <td>3865</td>\n",
       "    </tr>\n",
       "    <tr>\n",
       "      <th>top</th>\n",
       "      <td>Good</td>\n",
       "      <td>5</td>\n",
       "      <td>Good</td>\n",
       "    </tr>\n",
       "    <tr>\n",
       "      <th>freq</th>\n",
       "      <td>326</td>\n",
       "      <td>6378</td>\n",
       "      <td>199</td>\n",
       "    </tr>\n",
       "  </tbody>\n",
       "</table>\n",
       "</div>"
      ],
      "text/plain": [
       "       Review Ratings   Text\n",
       "count   12569    7819  12351\n",
       "unique   2544       6   3865\n",
       "top      Good       5   Good\n",
       "freq      326    6378    199"
      ]
     },
     "execution_count": 6,
     "metadata": {},
     "output_type": "execute_result"
    }
   ],
   "source": [
    "# Lets understand data at high level check the stastics of dataset\n",
    "df.describe(include='all')"
   ]
  },
  {
   "cell_type": "markdown",
   "id": "c40ad4c0",
   "metadata": {},
   "source": [
    "\n",
    "Observations: 1) Irrelevant values are present 2)we have categorical data type(object type) 3)outliers are present in the dataset "
   ]
  },
  {
   "cell_type": "markdown",
   "id": "3c987b45",
   "metadata": {},
   "source": [
    "Also, we can see that the rating column has count 6 it should be 5 now lets check with value .count method"
   ]
  },
  {
   "cell_type": "code",
   "execution_count": 7,
   "id": "f56af30a",
   "metadata": {},
   "outputs": [
    {
     "data": {
      "text/plain": [
       "5    6378\n",
       "4     877\n",
       "3     198\n",
       "-     168\n",
       "1     168\n",
       "2      30\n",
       "Name: Ratings, dtype: int64"
      ]
     },
     "execution_count": 7,
     "metadata": {},
     "output_type": "execute_result"
    }
   ],
   "source": [
    "df['Ratings'].value_counts()"
   ]
  },
  {
   "cell_type": "markdown",
   "id": "ae8fec25",
   "metadata": {},
   "source": [
    "As we see the 6 catergory means null value now lets deal with it by using imputer tech."
   ]
  },
  {
   "cell_type": "code",
   "execution_count": 8,
   "id": "4fa8f334",
   "metadata": {},
   "outputs": [
    {
     "data": {
      "image/png": "[encoded data removed]",
      "text/plain": [
       "<Figure size 432x288 with 2 Axes>"
      ]
     },
     "metadata": {
      "needs_background": "light"
     },
     "output_type": "display_data"
    }
   ],
   "source": [
    "# Checking null value by plotting heatmap\n",
    "sns.heatmap(df.isnull())\n",
    "plt.show()"
   ]
  },
  {
   "cell_type": "code",
   "execution_count": 9,
   "id": "d5f6213d",
   "metadata": {},
   "outputs": [
    {
     "name": "stdout",
     "output_type": "stream",
     "text": [
      "(9727, 3)\n"
     ]
    }
   ],
   "source": [
    "#first remove duplicates & recheck the size\n",
    "df.drop_duplicates(inplace=True)\n",
    "\n",
    "print(df.shape)"
   ]
  },
  {
   "cell_type": "markdown",
   "id": "36c353c0",
   "metadata": {},
   "source": [
    "Found duplicates and deleated."
   ]
  },
  {
   "cell_type": "code",
   "execution_count": 10,
   "id": "e92644b1",
   "metadata": {},
   "outputs": [],
   "source": [
    "# Reset the index\n",
    "df=df.reset_index()"
   ]
  },
  {
   "cell_type": "code",
   "execution_count": 11,
   "id": "d3db2da8",
   "metadata": {},
   "outputs": [],
   "source": [
    "df=df.drop(columns='index')"
   ]
  },
  {
   "cell_type": "code",
   "execution_count": 12,
   "id": "16d849fd",
   "metadata": {},
   "outputs": [
    {
     "data": {
      "text/html": [
       "<div>\n",
       "<style scoped>\n",
       "    .dataframe tbody tr th:only-of-type {\n",
       "        vertical-align: middle;\n",
       "    }\n",
       "\n",
       "    .dataframe tbody tr th {\n",
       "        vertical-align: top;\n",
       "    }\n",
       "\n",
       "    .dataframe thead th {\n",
       "        text-align: right;\n",
       "    }\n",
       "</style>\n",
       "<table border=\"1\" class=\"dataframe\">\n",
       "  <thead>\n",
       "    <tr style=\"text-align: right;\">\n",
       "      <th></th>\n",
       "      <th>Review</th>\n",
       "      <th>Ratings</th>\n",
       "      <th>Text</th>\n",
       "    </tr>\n",
       "  </thead>\n",
       "  <tbody>\n",
       "    <tr>\n",
       "      <th>0</th>\n",
       "      <td>Overall worthy Laptop</td>\n",
       "      <td>5</td>\n",
       "      <td>I boght this laptop for mainly multitasking an...</td>\n",
       "    </tr>\n",
       "    <tr>\n",
       "      <th>1</th>\n",
       "      <td>Durable solid laptop.</td>\n",
       "      <td>NaN</td>\n",
       "      <td>The laptop is good for this price point.\\nFirs...</td>\n",
       "    </tr>\n",
       "    <tr>\n",
       "      <th>2</th>\n",
       "      <td>Perfect except the battery backup.</td>\n",
       "      <td>5</td>\n",
       "      <td>Lasts 4 hours of lite work and 2x4gb ram has t...</td>\n",
       "    </tr>\n",
       "    <tr>\n",
       "      <th>3</th>\n",
       "      <td>Good Value for money Laptop</td>\n",
       "      <td>NaN</td>\n",
       "      <td>Thin Gaming Laptop with good build quality. Go...</td>\n",
       "    </tr>\n",
       "    <tr>\n",
       "      <th>4</th>\n",
       "      <td>Excellent laptop</td>\n",
       "      <td>5</td>\n",
       "      <td>Excellent service by Amazon. Good laptop with ...</td>\n",
       "    </tr>\n",
       "    <tr>\n",
       "      <th>...</th>\n",
       "      <td>...</td>\n",
       "      <td>...</td>\n",
       "      <td>...</td>\n",
       "    </tr>\n",
       "    <tr>\n",
       "      <th>9722</th>\n",
       "      <td>I LOVED IT!</td>\n",
       "      <td>5</td>\n",
       "      <td>First off, this monitor is great simply becaus...</td>\n",
       "    </tr>\n",
       "    <tr>\n",
       "      <th>9723</th>\n",
       "      <td>Delightful</td>\n",
       "      <td>4</td>\n",
       "      <td>In this Price the monitor is awesome one can b...</td>\n",
       "    </tr>\n",
       "    <tr>\n",
       "      <th>9724</th>\n",
       "      <td>Wonderful</td>\n",
       "      <td>5</td>\n",
       "      <td>Nice picture Quality</td>\n",
       "    </tr>\n",
       "    <tr>\n",
       "      <th>9725</th>\n",
       "      <td>Wonderful</td>\n",
       "      <td>5</td>\n",
       "      <td>best product</td>\n",
       "    </tr>\n",
       "    <tr>\n",
       "      <th>9726</th>\n",
       "      <td>Simply awesome</td>\n",
       "      <td>5</td>\n",
       "      <td>Wonderful.and nice product</td>\n",
       "    </tr>\n",
       "  </tbody>\n",
       "</table>\n",
       "<p>9727 rows × 3 columns</p>\n",
       "</div>"
      ],
      "text/plain": [
       "                                  Review Ratings  \\\n",
       "0                  Overall worthy Laptop       5   \n",
       "1                  Durable solid laptop.     NaN   \n",
       "2     Perfect except the battery backup.       5   \n",
       "3            Good Value for money Laptop     NaN   \n",
       "4                       Excellent laptop       5   \n",
       "...                                  ...     ...   \n",
       "9722                         I LOVED IT!       5   \n",
       "9723                          Delightful       4   \n",
       "9724                           Wonderful       5   \n",
       "9725                           Wonderful       5   \n",
       "9726                      Simply awesome       5   \n",
       "\n",
       "                                                   Text  \n",
       "0     I boght this laptop for mainly multitasking an...  \n",
       "1     The laptop is good for this price point.\\nFirs...  \n",
       "2     Lasts 4 hours of lite work and 2x4gb ram has t...  \n",
       "3     Thin Gaming Laptop with good build quality. Go...  \n",
       "4     Excellent service by Amazon. Good laptop with ...  \n",
       "...                                                 ...  \n",
       "9722  First off, this monitor is great simply becaus...  \n",
       "9723  In this Price the monitor is awesome one can b...  \n",
       "9724                               Nice picture Quality  \n",
       "9725                                       best product  \n",
       "9726                         Wonderful.and nice product  \n",
       "\n",
       "[9727 rows x 3 columns]"
      ]
     },
     "execution_count": 12,
     "metadata": {},
     "output_type": "execute_result"
    }
   ],
   "source": [
    "df"
   ]
  },
  {
   "cell_type": "markdown",
   "id": "34bb55de",
   "metadata": {},
   "source": [
    "# EDA"
   ]
  },
  {
   "cell_type": "markdown",
   "id": "a9c14100",
   "metadata": {},
   "source": [
    "# Data Pre-Processing "
   ]
  },
  {
   "cell_type": "code",
   "execution_count": 13,
   "id": "9d2be3bd",
   "metadata": {},
   "outputs": [
    {
     "data": {
      "text/html": [
       "<div>\n",
       "<style scoped>\n",
       "    .dataframe tbody tr th:only-of-type {\n",
       "        vertical-align: middle;\n",
       "    }\n",
       "\n",
       "    .dataframe tbody tr th {\n",
       "        vertical-align: top;\n",
       "    }\n",
       "\n",
       "    .dataframe thead th {\n",
       "        text-align: right;\n",
       "    }\n",
       "</style>\n",
       "<table border=\"1\" class=\"dataframe\">\n",
       "  <thead>\n",
       "    <tr style=\"text-align: right;\">\n",
       "      <th></th>\n",
       "      <th>Review</th>\n",
       "      <th>Ratings</th>\n",
       "      <th>Text</th>\n",
       "    </tr>\n",
       "  </thead>\n",
       "  <tbody>\n",
       "    <tr>\n",
       "      <th>0</th>\n",
       "      <td>overall worthy laptop</td>\n",
       "      <td>5</td>\n",
       "      <td>i boght this laptop for mainly multitasking an...</td>\n",
       "    </tr>\n",
       "    <tr>\n",
       "      <th>1</th>\n",
       "      <td>durable solid laptop.</td>\n",
       "      <td>NaN</td>\n",
       "      <td>the laptop is good for this price point.\\nfirs...</td>\n",
       "    </tr>\n",
       "    <tr>\n",
       "      <th>2</th>\n",
       "      <td>perfect except the battery backup.</td>\n",
       "      <td>5</td>\n",
       "      <td>lasts 4 hours of lite work and 2x4gb ram has t...</td>\n",
       "    </tr>\n",
       "    <tr>\n",
       "      <th>3</th>\n",
       "      <td>good value for money laptop</td>\n",
       "      <td>NaN</td>\n",
       "      <td>thin gaming laptop with good build quality. go...</td>\n",
       "    </tr>\n",
       "    <tr>\n",
       "      <th>4</th>\n",
       "      <td>excellent laptop</td>\n",
       "      <td>5</td>\n",
       "      <td>excellent service by amazon. good laptop with ...</td>\n",
       "    </tr>\n",
       "    <tr>\n",
       "      <th>...</th>\n",
       "      <td>...</td>\n",
       "      <td>...</td>\n",
       "      <td>...</td>\n",
       "    </tr>\n",
       "    <tr>\n",
       "      <th>9722</th>\n",
       "      <td>i loved it!</td>\n",
       "      <td>5</td>\n",
       "      <td>first off, this monitor is great simply becaus...</td>\n",
       "    </tr>\n",
       "    <tr>\n",
       "      <th>9723</th>\n",
       "      <td>delightful</td>\n",
       "      <td>4</td>\n",
       "      <td>in this price the monitor is awesome one can b...</td>\n",
       "    </tr>\n",
       "    <tr>\n",
       "      <th>9724</th>\n",
       "      <td>wonderful</td>\n",
       "      <td>5</td>\n",
       "      <td>nice picture quality</td>\n",
       "    </tr>\n",
       "    <tr>\n",
       "      <th>9725</th>\n",
       "      <td>wonderful</td>\n",
       "      <td>5</td>\n",
       "      <td>best product</td>\n",
       "    </tr>\n",
       "    <tr>\n",
       "      <th>9726</th>\n",
       "      <td>simply awesome</td>\n",
       "      <td>5</td>\n",
       "      <td>wonderful.and nice product</td>\n",
       "    </tr>\n",
       "  </tbody>\n",
       "</table>\n",
       "<p>9727 rows × 3 columns</p>\n",
       "</div>"
      ],
      "text/plain": [
       "                                  Review Ratings  \\\n",
       "0                  overall worthy laptop       5   \n",
       "1                  durable solid laptop.     NaN   \n",
       "2     perfect except the battery backup.       5   \n",
       "3            good value for money laptop     NaN   \n",
       "4                       excellent laptop       5   \n",
       "...                                  ...     ...   \n",
       "9722                         i loved it!       5   \n",
       "9723                          delightful       4   \n",
       "9724                           wonderful       5   \n",
       "9725                           wonderful       5   \n",
       "9726                      simply awesome       5   \n",
       "\n",
       "                                                   Text  \n",
       "0     i boght this laptop for mainly multitasking an...  \n",
       "1     the laptop is good for this price point.\\nfirs...  \n",
       "2     lasts 4 hours of lite work and 2x4gb ram has t...  \n",
       "3     thin gaming laptop with good build quality. go...  \n",
       "4     excellent service by amazon. good laptop with ...  \n",
       "...                                                 ...  \n",
       "9722  first off, this monitor is great simply becaus...  \n",
       "9723  in this price the monitor is awesome one can b...  \n",
       "9724                               nice picture quality  \n",
       "9725                                       best product  \n",
       "9726                         wonderful.and nice product  \n",
       "\n",
       "[9727 rows x 3 columns]"
      ]
     },
     "execution_count": 13,
     "metadata": {},
     "output_type": "execute_result"
    }
   ],
   "source": [
    "#Converting all capital letter into small letters\n",
    "for i in df:\n",
    "    df[i] =df[i].str.lower()\n",
    "df"
   ]
  },
  {
   "cell_type": "code",
   "execution_count": 14,
   "id": "17d0a662",
   "metadata": {},
   "outputs": [],
   "source": [
    "# Replacing '-' value with nan to reat well by using Imputer tech.\n",
    "df['Ratings']=df['Ratings'].replace('-', np.nan)"
   ]
  },
  {
   "cell_type": "code",
   "execution_count": 15,
   "id": "e5fcee77",
   "metadata": {},
   "outputs": [
    {
     "data": {
      "text/plain": [
       "5    4779\n",
       "4     425\n",
       "3      80\n",
       "1      52\n",
       "2      19\n",
       "Name: Ratings, dtype: int64"
      ]
     },
     "execution_count": 15,
     "metadata": {},
     "output_type": "execute_result"
    }
   ],
   "source": [
    "#Checking again the counts\n",
    "df['Ratings'].value_counts()"
   ]
  },
  {
   "cell_type": "code",
   "execution_count": 16,
   "id": "307ad44c",
   "metadata": {},
   "outputs": [
    {
     "data": {
      "text/plain": [
       "0    5\n",
       "Name: Ratings, dtype: object"
      ]
     },
     "execution_count": 16,
     "metadata": {},
     "output_type": "execute_result"
    }
   ],
   "source": [
    "df['Ratings'].mode()"
   ]
  },
  {
   "cell_type": "code",
   "execution_count": 17,
   "id": "356d062b",
   "metadata": {},
   "outputs": [],
   "source": [
    "df['Ratings']=df['Ratings'].replace(np.nan, '5').astype(int)"
   ]
  },
  {
   "cell_type": "code",
   "execution_count": 18,
   "id": "64b29c90",
   "metadata": {},
   "outputs": [
    {
     "data": {
      "text/plain": [
       "5    9151\n",
       "4     425\n",
       "3      80\n",
       "1      52\n",
       "2      19\n",
       "Name: Ratings, dtype: int64"
      ]
     },
     "execution_count": 18,
     "metadata": {},
     "output_type": "execute_result"
    }
   ],
   "source": [
    "#Checking again the counts\n",
    "df['Ratings'].value_counts()"
   ]
  },
  {
   "cell_type": "code",
   "execution_count": 19,
   "id": "e166dd17",
   "metadata": {
    "scrolled": true
   },
   "outputs": [
    {
     "name": "stdout",
     "output_type": "stream",
     "text": [
      "['!', '\"', '#', '$', '%', '&', \"'\", '(', ')', '*', '+', ',', '-', '.', '/', ':', ';', '<', '=', '>', '?', '@', '[', '\\\\', ']', '^', '_', '`', '{', '|', '}', '~']\n",
      "     Review  Ratings                                               Text\n",
      "135       -        5                   nice to operate, feel premium...\n",
      "224       -        5                                               nice\n",
      "373       -        5                                 very nyc product 👍\n",
      "997       -        5                                    congratulations\n",
      "2115      -        5  this is a genuine phone by google. i really li...\n",
      "3378      -        5  awesome product from jbl. the main draw back i...\n",
      "3586      -        5                                               good\n",
      "3809      -        5  top base quality and sound is very high too. v...\n",
      "4243      -        5                          good see and nice product\n",
      "4653      -        5                                i like this product\n",
      "4922      -        5  first of all its 1.8” display say the big scre...\n",
      "5472      -        5                     for bigneer it's a good camera\n",
      "5508      -        5                                                  -\n",
      "5636      -        5  vrry good laptop amazing it do have a good loo...\n",
      "6066      -        5                                       good product\n",
      "6953      -        5  on this price best phone 🤳. my mom like the ph...\n",
      "7982      -        5  hey everyone! i received this headphone last d...\n",
      "8703      -        5  very useful for daily monitoring of health and...\n",
      "8724      -        5  the watch feels pretty premium but it's super ...\n",
      "8747      -        5  it will record your data and improve accuracy ...\n"
     ]
    }
   ],
   "source": [
    "# Checking special characater if any\n",
    "import string\n",
    "alphabet = string.punctuation\n",
    "list1=list(alphabet)\n",
    "print(list1)\n",
    "\n",
    "# contain the given list if strings\n",
    "print(df[df['Review'].isin(list1)])"
   ]
  },
  {
   "cell_type": "code",
   "execution_count": 20,
   "id": "c7c2ca38",
   "metadata": {},
   "outputs": [
    {
     "name": "stdout",
     "output_type": "stream",
     "text": [
      "                                              Review  Ratings Text\n",
      "66                          really loved this laptop        5    -\n",
      "95             amazing product and lightening speed.        5    -\n",
      "153            voice is little low eals all are good        5    -\n",
      "173    perfect basic touchscreen laptop in 20k range        5    -\n",
      "355                awesome look and good performance        5    -\n",
      "...                                              ...      ...  ...\n",
      "7914                 one of the best earphones ever.        5    -\n",
      "8147                                           great        5    -\n",
      "8170              very good and awesome tw earbud...        5    -\n",
      "8559        awesome sound quality value for money...        5    -\n",
      "8688  only earphone that lasted for more than a year        5    -\n",
      "\n",
      "[109 rows x 3 columns]\n"
     ]
    }
   ],
   "source": [
    "# contain the given list if strings\n",
    "print(df[df['Text'].isin(list1)])"
   ]
  },
  {
   "cell_type": "markdown",
   "id": "3b2c9a91",
   "metadata": {},
   "source": [
    "As we see in our dataset we have some special charactor so, lets deal with it first."
   ]
  },
  {
   "cell_type": "code",
   "execution_count": 21,
   "id": "51505966",
   "metadata": {},
   "outputs": [],
   "source": [
    "# remove special character\n",
    "df['Review'] = df['Review'].str.replace(\".\", \"\")\n",
    "df['Review'] = df['Review'].str.replace(\"!\", \"\")\n",
    "df['Review'] = df['Review'].str.replace(\"&\", \"\")\n",
    "df['Review'] = df['Review'].str.replace(\"#\", \"\")\n",
    "df['Review'] = df['Review'].str.replace(\"@\", \"\")\n",
    "df['Review'] = df['Review'].str.replace(\"4\", \"\")\n",
    "df['Review'] = df['Review'].str.replace(\"\\n\", \"\")\n",
    "df['Review'] = df['Review'].str.replace(\"=\", \"\")\n",
    "df['Review'] = df['Review'].str.replace(\"-\", \"\")\n",
    "df['Review'] = df['Review'].str.replace(\"_\", \"\")\n",
    "df['Review'] = df['Review'].str.replace(\"/\", \"\")\n",
    "df['Review'] = df['Review'].str.replace(\"^\", \"\")\n",
    "df['Review'] = df['Review'].str.replace(\",\", \"\")"
   ]
  },
  {
   "cell_type": "code",
   "execution_count": 22,
   "id": "1edd05aa",
   "metadata": {},
   "outputs": [],
   "source": [
    "df['Text'] = df['Text'].str.replace(\".\", \"\")\n",
    "df['Text'] = df['Text'].str.replace(\"!\", \"\")\n",
    "df['Text'] = df['Text'].str.replace(\"&\", \"\")\n",
    "df['Text'] = df['Text'].str.replace(\"#\", \"\")\n",
    "df['Text'] = df['Text'].str.replace(\"@\", \"\")\n",
    "df['Text'] = df['Text'].str.replace(\"4\", \"\")\n",
    "df['Text'] = df['Text'].str.replace(\"\\n\", \"\")\n",
    "df['Text'] = df['Text'].str.replace(\"=\", \"\")\n",
    "df['Text'] = df['Text'].str.replace(\"-\", \"\")\n",
    "df['Text'] = df['Text'].str.replace(\"_\", \"\")\n",
    "df['Text'] = df['Text'].str.replace(\"/\", \"\")\n",
    "df['Text'] = df['Text'].str.replace(\"^\", \"\")\n",
    "df['Text'] = df['Text'].str.replace(\",\", \"\")\n",
    "df['Text'] = df['Text'].str.replace(\"2\", \"\")\n",
    "df['Text'] = df['Text'].str.replace(\":\", \"\")\n",
    "df['Text'] = df['Text'].str.replace(\";\", \"\")\n",
    "df['Text'] = df['Text'].str.replace(\"?\", \"\")"
   ]
  },
  {
   "cell_type": "code",
   "execution_count": 23,
   "id": "9cc09fff",
   "metadata": {},
   "outputs": [
    {
     "data": {
      "text/html": [
       "<div>\n",
       "<style scoped>\n",
       "    .dataframe tbody tr th:only-of-type {\n",
       "        vertical-align: middle;\n",
       "    }\n",
       "\n",
       "    .dataframe tbody tr th {\n",
       "        vertical-align: top;\n",
       "    }\n",
       "\n",
       "    .dataframe thead th {\n",
       "        text-align: right;\n",
       "    }\n",
       "</style>\n",
       "<table border=\"1\" class=\"dataframe\">\n",
       "  <thead>\n",
       "    <tr style=\"text-align: right;\">\n",
       "      <th></th>\n",
       "      <th>Review</th>\n",
       "      <th>Ratings</th>\n",
       "      <th>Text</th>\n",
       "    </tr>\n",
       "  </thead>\n",
       "  <tbody>\n",
       "    <tr>\n",
       "      <th>0</th>\n",
       "      <td>overall worthy laptop</td>\n",
       "      <td>5</td>\n",
       "      <td>i boght this laptop for mainly multitasking an...</td>\n",
       "    </tr>\n",
       "    <tr>\n",
       "      <th>1</th>\n",
       "      <td>durable solid laptop</td>\n",
       "      <td>5</td>\n",
       "      <td>the laptop is good for this price pointfirst d...</td>\n",
       "    </tr>\n",
       "    <tr>\n",
       "      <th>2</th>\n",
       "      <td>perfect except the battery backup</td>\n",
       "      <td>5</td>\n",
       "      <td>lasts  hours of lite work and xgb ram has to b...</td>\n",
       "    </tr>\n",
       "    <tr>\n",
       "      <th>3</th>\n",
       "      <td>good value for money laptop</td>\n",
       "      <td>5</td>\n",
       "      <td>thin gaming laptop with good build quality goo...</td>\n",
       "    </tr>\n",
       "    <tr>\n",
       "      <th>4</th>\n",
       "      <td>excellent laptop</td>\n",
       "      <td>5</td>\n",
       "      <td>excellent service by amazon good laptop with b...</td>\n",
       "    </tr>\n",
       "    <tr>\n",
       "      <th>...</th>\n",
       "      <td>...</td>\n",
       "      <td>...</td>\n",
       "      <td>...</td>\n",
       "    </tr>\n",
       "    <tr>\n",
       "      <th>9722</th>\n",
       "      <td>i loved it</td>\n",
       "      <td>5</td>\n",
       "      <td>first off this monitor is great simply because...</td>\n",
       "    </tr>\n",
       "    <tr>\n",
       "      <th>9723</th>\n",
       "      <td>delightful</td>\n",
       "      <td>4</td>\n",
       "      <td>in this price the monitor is awesome one can b...</td>\n",
       "    </tr>\n",
       "    <tr>\n",
       "      <th>9724</th>\n",
       "      <td>wonderful</td>\n",
       "      <td>5</td>\n",
       "      <td>nice picture quality</td>\n",
       "    </tr>\n",
       "    <tr>\n",
       "      <th>9725</th>\n",
       "      <td>wonderful</td>\n",
       "      <td>5</td>\n",
       "      <td>best product</td>\n",
       "    </tr>\n",
       "    <tr>\n",
       "      <th>9726</th>\n",
       "      <td>simply awesome</td>\n",
       "      <td>5</td>\n",
       "      <td>wonderfuland nice product</td>\n",
       "    </tr>\n",
       "  </tbody>\n",
       "</table>\n",
       "<p>9727 rows × 3 columns</p>\n",
       "</div>"
      ],
      "text/plain": [
       "                                 Review  Ratings  \\\n",
       "0                 overall worthy laptop        5   \n",
       "1                  durable solid laptop        5   \n",
       "2     perfect except the battery backup        5   \n",
       "3           good value for money laptop        5   \n",
       "4                      excellent laptop        5   \n",
       "...                                 ...      ...   \n",
       "9722                         i loved it        5   \n",
       "9723                         delightful        4   \n",
       "9724                          wonderful        5   \n",
       "9725                          wonderful        5   \n",
       "9726                     simply awesome        5   \n",
       "\n",
       "                                                   Text  \n",
       "0     i boght this laptop for mainly multitasking an...  \n",
       "1     the laptop is good for this price pointfirst d...  \n",
       "2     lasts  hours of lite work and xgb ram has to b...  \n",
       "3     thin gaming laptop with good build quality goo...  \n",
       "4     excellent service by amazon good laptop with b...  \n",
       "...                                                 ...  \n",
       "9722  first off this monitor is great simply because...  \n",
       "9723  in this price the monitor is awesome one can b...  \n",
       "9724                               nice picture quality  \n",
       "9725                                       best product  \n",
       "9726                          wonderfuland nice product  \n",
       "\n",
       "[9727 rows x 3 columns]"
      ]
     },
     "execution_count": 23,
     "metadata": {},
     "output_type": "execute_result"
    }
   ],
   "source": [
    "df"
   ]
  },
  {
   "cell_type": "code",
   "execution_count": 24,
   "id": "2f27ca1c",
   "metadata": {},
   "outputs": [
    {
     "data": {
      "text/plain": [
       "['Review', 'Text']"
      ]
     },
     "execution_count": 24,
     "metadata": {},
     "output_type": "execute_result"
    }
   ],
   "source": [
    "# lets seaprate the catogorical data & numirical data\n",
    "numerics=['int8','int16','int32','int64','float16','float32','float64']\n",
    "cat_col=[] #empty list\n",
    "features=df.columns.values.tolist()\n",
    "for i in features:\n",
    "    if df[i].dtype in numerics:\n",
    "        continue\n",
    "    cat_col.append(i)\n",
    "cat_col"
   ]
  },
  {
   "cell_type": "code",
   "execution_count": 25,
   "id": "c2a307b3",
   "metadata": {},
   "outputs": [],
   "source": [
    "# Lets frist covert categorical data(type & column) into int \n",
    "label = LabelEncoder()\n",
    "for i in cat_col:\n",
    "    data=label.fit_transform(df[i])\n",
    "    pd.Series(data)\n",
    "    df[i]=data"
   ]
  },
  {
   "cell_type": "code",
   "execution_count": 26,
   "id": "d1c3c265",
   "metadata": {},
   "outputs": [
    {
     "data": {
      "text/html": [
       "<div>\n",
       "<style scoped>\n",
       "    .dataframe tbody tr th:only-of-type {\n",
       "        vertical-align: middle;\n",
       "    }\n",
       "\n",
       "    .dataframe tbody tr th {\n",
       "        vertical-align: top;\n",
       "    }\n",
       "\n",
       "    .dataframe thead th {\n",
       "        text-align: right;\n",
       "    }\n",
       "</style>\n",
       "<table border=\"1\" class=\"dataframe\">\n",
       "  <thead>\n",
       "    <tr style=\"text-align: right;\">\n",
       "      <th></th>\n",
       "      <th>Review</th>\n",
       "      <th>Ratings</th>\n",
       "      <th>Text</th>\n",
       "    </tr>\n",
       "  </thead>\n",
       "  <tbody>\n",
       "    <tr>\n",
       "      <th>0</th>\n",
       "      <td>1663</td>\n",
       "      <td>5</td>\n",
       "      <td>1357</td>\n",
       "    </tr>\n",
       "    <tr>\n",
       "      <th>1</th>\n",
       "      <td>729</td>\n",
       "      <td>5</td>\n",
       "      <td>3034</td>\n",
       "    </tr>\n",
       "    <tr>\n",
       "      <th>2</th>\n",
       "      <td>1677</td>\n",
       "      <td>5</td>\n",
       "      <td>2088</td>\n",
       "    </tr>\n",
       "  </tbody>\n",
       "</table>\n",
       "</div>"
      ],
      "text/plain": [
       "   Review  Ratings  Text\n",
       "0    1663        5  1357\n",
       "1     729        5  3034\n",
       "2    1677        5  2088"
      ]
     },
     "execution_count": 26,
     "metadata": {},
     "output_type": "execute_result"
    }
   ],
   "source": [
    "df.head(3)"
   ]
  },
  {
   "cell_type": "markdown",
   "id": "9152dd7a",
   "metadata": {},
   "source": [
    "Iterative Imputer\n",
    "\n",
    "Iterative imputer is a hidden gem of the sklearn library in python. The iterative imputer library provides us with tools to tackle the problem mentioned above. Instead of just replacing values with mean/median, we can have a regressor (Linear/Decision Tree/Random Forest/KNN) to impute missing values. By using the iterative imputer we can intelligently impute the missing values, avoid bias, maintain the relationship between variables, and can get better results."
   ]
  },
  {
   "cell_type": "code",
   "execution_count": 27,
   "id": "f36c0233",
   "metadata": {},
   "outputs": [],
   "source": [
    "# Creating null value list which we want to impute by using iterative inputer\n",
    "data=df[['Review', 'Ratings', 'Text']]"
   ]
  },
  {
   "cell_type": "code",
   "execution_count": 28,
   "id": "8c6f7300",
   "metadata": {},
   "outputs": [],
   "source": [
    "from sklearn.experimental import enable_iterative_imputer\n",
    "from sklearn.impute import IterativeImputer\n",
    "imputer = IterativeImputer()\n",
    "\n",
    "for i in data:\n",
    "    df1=imputer.fit_transform(df[[i]])\n",
    "    pd.Series([df1])\n",
    "    df[i]=df1"
   ]
  },
  {
   "cell_type": "code",
   "execution_count": 29,
   "id": "b3ba1c0b",
   "metadata": {},
   "outputs": [
    {
     "name": "stdout",
     "output_type": "stream",
     "text": [
      "Review     0\n",
      "Ratings    0\n",
      "Text       0\n",
      "dtype: int64\n"
     ]
    }
   ],
   "source": [
    "# Rechecking the null values again after treating with Imputer Tech.\n",
    "print(df.isna().sum())"
   ]
  },
  {
   "cell_type": "markdown",
   "id": "435b06aa",
   "metadata": {},
   "source": [
    "Now lets move further."
   ]
  },
  {
   "cell_type": "markdown",
   "id": "b8616a05",
   "metadata": {},
   "source": [
    "# Data Visualization"
   ]
  },
  {
   "cell_type": "markdown",
   "id": "d559081f",
   "metadata": {},
   "source": [
    "# Univariate Plots"
   ]
  },
  {
   "cell_type": "code",
   "execution_count": 30,
   "id": "ad0ff490",
   "metadata": {},
   "outputs": [
    {
     "data": {
      "image/png": "[encoded data removed]",
      "text/plain": [
       "<Figure size 432x288 with 1 Axes>"
      ]
     },
     "metadata": {
      "needs_background": "light"
     },
     "output_type": "display_data"
    },
    {
     "name": "stdout",
     "output_type": "stream",
     "text": [
      "5.0    9151\n",
      "4.0     425\n",
      "3.0      80\n",
      "1.0      52\n",
      "2.0      19\n",
      "Name: Ratings, dtype: int64\n"
     ]
    }
   ],
   "source": [
    "#plot each class frequency\n",
    "sns.countplot(x='Ratings',data=df)\n",
    "plt.show()\n",
    "print(df['Ratings'].value_counts())"
   ]
  },
  {
   "cell_type": "markdown",
   "id": "522dcb21",
   "metadata": {},
   "source": [
    "From graph we can see that their are maximum rating count is for 4 & 5 category."
   ]
  },
  {
   "cell_type": "code",
   "execution_count": 31,
   "id": "3b840347",
   "metadata": {},
   "outputs": [
    {
     "data": {
      "image/png": "[encoded data removed]",
      "text/plain": [
       "<Figure size 432x288 with 1 Axes>"
      ]
     },
     "metadata": {
      "needs_background": "light"
     },
     "output_type": "display_data"
    },
    {
     "name": "stdout",
     "output_type": "stream",
     "text": [
      "885.0     260\n",
      "2118.0    192\n",
      "984.0     161\n",
      "1523.0    135\n",
      "743.0     131\n",
      "         ... \n",
      "1934.0      1\n",
      "1111.0      1\n",
      "2025.0      1\n",
      "1891.0      1\n",
      "1199.0      1\n",
      "Name: Review, Length: 2388, dtype: int64\n"
     ]
    }
   ],
   "source": [
    "#plot each class frequency\n",
    "df['Review'].plot.hist()\n",
    "plt.show()\n",
    "print(df['Review'].value_counts())"
   ]
  },
  {
   "cell_type": "markdown",
   "id": "911e540e",
   "metadata": {},
   "source": [
    "From Graph we can see that the maximum review category is 885."
   ]
  },
  {
   "cell_type": "code",
   "execution_count": 32,
   "id": "16a3b1ec",
   "metadata": {},
   "outputs": [
    {
     "data": {
      "image/png": "[encoded data removed]",
      "text/plain": [
       "<Figure size 432x288 with 1 Axes>"
      ]
     },
     "metadata": {
      "needs_background": "light"
     },
     "output_type": "display_data"
    },
    {
     "name": "stdout",
     "output_type": "stream",
     "text": [
      "3826.0    179\n",
      "980.0     165\n",
      "0.0       109\n",
      "1076.0     60\n",
      "2236.0     58\n",
      "         ... \n",
      "3622.0      1\n",
      "694.0       1\n",
      "3706.0      1\n",
      "141.0       1\n",
      "3729.0      1\n",
      "Name: Text, Length: 3827, dtype: int64\n"
     ]
    }
   ],
   "source": [
    "#plot each class frequency\n",
    "df['Text'].plot.hist()\n",
    "plt.show()\n",
    "print(df['Text'].value_counts())"
   ]
  },
  {
   "cell_type": "markdown",
   "id": "952d0f3a",
   "metadata": {},
   "source": [
    "The maximum no. of text written of 3826 category."
   ]
  },
  {
   "cell_type": "markdown",
   "id": "20c9117c",
   "metadata": {},
   "source": [
    "# Bivariant Plot"
   ]
  },
  {
   "cell_type": "code",
   "execution_count": 33,
   "id": "9db0a317",
   "metadata": {},
   "outputs": [
    {
     "data": {
      "image/png": "[encoded data removed]",
      "text/plain": [
       "<Figure size 720x288 with 1 Axes>"
      ]
     },
     "metadata": {
      "needs_background": "light"
     },
     "output_type": "display_data"
    }
   ],
   "source": [
    "#Bivariant graph\n",
    "plt.figure(figsize =(10, 4))\n",
    "sns.lineplot(x ='Text', y ='Ratings', data = df)\n",
    "plt.show()"
   ]
  },
  {
   "cell_type": "code",
   "execution_count": 34,
   "id": "26ac1c67",
   "metadata": {},
   "outputs": [
    {
     "data": {
      "image/png": "[encoded data removed]",
      "text/plain": [
       "<Figure size 432x288 with 1 Axes>"
      ]
     },
     "metadata": {
      "needs_background": "light"
     },
     "output_type": "display_data"
    }
   ],
   "source": [
    "#Bivariant graph\n",
    "plt.figure(figsize =(6, 4))\n",
    "sns.scatterplot(x ='Review', y ='Ratings', data = df)\n",
    "plt.show()"
   ]
  },
  {
   "cell_type": "markdown",
   "id": "ba0f6e69",
   "metadata": {},
   "source": [
    "# Lets Check Correlation"
   ]
  },
  {
   "cell_type": "code",
   "execution_count": 35,
   "id": "85f7c981",
   "metadata": {},
   "outputs": [
    {
     "data": {
      "text/html": [
       "<div>\n",
       "<style scoped>\n",
       "    .dataframe tbody tr th:only-of-type {\n",
       "        vertical-align: middle;\n",
       "    }\n",
       "\n",
       "    .dataframe tbody tr th {\n",
       "        vertical-align: top;\n",
       "    }\n",
       "\n",
       "    .dataframe thead th {\n",
       "        text-align: right;\n",
       "    }\n",
       "</style>\n",
       "<table border=\"1\" class=\"dataframe\">\n",
       "  <thead>\n",
       "    <tr style=\"text-align: right;\">\n",
       "      <th></th>\n",
       "      <th>Review</th>\n",
       "      <th>Ratings</th>\n",
       "      <th>Text</th>\n",
       "    </tr>\n",
       "  </thead>\n",
       "  <tbody>\n",
       "    <tr>\n",
       "      <th>Review</th>\n",
       "      <td>1.000000</td>\n",
       "      <td>-0.028266</td>\n",
       "      <td>0.018220</td>\n",
       "    </tr>\n",
       "    <tr>\n",
       "      <th>Ratings</th>\n",
       "      <td>-0.028266</td>\n",
       "      <td>1.000000</td>\n",
       "      <td>-0.005997</td>\n",
       "    </tr>\n",
       "    <tr>\n",
       "      <th>Text</th>\n",
       "      <td>0.018220</td>\n",
       "      <td>-0.005997</td>\n",
       "      <td>1.000000</td>\n",
       "    </tr>\n",
       "  </tbody>\n",
       "</table>\n",
       "</div>"
      ],
      "text/plain": [
       "           Review   Ratings      Text\n",
       "Review   1.000000 -0.028266  0.018220\n",
       "Ratings -0.028266  1.000000 -0.005997\n",
       "Text     0.018220 -0.005997  1.000000"
      ]
     },
     "execution_count": 35,
     "metadata": {},
     "output_type": "execute_result"
    }
   ],
   "source": [
    "df.corr()"
   ]
  },
  {
   "cell_type": "markdown",
   "id": "8a52fd02",
   "metadata": {},
   "source": [
    "From above .corr method we can sse the correlation between independant variable and dependant variable. There are some +ve and -ve correlation with target variable of independant variable. Lets visualise the same by plotting the heatmap."
   ]
  },
  {
   "cell_type": "code",
   "execution_count": 36,
   "id": "e8f8cb25",
   "metadata": {},
   "outputs": [
    {
     "data": {
      "image/png": "[encoded data removed]",
      "text/plain": [
       "<Figure size 432x432 with 2 Axes>"
      ]
     },
     "metadata": {
      "needs_background": "light"
     },
     "output_type": "display_data"
    }
   ],
   "source": [
    "plt.figure(figsize=(6,6))\n",
    "sns.heatmap(df.corr(), annot = True)\n",
    "plt.title(\"Correlation Matrix\")\n",
    "plt.savefig('Colinearity.png')\n",
    "plt.show()\n"
   ]
  },
  {
   "cell_type": "code",
   "execution_count": 37,
   "id": "f9c7e294",
   "metadata": {},
   "outputs": [
    {
     "data": {
      "text/plain": [
       "Ratings    1.000000\n",
       "Text      -0.005997\n",
       "Review    -0.028266\n",
       "Name: Ratings, dtype: float64"
      ]
     },
     "execution_count": 37,
     "metadata": {},
     "output_type": "execute_result"
    }
   ],
   "source": [
    "# Check correlation with target variable\n",
    "df.corr()['Ratings'].sort_values(ascending = False)"
   ]
  },
  {
   "cell_type": "markdown",
   "id": "6253c138",
   "metadata": {},
   "source": [
    "We can see we have very less relation with target variable."
   ]
  },
  {
   "cell_type": "markdown",
   "id": "f2594776",
   "metadata": {},
   "source": [
    "# Data Distribution"
   ]
  },
  {
   "cell_type": "code",
   "execution_count": 38,
   "id": "a7541b3e",
   "metadata": {},
   "outputs": [
    {
     "data": {
      "image/png": "[encoded data removed]",
      "text/plain": [
       "<Figure size 1080x1440 with 3 Axes>"
      ]
     },
     "metadata": {
      "needs_background": "light"
     },
     "output_type": "display_data"
    }
   ],
   "source": [
    "#Let's see the how data is distributed or Graphical analysis of all features\n",
    "plt.figure(figsize=(15,20))\n",
    "plotnumber=1\n",
    "for column in df:\n",
    "    if plotnumber<=40:\n",
    "        ax=plt.subplot(10,4,plotnumber)\n",
    "        sns.distplot(df[column])\n",
    "        plt.xlabel(column,fontsize=15)\n",
    "    plotnumber+=1\n",
    "plt.tight_layout()"
   ]
  },
  {
   "cell_type": "markdown",
   "id": "64cb46e6",
   "metadata": {},
   "source": [
    "From graph we can see that the almost every columns have skewness, now lets check with skew values also."
   ]
  },
  {
   "cell_type": "code",
   "execution_count": 39,
   "id": "eb9788ef",
   "metadata": {},
   "outputs": [
    {
     "data": {
      "text/plain": [
       "Text       0.053238\n",
       "Review     0.008295\n",
       "Ratings   -6.425951\n",
       "dtype: float64"
      ]
     },
     "execution_count": 39,
     "metadata": {},
     "output_type": "execute_result"
    }
   ],
   "source": [
    "# Check skewness by skew value\n",
    "df.skew().sort_values(ascending=False)"
   ]
  },
  {
   "cell_type": "markdown",
   "id": "d348ac87",
   "metadata": {},
   "source": [
    "skewness is present in target variable, so we are not treating with it & it is imbalanced also so lets deal with it one by one."
   ]
  },
  {
   "cell_type": "code",
   "execution_count": 40,
   "id": "e3fd342b",
   "metadata": {},
   "outputs": [],
   "source": [
    "# Separate the skewed columns\n",
    "df1=['Text','Review']\n",
    "\n",
    "# Using power transformation to remove skewed data\n",
    "from sklearn.preprocessing import PowerTransformer\n",
    "pt=PowerTransformer()\n",
    "df[df1]=pt.fit_transform(df[df1].values)"
   ]
  },
  {
   "cell_type": "code",
   "execution_count": 41,
   "id": "54bda824",
   "metadata": {},
   "outputs": [
    {
     "data": {
      "image/png": "[encoded data removed]",
      "text/plain": [
       "<Figure size 1080x1440 with 3 Axes>"
      ]
     },
     "metadata": {
      "needs_background": "light"
     },
     "output_type": "display_data"
    }
   ],
   "source": [
    "# Distribution after Power Transformation\n",
    "plt.figure(figsize=(15,20))\n",
    "plotnumber=1\n",
    "for column in df:\n",
    "    if plotnumber<=40:\n",
    "        ax=plt.subplot(10,4,plotnumber)\n",
    "        sns.distplot(df[column])\n",
    "        plt.xlabel(column,fontsize=15)\n",
    "    plotnumber+=1\n",
    "plt.tight_layout()"
   ]
  },
  {
   "cell_type": "code",
   "execution_count": 42,
   "id": "93399c83",
   "metadata": {},
   "outputs": [
    {
     "data": {
      "image/png": "[encoded data removed]",
      "text/plain": [
       "<Figure size 1440x1440 with 3 Axes>"
      ]
     },
     "metadata": {
      "needs_background": "light"
     },
     "output_type": "display_data"
    }
   ],
   "source": [
    "#Let's see the outliers in the dataset by using box plot or Graphical analysis of all features\n",
    "myFig=plt.figure(figsize=(20,20))\n",
    "plotnumber=1\n",
    "for column in df:\n",
    "    if plotnumber<=32:\n",
    "        ax=plt.subplot(8,4,plotnumber)\n",
    "        sns.boxplot(df[column])\n",
    "        plt.xlabel(column,fontsize=15)\n",
    "    plotnumber+=1\n",
    "plt.tight_layout()"
   ]
  },
  {
   "cell_type": "markdown",
   "id": "68715325",
   "metadata": {},
   "source": [
    "In rating column outliers are present due to imbalance of data, So lets use resampling tech."
   ]
  },
  {
   "cell_type": "code",
   "execution_count": 43,
   "id": "8ca46db9",
   "metadata": {},
   "outputs": [
    {
     "name": "stdout",
     "output_type": "stream",
     "text": [
      "(9727, 2) (9727,)\n"
     ]
    }
   ],
   "source": [
    "# Divide the dataset into features & target variable for further treatment\n",
    "x=df.drop('Ratings',axis=1)\n",
    "y=df['Ratings']\n",
    "print(x.shape, y.shape)"
   ]
  },
  {
   "cell_type": "markdown",
   "id": "bfb1dbb2",
   "metadata": {},
   "source": [
    "# Data stadardization"
   ]
  },
  {
   "cell_type": "code",
   "execution_count": 44,
   "id": "e58d850f",
   "metadata": {},
   "outputs": [],
   "source": [
    "# data stadardization\n",
    "scale=StandardScaler()\n",
    "x_scaled=scale.fit_transform(x)"
   ]
  },
  {
   "cell_type": "code",
   "execution_count": 45,
   "id": "d34b8707",
   "metadata": {},
   "outputs": [
    {
     "name": "stdout",
     "output_type": "stream",
     "text": [
      "        vif featurs\n",
      "0  1.000269  Review\n",
      "1  1.000269    Text\n"
     ]
    }
   ],
   "source": [
    "#check multicolinearity\n",
    "from statsmodels.stats.outliers_influence import variance_inflation_factor\n",
    "vif=pd.DataFrame()\n",
    "vif[\"vif\"]=[variance_inflation_factor(x_scaled,i) for i in range(x_scaled.shape[1])]\n",
    "vif[\"featurs\"]=x.columns\n",
    "print(vif)"
   ]
  },
  {
   "cell_type": "markdown",
   "id": "ffd2426e",
   "metadata": {},
   "source": [
    "Looking at the VIF factor there is no multicolinarity. lets move further."
   ]
  },
  {
   "cell_type": "code",
   "execution_count": 46,
   "id": "aadf4704",
   "metadata": {},
   "outputs": [
    {
     "data": {
      "image/png": "[encoded data removed]",
      "text/plain": [
       "<Figure size 1080x1440 with 2 Axes>"
      ]
     },
     "metadata": {
      "needs_background": "light"
     },
     "output_type": "display_data"
    }
   ],
   "source": [
    "# see how featurs r related to lable(Graphical Analysis)\n",
    "plt.figure(figsize=(15,20))\n",
    "plotnumber=1\n",
    "for column in x:\n",
    "    if plotnumber<=20:\n",
    "        ax=plt.subplot(5,4,plotnumber)\n",
    "        sns.lineplot(y,x[column])\n",
    "    plotnumber+=1\n",
    "plt.show()"
   ]
  },
  {
   "cell_type": "code",
   "execution_count": 47,
   "id": "bf78d636",
   "metadata": {},
   "outputs": [],
   "source": [
    "# data is imbalanced lets use SMOTE before that lets find the best random state"
   ]
  },
  {
   "cell_type": "markdown",
   "id": "fc2ea0eb",
   "metadata": {},
   "source": [
    "# Find the best Random state"
   ]
  },
  {
   "cell_type": "code",
   "execution_count": 48,
   "id": "b5a39a5a",
   "metadata": {},
   "outputs": [
    {
     "name": "stdout",
     "output_type": "stream",
     "text": [
      "at random sate 1, the training accuracy is:- 0.9399820074540548\n",
      "at random sate 1, the testing accuracy is:- 0.9439876670092497\n",
      "\n",
      "\n",
      "at random sate 2, the training accuracy is:- 0.9399820074540548\n",
      "at random sate 2, the testing accuracy is:- 0.9439876670092497\n",
      "\n",
      "\n",
      "at random sate 3, the training accuracy is:- 0.9399820074540548\n",
      "at random sate 3, the testing accuracy is:- 0.9439876670092497\n",
      "\n",
      "\n",
      "at random sate 4, the training accuracy is:- 0.9399820074540548\n",
      "at random sate 4, the testing accuracy is:- 0.9439876670092497\n",
      "\n",
      "\n",
      "at random sate 5, the training accuracy is:- 0.9399820074540548\n",
      "at random sate 5, the testing accuracy is:- 0.9439876670092497\n",
      "\n",
      "\n",
      "at random sate 6, the training accuracy is:- 0.9399820074540548\n",
      "at random sate 6, the testing accuracy is:- 0.9439876670092497\n",
      "\n",
      "\n",
      "at random sate 7, the training accuracy is:- 0.9399820074540548\n",
      "at random sate 7, the testing accuracy is:- 0.9439876670092497\n",
      "\n",
      "\n",
      "at random sate 8, the training accuracy is:- 0.9399820074540548\n",
      "at random sate 8, the testing accuracy is:- 0.9439876670092497\n",
      "\n",
      "\n",
      "at random sate 9, the training accuracy is:- 0.9399820074540548\n",
      "at random sate 9, the testing accuracy is:- 0.9439876670092497\n",
      "\n",
      "\n",
      "at random sate 10, the training accuracy is:- 0.9399820074540548\n",
      "at random sate 10, the testing accuracy is:- 0.9439876670092497\n",
      "\n",
      "\n",
      "at random sate 11, the training accuracy is:- 0.9399820074540548\n",
      "at random sate 11, the testing accuracy is:- 0.9439876670092497\n",
      "\n",
      "\n",
      "at random sate 12, the training accuracy is:- 0.9399820074540548\n",
      "at random sate 12, the testing accuracy is:- 0.9439876670092497\n",
      "\n",
      "\n",
      "at random sate 13, the training accuracy is:- 0.9399820074540548\n",
      "at random sate 13, the testing accuracy is:- 0.9439876670092497\n",
      "\n",
      "\n",
      "at random sate 14, the training accuracy is:- 0.9399820074540548\n",
      "at random sate 14, the testing accuracy is:- 0.9439876670092497\n",
      "\n",
      "\n",
      "at random sate 15, the training accuracy is:- 0.9399820074540548\n",
      "at random sate 15, the testing accuracy is:- 0.9439876670092497\n",
      "\n",
      "\n",
      "at random sate 16, the training accuracy is:- 0.9399820074540548\n",
      "at random sate 16, the testing accuracy is:- 0.9439876670092497\n",
      "\n",
      "\n",
      "at random sate 17, the training accuracy is:- 0.9399820074540548\n",
      "at random sate 17, the testing accuracy is:- 0.9439876670092497\n",
      "\n",
      "\n",
      "at random sate 18, the training accuracy is:- 0.9399820074540548\n",
      "at random sate 18, the testing accuracy is:- 0.9439876670092497\n",
      "\n",
      "\n",
      "at random sate 19, the training accuracy is:- 0.9399820074540548\n",
      "at random sate 19, the testing accuracy is:- 0.9439876670092497\n",
      "\n",
      "\n",
      "at random sate 20, the training accuracy is:- 0.9399820074540548\n",
      "at random sate 20, the testing accuracy is:- 0.9439876670092497\n",
      "\n",
      "\n",
      "at random sate 21, the training accuracy is:- 0.9399820074540548\n",
      "at random sate 21, the testing accuracy is:- 0.9439876670092497\n",
      "\n",
      "\n",
      "at random sate 22, the training accuracy is:- 0.9399820074540548\n",
      "at random sate 22, the testing accuracy is:- 0.9439876670092497\n",
      "\n",
      "\n",
      "at random sate 23, the training accuracy is:- 0.9399820074540548\n",
      "at random sate 23, the testing accuracy is:- 0.9439876670092497\n",
      "\n",
      "\n",
      "at random sate 24, the training accuracy is:- 0.9399820074540548\n",
      "at random sate 24, the testing accuracy is:- 0.9439876670092497\n",
      "\n",
      "\n",
      "at random sate 25, the training accuracy is:- 0.9399820074540548\n",
      "at random sate 25, the testing accuracy is:- 0.9439876670092497\n",
      "\n",
      "\n",
      "at random sate 26, the training accuracy is:- 0.9399820074540548\n",
      "at random sate 26, the testing accuracy is:- 0.9439876670092497\n",
      "\n",
      "\n",
      "at random sate 27, the training accuracy is:- 0.9399820074540548\n",
      "at random sate 27, the testing accuracy is:- 0.9439876670092497\n",
      "\n",
      "\n",
      "at random sate 28, the training accuracy is:- 0.9399820074540548\n",
      "at random sate 28, the testing accuracy is:- 0.9439876670092497\n",
      "\n",
      "\n",
      "at random sate 29, the training accuracy is:- 0.9399820074540548\n",
      "at random sate 29, the testing accuracy is:- 0.9439876670092497\n",
      "\n",
      "\n",
      "at random sate 30, the training accuracy is:- 0.9399820074540548\n",
      "at random sate 30, the testing accuracy is:- 0.9439876670092497\n",
      "\n",
      "\n",
      "at random sate 31, the training accuracy is:- 0.9399820074540548\n",
      "at random sate 31, the testing accuracy is:- 0.9439876670092497\n",
      "\n",
      "\n",
      "at random sate 32, the training accuracy is:- 0.9399820074540548\n",
      "at random sate 32, the testing accuracy is:- 0.9439876670092497\n",
      "\n",
      "\n",
      "at random sate 33, the training accuracy is:- 0.9399820074540548\n",
      "at random sate 33, the testing accuracy is:- 0.9439876670092497\n",
      "\n",
      "\n",
      "at random sate 34, the training accuracy is:- 0.9399820074540548\n",
      "at random sate 34, the testing accuracy is:- 0.9439876670092497\n",
      "\n",
      "\n",
      "at random sate 35, the training accuracy is:- 0.9399820074540548\n",
      "at random sate 35, the testing accuracy is:- 0.9439876670092497\n",
      "\n",
      "\n",
      "at random sate 36, the training accuracy is:- 0.9399820074540548\n",
      "at random sate 36, the testing accuracy is:- 0.9439876670092497\n",
      "\n",
      "\n",
      "at random sate 37, the training accuracy is:- 0.9399820074540548\n",
      "at random sate 37, the testing accuracy is:- 0.9439876670092497\n",
      "\n",
      "\n",
      "at random sate 38, the training accuracy is:- 0.9399820074540548\n",
      "at random sate 38, the testing accuracy is:- 0.9439876670092497\n",
      "\n",
      "\n",
      "at random sate 39, the training accuracy is:- 0.9399820074540548\n",
      "at random sate 39, the testing accuracy is:- 0.9439876670092497\n",
      "\n",
      "\n",
      "at random sate 40, the training accuracy is:- 0.9399820074540548\n",
      "at random sate 40, the testing accuracy is:- 0.9439876670092497\n",
      "\n",
      "\n",
      "at random sate 41, the training accuracy is:- 0.9399820074540548\n",
      "at random sate 41, the testing accuracy is:- 0.9439876670092497\n",
      "\n",
      "\n",
      "at random sate 42, the training accuracy is:- 0.9399820074540548\n",
      "at random sate 42, the testing accuracy is:- 0.9439876670092497\n",
      "\n",
      "\n",
      "at random sate 43, the training accuracy is:- 0.9399820074540548\n",
      "at random sate 43, the testing accuracy is:- 0.9439876670092497\n",
      "\n",
      "\n",
      "at random sate 44, the training accuracy is:- 0.9399820074540548\n",
      "at random sate 44, the testing accuracy is:- 0.9439876670092497\n",
      "\n",
      "\n",
      "at random sate 45, the training accuracy is:- 0.9399820074540548\n",
      "at random sate 45, the testing accuracy is:- 0.9439876670092497\n",
      "\n",
      "\n",
      "at random sate 46, the training accuracy is:- 0.9399820074540548\n",
      "at random sate 46, the testing accuracy is:- 0.9439876670092497\n",
      "\n",
      "\n",
      "at random sate 47, the training accuracy is:- 0.9399820074540548\n",
      "at random sate 47, the testing accuracy is:- 0.9439876670092497\n",
      "\n",
      "\n",
      "at random sate 48, the training accuracy is:- 0.9399820074540548\n",
      "at random sate 48, the testing accuracy is:- 0.9439876670092497\n",
      "\n",
      "\n",
      "at random sate 49, the training accuracy is:- 0.9399820074540548\n",
      "at random sate 49, the testing accuracy is:- 0.9439876670092497\n",
      "\n",
      "\n",
      "at random sate 50, the training accuracy is:- 0.9399820074540548\n",
      "at random sate 50, the testing accuracy is:- 0.9439876670092497\n",
      "\n",
      "\n",
      "at random sate 51, the training accuracy is:- 0.9399820074540548\n",
      "at random sate 51, the testing accuracy is:- 0.9439876670092497\n",
      "\n",
      "\n",
      "at random sate 52, the training accuracy is:- 0.9399820074540548\n",
      "at random sate 52, the testing accuracy is:- 0.9439876670092497\n",
      "\n",
      "\n",
      "at random sate 53, the training accuracy is:- 0.9399820074540548\n",
      "at random sate 53, the testing accuracy is:- 0.9439876670092497\n",
      "\n",
      "\n",
      "at random sate 54, the training accuracy is:- 0.9399820074540548\n",
      "at random sate 54, the testing accuracy is:- 0.9439876670092497\n",
      "\n",
      "\n",
      "at random sate 55, the training accuracy is:- 0.9399820074540548\n",
      "at random sate 55, the testing accuracy is:- 0.9439876670092497\n",
      "\n",
      "\n",
      "at random sate 56, the training accuracy is:- 0.9399820074540548\n",
      "at random sate 56, the testing accuracy is:- 0.9439876670092497\n",
      "\n",
      "\n",
      "at random sate 57, the training accuracy is:- 0.9399820074540548\n",
      "at random sate 57, the testing accuracy is:- 0.9439876670092497\n",
      "\n",
      "\n",
      "at random sate 58, the training accuracy is:- 0.9399820074540548\n",
      "at random sate 58, the testing accuracy is:- 0.9439876670092497\n",
      "\n",
      "\n",
      "at random sate 59, the training accuracy is:- 0.9399820074540548\n",
      "at random sate 59, the testing accuracy is:- 0.9439876670092497\n",
      "\n",
      "\n",
      "at random sate 60, the training accuracy is:- 0.9399820074540548\n",
      "at random sate 60, the testing accuracy is:- 0.9439876670092497\n",
      "\n",
      "\n",
      "at random sate 61, the training accuracy is:- 0.9399820074540548\n",
      "at random sate 61, the testing accuracy is:- 0.9439876670092497\n",
      "\n",
      "\n",
      "at random sate 62, the training accuracy is:- 0.9399820074540548\n",
      "at random sate 62, the testing accuracy is:- 0.9439876670092497\n",
      "\n",
      "\n",
      "at random sate 63, the training accuracy is:- 0.9399820074540548\n",
      "at random sate 63, the testing accuracy is:- 0.9439876670092497\n",
      "\n",
      "\n",
      "at random sate 64, the training accuracy is:- 0.9399820074540548\n",
      "at random sate 64, the testing accuracy is:- 0.9439876670092497\n",
      "\n",
      "\n",
      "at random sate 65, the training accuracy is:- 0.9399820074540548\n",
      "at random sate 65, the testing accuracy is:- 0.9439876670092497\n",
      "\n",
      "\n"
     ]
    },
    {
     "name": "stdout",
     "output_type": "stream",
     "text": [
      "at random sate 66, the training accuracy is:- 0.9399820074540548\n",
      "at random sate 66, the testing accuracy is:- 0.9439876670092497\n",
      "\n",
      "\n",
      "at random sate 67, the training accuracy is:- 0.9399820074540548\n",
      "at random sate 67, the testing accuracy is:- 0.9439876670092497\n",
      "\n",
      "\n",
      "at random sate 68, the training accuracy is:- 0.9399820074540548\n",
      "at random sate 68, the testing accuracy is:- 0.9439876670092497\n",
      "\n",
      "\n",
      "at random sate 69, the training accuracy is:- 0.9399820074540548\n",
      "at random sate 69, the testing accuracy is:- 0.9439876670092497\n",
      "\n",
      "\n",
      "at random sate 70, the training accuracy is:- 0.9399820074540548\n",
      "at random sate 70, the testing accuracy is:- 0.9439876670092497\n",
      "\n",
      "\n",
      "at random sate 71, the training accuracy is:- 0.9399820074540548\n",
      "at random sate 71, the testing accuracy is:- 0.9439876670092497\n",
      "\n",
      "\n",
      "at random sate 72, the training accuracy is:- 0.9399820074540548\n",
      "at random sate 72, the testing accuracy is:- 0.9439876670092497\n",
      "\n",
      "\n",
      "at random sate 73, the training accuracy is:- 0.9399820074540548\n",
      "at random sate 73, the testing accuracy is:- 0.9439876670092497\n",
      "\n",
      "\n",
      "at random sate 74, the training accuracy is:- 0.9399820074540548\n",
      "at random sate 74, the testing accuracy is:- 0.9439876670092497\n",
      "\n",
      "\n",
      "at random sate 75, the training accuracy is:- 0.9399820074540548\n",
      "at random sate 75, the testing accuracy is:- 0.9439876670092497\n",
      "\n",
      "\n",
      "at random sate 76, the training accuracy is:- 0.9399820074540548\n",
      "at random sate 76, the testing accuracy is:- 0.9439876670092497\n",
      "\n",
      "\n",
      "at random sate 77, the training accuracy is:- 0.9399820074540548\n",
      "at random sate 77, the testing accuracy is:- 0.9439876670092497\n",
      "\n",
      "\n",
      "at random sate 78, the training accuracy is:- 0.9399820074540548\n",
      "at random sate 78, the testing accuracy is:- 0.9439876670092497\n",
      "\n",
      "\n",
      "at random sate 79, the training accuracy is:- 0.9399820074540548\n",
      "at random sate 79, the testing accuracy is:- 0.9439876670092497\n",
      "\n",
      "\n",
      "at random sate 80, the training accuracy is:- 0.9399820074540548\n",
      "at random sate 80, the testing accuracy is:- 0.9439876670092497\n",
      "\n",
      "\n",
      "at random sate 81, the training accuracy is:- 0.9399820074540548\n",
      "at random sate 81, the testing accuracy is:- 0.9439876670092497\n",
      "\n",
      "\n",
      "at random sate 82, the training accuracy is:- 0.9399820074540548\n",
      "at random sate 82, the testing accuracy is:- 0.9439876670092497\n",
      "\n",
      "\n",
      "at random sate 83, the training accuracy is:- 0.9399820074540548\n",
      "at random sate 83, the testing accuracy is:- 0.9439876670092497\n",
      "\n",
      "\n",
      "at random sate 84, the training accuracy is:- 0.9399820074540548\n",
      "at random sate 84, the testing accuracy is:- 0.9439876670092497\n",
      "\n",
      "\n",
      "at random sate 85, the training accuracy is:- 0.9399820074540548\n",
      "at random sate 85, the testing accuracy is:- 0.9439876670092497\n",
      "\n",
      "\n",
      "at random sate 86, the training accuracy is:- 0.9399820074540548\n",
      "at random sate 86, the testing accuracy is:- 0.9439876670092497\n",
      "\n",
      "\n",
      "at random sate 87, the training accuracy is:- 0.9399820074540548\n",
      "at random sate 87, the testing accuracy is:- 0.9439876670092497\n",
      "\n",
      "\n",
      "at random sate 88, the training accuracy is:- 0.9399820074540548\n",
      "at random sate 88, the testing accuracy is:- 0.9439876670092497\n",
      "\n",
      "\n",
      "at random sate 89, the training accuracy is:- 0.9399820074540548\n",
      "at random sate 89, the testing accuracy is:- 0.9439876670092497\n",
      "\n",
      "\n",
      "at random sate 90, the training accuracy is:- 0.9399820074540548\n",
      "at random sate 90, the testing accuracy is:- 0.9439876670092497\n",
      "\n",
      "\n",
      "at random sate 91, the training accuracy is:- 0.9399820074540548\n",
      "at random sate 91, the testing accuracy is:- 0.9439876670092497\n",
      "\n",
      "\n",
      "at random sate 92, the training accuracy is:- 0.9399820074540548\n",
      "at random sate 92, the testing accuracy is:- 0.9439876670092497\n",
      "\n",
      "\n",
      "at random sate 93, the training accuracy is:- 0.9399820074540548\n",
      "at random sate 93, the testing accuracy is:- 0.9439876670092497\n",
      "\n",
      "\n",
      "at random sate 94, the training accuracy is:- 0.9399820074540548\n",
      "at random sate 94, the testing accuracy is:- 0.9439876670092497\n",
      "\n",
      "\n",
      "at random sate 95, the training accuracy is:- 0.9399820074540548\n",
      "at random sate 95, the testing accuracy is:- 0.9439876670092497\n",
      "\n",
      "\n",
      "at random sate 96, the training accuracy is:- 0.9399820074540548\n",
      "at random sate 96, the testing accuracy is:- 0.9439876670092497\n",
      "\n",
      "\n",
      "at random sate 97, the training accuracy is:- 0.9399820074540548\n",
      "at random sate 97, the testing accuracy is:- 0.9439876670092497\n",
      "\n",
      "\n",
      "at random sate 98, the training accuracy is:- 0.9399820074540548\n",
      "at random sate 98, the testing accuracy is:- 0.9439876670092497\n",
      "\n",
      "\n",
      "at random sate 99, the training accuracy is:- 0.9399820074540548\n",
      "at random sate 99, the testing accuracy is:- 0.9439876670092497\n",
      "\n",
      "\n",
      "at random sate 100, the training accuracy is:- 0.9399820074540548\n",
      "at random sate 100, the testing accuracy is:- 0.9439876670092497\n",
      "\n",
      "\n",
      "at random sate 101, the training accuracy is:- 0.9399820074540548\n",
      "at random sate 101, the testing accuracy is:- 0.9439876670092497\n",
      "\n",
      "\n",
      "at random sate 102, the training accuracy is:- 0.9399820074540548\n",
      "at random sate 102, the testing accuracy is:- 0.9439876670092497\n",
      "\n",
      "\n",
      "at random sate 103, the training accuracy is:- 0.9399820074540548\n",
      "at random sate 103, the testing accuracy is:- 0.9439876670092497\n",
      "\n",
      "\n",
      "at random sate 104, the training accuracy is:- 0.9399820074540548\n",
      "at random sate 104, the testing accuracy is:- 0.9439876670092497\n",
      "\n",
      "\n",
      "at random sate 105, the training accuracy is:- 0.9399820074540548\n",
      "at random sate 105, the testing accuracy is:- 0.9439876670092497\n",
      "\n",
      "\n",
      "at random sate 106, the training accuracy is:- 0.9399820074540548\n",
      "at random sate 106, the testing accuracy is:- 0.9439876670092497\n",
      "\n",
      "\n",
      "at random sate 107, the training accuracy is:- 0.9399820074540548\n",
      "at random sate 107, the testing accuracy is:- 0.9439876670092497\n",
      "\n",
      "\n",
      "at random sate 108, the training accuracy is:- 0.9399820074540548\n",
      "at random sate 108, the testing accuracy is:- 0.9439876670092497\n",
      "\n",
      "\n",
      "at random sate 109, the training accuracy is:- 0.9399820074540548\n",
      "at random sate 109, the testing accuracy is:- 0.9439876670092497\n",
      "\n",
      "\n",
      "at random sate 110, the training accuracy is:- 0.9399820074540548\n",
      "at random sate 110, the testing accuracy is:- 0.9439876670092497\n",
      "\n",
      "\n",
      "at random sate 111, the training accuracy is:- 0.9399820074540548\n",
      "at random sate 111, the testing accuracy is:- 0.9439876670092497\n",
      "\n",
      "\n",
      "at random sate 112, the training accuracy is:- 0.9399820074540548\n",
      "at random sate 112, the testing accuracy is:- 0.9439876670092497\n",
      "\n",
      "\n",
      "at random sate 113, the training accuracy is:- 0.9399820074540548\n",
      "at random sate 113, the testing accuracy is:- 0.9439876670092497\n",
      "\n",
      "\n",
      "at random sate 114, the training accuracy is:- 0.9399820074540548\n",
      "at random sate 114, the testing accuracy is:- 0.9439876670092497\n",
      "\n",
      "\n",
      "at random sate 115, the training accuracy is:- 0.9399820074540548\n",
      "at random sate 115, the testing accuracy is:- 0.9439876670092497\n",
      "\n",
      "\n",
      "at random sate 116, the training accuracy is:- 0.9399820074540548\n",
      "at random sate 116, the testing accuracy is:- 0.9439876670092497\n",
      "\n",
      "\n",
      "at random sate 117, the training accuracy is:- 0.9399820074540548\n",
      "at random sate 117, the testing accuracy is:- 0.9439876670092497\n",
      "\n",
      "\n",
      "at random sate 118, the training accuracy is:- 0.9399820074540548\n",
      "at random sate 118, the testing accuracy is:- 0.9439876670092497\n",
      "\n",
      "\n",
      "at random sate 119, the training accuracy is:- 0.9399820074540548\n",
      "at random sate 119, the testing accuracy is:- 0.9439876670092497\n",
      "\n",
      "\n",
      "at random sate 120, the training accuracy is:- 0.9399820074540548\n",
      "at random sate 120, the testing accuracy is:- 0.9439876670092497\n",
      "\n",
      "\n",
      "at random sate 121, the training accuracy is:- 0.9399820074540548\n",
      "at random sate 121, the testing accuracy is:- 0.9439876670092497\n",
      "\n",
      "\n",
      "at random sate 122, the training accuracy is:- 0.9399820074540548\n",
      "at random sate 122, the testing accuracy is:- 0.9439876670092497\n",
      "\n",
      "\n",
      "at random sate 123, the training accuracy is:- 0.9399820074540548\n",
      "at random sate 123, the testing accuracy is:- 0.9439876670092497\n",
      "\n",
      "\n",
      "at random sate 124, the training accuracy is:- 0.9399820074540548\n",
      "at random sate 124, the testing accuracy is:- 0.9439876670092497\n",
      "\n",
      "\n",
      "at random sate 125, the training accuracy is:- 0.9399820074540548\n",
      "at random sate 125, the testing accuracy is:- 0.9439876670092497\n",
      "\n",
      "\n",
      "at random sate 126, the training accuracy is:- 0.9399820074540548\n",
      "at random sate 126, the testing accuracy is:- 0.9439876670092497\n",
      "\n",
      "\n",
      "at random sate 127, the training accuracy is:- 0.9399820074540548\n",
      "at random sate 127, the testing accuracy is:- 0.9439876670092497\n",
      "\n",
      "\n",
      "at random sate 128, the training accuracy is:- 0.9399820074540548\n",
      "at random sate 128, the testing accuracy is:- 0.9439876670092497\n",
      "\n",
      "\n",
      "at random sate 129, the training accuracy is:- 0.9399820074540548\n",
      "at random sate 129, the testing accuracy is:- 0.9439876670092497\n",
      "\n",
      "\n"
     ]
    },
    {
     "name": "stdout",
     "output_type": "stream",
     "text": [
      "at random sate 130, the training accuracy is:- 0.9399820074540548\n",
      "at random sate 130, the testing accuracy is:- 0.9439876670092497\n",
      "\n",
      "\n",
      "at random sate 131, the training accuracy is:- 0.9399820074540548\n",
      "at random sate 131, the testing accuracy is:- 0.9439876670092497\n",
      "\n",
      "\n",
      "at random sate 132, the training accuracy is:- 0.9399820074540548\n",
      "at random sate 132, the testing accuracy is:- 0.9439876670092497\n",
      "\n",
      "\n",
      "at random sate 133, the training accuracy is:- 0.9399820074540548\n",
      "at random sate 133, the testing accuracy is:- 0.9439876670092497\n",
      "\n",
      "\n",
      "at random sate 134, the training accuracy is:- 0.9399820074540548\n",
      "at random sate 134, the testing accuracy is:- 0.9439876670092497\n",
      "\n",
      "\n",
      "at random sate 135, the training accuracy is:- 0.9399820074540548\n",
      "at random sate 135, the testing accuracy is:- 0.9439876670092497\n",
      "\n",
      "\n",
      "at random sate 136, the training accuracy is:- 0.9399820074540548\n",
      "at random sate 136, the testing accuracy is:- 0.9439876670092497\n",
      "\n",
      "\n",
      "at random sate 137, the training accuracy is:- 0.9399820074540548\n",
      "at random sate 137, the testing accuracy is:- 0.9439876670092497\n",
      "\n",
      "\n",
      "at random sate 138, the training accuracy is:- 0.9399820074540548\n",
      "at random sate 138, the testing accuracy is:- 0.9439876670092497\n",
      "\n",
      "\n",
      "at random sate 139, the training accuracy is:- 0.9399820074540548\n",
      "at random sate 139, the testing accuracy is:- 0.9439876670092497\n",
      "\n",
      "\n",
      "at random sate 140, the training accuracy is:- 0.9399820074540548\n",
      "at random sate 140, the testing accuracy is:- 0.9439876670092497\n",
      "\n",
      "\n",
      "at random sate 141, the training accuracy is:- 0.9399820074540548\n",
      "at random sate 141, the testing accuracy is:- 0.9439876670092497\n",
      "\n",
      "\n",
      "at random sate 142, the training accuracy is:- 0.9399820074540548\n",
      "at random sate 142, the testing accuracy is:- 0.9439876670092497\n",
      "\n",
      "\n",
      "at random sate 143, the training accuracy is:- 0.9399820074540548\n",
      "at random sate 143, the testing accuracy is:- 0.9439876670092497\n",
      "\n",
      "\n",
      "at random sate 144, the training accuracy is:- 0.9399820074540548\n",
      "at random sate 144, the testing accuracy is:- 0.9439876670092497\n",
      "\n",
      "\n",
      "at random sate 145, the training accuracy is:- 0.9399820074540548\n",
      "at random sate 145, the testing accuracy is:- 0.9439876670092497\n",
      "\n",
      "\n",
      "at random sate 146, the training accuracy is:- 0.9399820074540548\n",
      "at random sate 146, the testing accuracy is:- 0.9439876670092497\n",
      "\n",
      "\n",
      "at random sate 147, the training accuracy is:- 0.9399820074540548\n",
      "at random sate 147, the testing accuracy is:- 0.9439876670092497\n",
      "\n",
      "\n",
      "at random sate 148, the training accuracy is:- 0.9399820074540548\n",
      "at random sate 148, the testing accuracy is:- 0.9439876670092497\n",
      "\n",
      "\n",
      "at random sate 149, the training accuracy is:- 0.9399820074540548\n",
      "at random sate 149, the testing accuracy is:- 0.9439876670092497\n",
      "\n",
      "\n",
      "at random sate 150, the training accuracy is:- 0.9399820074540548\n",
      "at random sate 150, the testing accuracy is:- 0.9439876670092497\n",
      "\n",
      "\n",
      "at random sate 151, the training accuracy is:- 0.9399820074540548\n",
      "at random sate 151, the testing accuracy is:- 0.9439876670092497\n",
      "\n",
      "\n",
      "at random sate 152, the training accuracy is:- 0.9399820074540548\n",
      "at random sate 152, the testing accuracy is:- 0.9439876670092497\n",
      "\n",
      "\n",
      "at random sate 153, the training accuracy is:- 0.9399820074540548\n",
      "at random sate 153, the testing accuracy is:- 0.9439876670092497\n",
      "\n",
      "\n",
      "at random sate 154, the training accuracy is:- 0.9399820074540548\n",
      "at random sate 154, the testing accuracy is:- 0.9439876670092497\n",
      "\n",
      "\n",
      "at random sate 155, the training accuracy is:- 0.9399820074540548\n",
      "at random sate 155, the testing accuracy is:- 0.9439876670092497\n",
      "\n",
      "\n",
      "at random sate 156, the training accuracy is:- 0.9399820074540548\n",
      "at random sate 156, the testing accuracy is:- 0.9439876670092497\n",
      "\n",
      "\n",
      "at random sate 157, the training accuracy is:- 0.9399820074540548\n",
      "at random sate 157, the testing accuracy is:- 0.9439876670092497\n",
      "\n",
      "\n",
      "at random sate 158, the training accuracy is:- 0.9399820074540548\n",
      "at random sate 158, the testing accuracy is:- 0.9439876670092497\n",
      "\n",
      "\n",
      "at random sate 159, the training accuracy is:- 0.9399820074540548\n",
      "at random sate 159, the testing accuracy is:- 0.9439876670092497\n",
      "\n",
      "\n",
      "at random sate 160, the training accuracy is:- 0.9399820074540548\n",
      "at random sate 160, the testing accuracy is:- 0.9439876670092497\n",
      "\n",
      "\n",
      "at random sate 161, the training accuracy is:- 0.9399820074540548\n",
      "at random sate 161, the testing accuracy is:- 0.9439876670092497\n",
      "\n",
      "\n",
      "at random sate 162, the training accuracy is:- 0.9399820074540548\n",
      "at random sate 162, the testing accuracy is:- 0.9439876670092497\n",
      "\n",
      "\n",
      "at random sate 163, the training accuracy is:- 0.9399820074540548\n",
      "at random sate 163, the testing accuracy is:- 0.9439876670092497\n",
      "\n",
      "\n",
      "at random sate 164, the training accuracy is:- 0.9399820074540548\n",
      "at random sate 164, the testing accuracy is:- 0.9439876670092497\n",
      "\n",
      "\n",
      "at random sate 165, the training accuracy is:- 0.9399820074540548\n",
      "at random sate 165, the testing accuracy is:- 0.9439876670092497\n",
      "\n",
      "\n",
      "at random sate 166, the training accuracy is:- 0.9399820074540548\n",
      "at random sate 166, the testing accuracy is:- 0.9439876670092497\n",
      "\n",
      "\n",
      "at random sate 167, the training accuracy is:- 0.9399820074540548\n",
      "at random sate 167, the testing accuracy is:- 0.9439876670092497\n",
      "\n",
      "\n",
      "at random sate 168, the training accuracy is:- 0.9399820074540548\n",
      "at random sate 168, the testing accuracy is:- 0.9439876670092497\n",
      "\n",
      "\n",
      "at random sate 169, the training accuracy is:- 0.9399820074540548\n",
      "at random sate 169, the testing accuracy is:- 0.9439876670092497\n",
      "\n",
      "\n",
      "at random sate 170, the training accuracy is:- 0.9399820074540548\n",
      "at random sate 170, the testing accuracy is:- 0.9439876670092497\n",
      "\n",
      "\n",
      "at random sate 171, the training accuracy is:- 0.9399820074540548\n",
      "at random sate 171, the testing accuracy is:- 0.9439876670092497\n",
      "\n",
      "\n",
      "at random sate 172, the training accuracy is:- 0.9399820074540548\n",
      "at random sate 172, the testing accuracy is:- 0.9439876670092497\n",
      "\n",
      "\n",
      "at random sate 173, the training accuracy is:- 0.9399820074540548\n",
      "at random sate 173, the testing accuracy is:- 0.9439876670092497\n",
      "\n",
      "\n",
      "at random sate 174, the training accuracy is:- 0.9399820074540548\n",
      "at random sate 174, the testing accuracy is:- 0.9439876670092497\n",
      "\n",
      "\n",
      "at random sate 175, the training accuracy is:- 0.9399820074540548\n",
      "at random sate 175, the testing accuracy is:- 0.9439876670092497\n",
      "\n",
      "\n",
      "at random sate 176, the training accuracy is:- 0.9399820074540548\n",
      "at random sate 176, the testing accuracy is:- 0.9439876670092497\n",
      "\n",
      "\n",
      "at random sate 177, the training accuracy is:- 0.9399820074540548\n",
      "at random sate 177, the testing accuracy is:- 0.9439876670092497\n",
      "\n",
      "\n",
      "at random sate 178, the training accuracy is:- 0.9399820074540548\n",
      "at random sate 178, the testing accuracy is:- 0.9439876670092497\n",
      "\n",
      "\n",
      "at random sate 179, the training accuracy is:- 0.9399820074540548\n",
      "at random sate 179, the testing accuracy is:- 0.9439876670092497\n",
      "\n",
      "\n",
      "at random sate 180, the training accuracy is:- 0.9399820074540548\n",
      "at random sate 180, the testing accuracy is:- 0.9439876670092497\n",
      "\n",
      "\n",
      "at random sate 181, the training accuracy is:- 0.9399820074540548\n",
      "at random sate 181, the testing accuracy is:- 0.9439876670092497\n",
      "\n",
      "\n",
      "at random sate 182, the training accuracy is:- 0.9399820074540548\n",
      "at random sate 182, the testing accuracy is:- 0.9439876670092497\n",
      "\n",
      "\n",
      "at random sate 183, the training accuracy is:- 0.9399820074540548\n",
      "at random sate 183, the testing accuracy is:- 0.9439876670092497\n",
      "\n",
      "\n",
      "at random sate 184, the training accuracy is:- 0.9399820074540548\n",
      "at random sate 184, the testing accuracy is:- 0.9439876670092497\n",
      "\n",
      "\n",
      "at random sate 185, the training accuracy is:- 0.9399820074540548\n",
      "at random sate 185, the testing accuracy is:- 0.9439876670092497\n",
      "\n",
      "\n",
      "at random sate 186, the training accuracy is:- 0.9399820074540548\n",
      "at random sate 186, the testing accuracy is:- 0.9439876670092497\n",
      "\n",
      "\n",
      "at random sate 187, the training accuracy is:- 0.9399820074540548\n",
      "at random sate 187, the testing accuracy is:- 0.9439876670092497\n",
      "\n",
      "\n",
      "at random sate 188, the training accuracy is:- 0.9399820074540548\n",
      "at random sate 188, the testing accuracy is:- 0.9439876670092497\n",
      "\n",
      "\n",
      "at random sate 189, the training accuracy is:- 0.9399820074540548\n",
      "at random sate 189, the testing accuracy is:- 0.9439876670092497\n",
      "\n",
      "\n",
      "at random sate 190, the training accuracy is:- 0.9399820074540548\n",
      "at random sate 190, the testing accuracy is:- 0.9439876670092497\n",
      "\n",
      "\n",
      "at random sate 191, the training accuracy is:- 0.9399820074540548\n",
      "at random sate 191, the testing accuracy is:- 0.9439876670092497\n",
      "\n",
      "\n",
      "at random sate 192, the training accuracy is:- 0.9399820074540548\n",
      "at random sate 192, the testing accuracy is:- 0.9439876670092497\n",
      "\n",
      "\n",
      "at random sate 193, the training accuracy is:- 0.9399820074540548\n",
      "at random sate 193, the testing accuracy is:- 0.9439876670092497\n",
      "\n",
      "\n",
      "at random sate 194, the training accuracy is:- 0.9399820074540548\n",
      "at random sate 194, the testing accuracy is:- 0.9439876670092497\n",
      "\n",
      "\n",
      "at random sate 195, the training accuracy is:- 0.9399820074540548\n",
      "at random sate 195, the testing accuracy is:- 0.9439876670092497\n",
      "\n",
      "\n"
     ]
    },
    {
     "name": "stdout",
     "output_type": "stream",
     "text": [
      "at random sate 196, the training accuracy is:- 0.9399820074540548\n",
      "at random sate 196, the testing accuracy is:- 0.9439876670092497\n",
      "\n",
      "\n",
      "at random sate 197, the training accuracy is:- 0.9399820074540548\n",
      "at random sate 197, the testing accuracy is:- 0.9439876670092497\n",
      "\n",
      "\n",
      "at random sate 198, the training accuracy is:- 0.9399820074540548\n",
      "at random sate 198, the testing accuracy is:- 0.9439876670092497\n",
      "\n",
      "\n",
      "at random sate 199, the training accuracy is:- 0.9399820074540548\n",
      "at random sate 199, the testing accuracy is:- 0.9439876670092497\n",
      "\n",
      "\n",
      "Best Training accuracy_score is 0.9399820074540548 on random state 1\n",
      "Best Testing accuracy_score is 0.9439876670092497 on random state 1\n"
     ]
    }
   ],
   "source": [
    "# Lets select the proper random state to build best model by using LogisticRegression\n",
    "\n",
    "from sklearn.linear_model import LogisticRegression\n",
    "\n",
    "acc_score_test = 0\n",
    "acc_score_train = 0\n",
    "rand_state = 0\n",
    "for i in range(1,200):\n",
    "    \n",
    "    x_train,x_test,y_train,y_test = train_test_split(x_scaled,y,test_size=0.20,random_state= i )\n",
    "    \n",
    "    lr = LogisticRegression()\n",
    "    lr.fit(x_train,y_train)\n",
    "    \n",
    "    y_pred=lr.predict(x_train) # prediction on train data\n",
    "    r1 =accuracy_score(y_train,y_pred) # accuracy check on train data\n",
    "    \n",
    "    pred = lr.predict(x_test)   #prediction on test data\n",
    "    r2 =accuracy_score(y_test,pred) #accuracy check on test data\n",
    "    \n",
    "    if r2 > acc_score_test and r1 > acc_score_train: # selecting max score accuracy\n",
    "        acc_score_test = r2\n",
    "        acc_score_train = r1\n",
    "        rand_state = i\n",
    "    print(f\"at random sate {i}, the training accuracy is:- {acc_score_train}\")\n",
    "    print(f\"at random sate {i}, the testing accuracy is:- {acc_score_test}\")\n",
    "    print(\"\\n\")\n",
    "print('Best Training accuracy_score is {} on random state {}'.format(acc_score_train,rand_state))\n",
    "print('Best Testing accuracy_score is {} on random state {}'.format(acc_score_test,rand_state))"
   ]
  },
  {
   "cell_type": "code",
   "execution_count": 49,
   "id": "2b73762e",
   "metadata": {},
   "outputs": [
    {
     "name": "stdout",
     "output_type": "stream",
     "text": [
      "We got our best randoms sate as : 1\n"
     ]
    }
   ],
   "source": [
    "print('We got our best randoms sate as :',rand_state)"
   ]
  },
  {
   "cell_type": "code",
   "execution_count": 50,
   "id": "75ab037e",
   "metadata": {},
   "outputs": [
    {
     "name": "stdout",
     "output_type": "stream",
     "text": [
      "(6808, 2)\n",
      "(2919, 2)\n",
      "(6808,)\n",
      "(2919,)\n"
     ]
    }
   ],
   "source": [
    "#Lets split for train and test data\n",
    "x_train,x_test,y_train,y_test = train_test_split(x_scaled,y,test_size=0.30,random_state= rand_state )\n",
    "print(x_train.shape)\n",
    "print(x_test.shape)\n",
    "print(y_train.shape)\n",
    "print(y_test.shape)"
   ]
  },
  {
   "cell_type": "code",
   "execution_count": 51,
   "id": "30f6b5f8",
   "metadata": {},
   "outputs": [
    {
     "name": "stdout",
     "output_type": "stream",
     "text": [
      "The number of classes before fitCounter({5.0: 6393, 4.0: 296, 3.0: 60, 1.0: 43, 2.0: 16})\n"
     ]
    }
   ],
   "source": [
    "#Checking the number of classes before fit\n",
    "\n",
    "from collections import Counter\n",
    "print(\"The number of classes before fit{}\".format(Counter(y_train)))"
   ]
  },
  {
   "cell_type": "code",
   "execution_count": 52,
   "id": "8357a9fc",
   "metadata": {},
   "outputs": [
    {
     "name": "stdout",
     "output_type": "stream",
     "text": [
      "Counter({5.0: 6393, 4.0: 296, 3.0: 60, 1.0: 43, 2.0: 16})\n",
      "Counter({5.0: 6393, 4.0: 6393, 1.0: 6393, 3.0: 6393, 2.0: 6393})\n"
     ]
    }
   ],
   "source": [
    "# We have imbalance dataset lets use SMOTE\n",
    "# Lets use of Resampling Techniques to handle Imbalanced Data\n",
    "from sklearn.datasets import make_classification\n",
    "from imblearn.over_sampling import SMOTE\n",
    "from collections import Counter\n",
    "\n",
    "ove_smp=SMOTE(sampling_strategy = {1: 6393, 2: 6393, 3: 6393, 4: 6393, 5: 6393}) # selecting data for resampling\n",
    "x_train_ns,y_train_ns=ove_smp.fit_resample(x_train,y_train)\n",
    "print(Counter(y_train))\n",
    "print(Counter(y_train_ns))"
   ]
  },
  {
   "cell_type": "markdown",
   "id": "8299247a",
   "metadata": {},
   "source": [
    "# Lets build the model to predict Ratings"
   ]
  },
  {
   "cell_type": "code",
   "execution_count": 53,
   "id": "02512c7a",
   "metadata": {},
   "outputs": [],
   "source": [
    "# Imporing ML algorithms and initialisation the same\n",
    "\n",
    "from sklearn.linear_model import LogisticRegression\n",
    "LR= LogisticRegression()\n",
    "\n",
    "from sklearn.tree import DecisionTreeClassifier\n",
    "dt=DecisionTreeClassifier()\n",
    "\n",
    "from sklearn.ensemble import AdaBoostClassifier, GradientBoostingClassifier\n",
    "ada=AdaBoostClassifier()\n",
    "gb=GradientBoostingClassifier()\n",
    "\n",
    "from sklearn.ensemble import RandomForestClassifier\n",
    "rfc= RandomForestClassifier()\n",
    "\n",
    "from sklearn.model_selection import cross_val_score\n",
    "from sklearn.metrics import roc_curve,roc_auc_score, plot_roc_curve, auc\n",
    "\n",
    "models=[]\n",
    "models.append(('LogisticRegression', LR))\n",
    "models.append(('DecisionTreeClassifier', dt))\n",
    "models.append(('AdaBoostClassifier', ada))\n",
    "models.append(('GradientBoostingClassifier', gb))\n",
    "models.append(('RandomForestClassifier', rfc))\n"
   ]
  },
  {
   "cell_type": "code",
   "execution_count": 54,
   "id": "19349aa5",
   "metadata": {},
   "outputs": [
    {
     "name": "stdout",
     "output_type": "stream",
     "text": [
      "*********************** LogisticRegression ***********************\n",
      "LogisticRegression()\n",
      "Train Report: 0.31046457062412014\n",
      "Test Report: 0.06680369989722508\n",
      "Classification Report:               precision    recall  f1-score   support\n",
      "\n",
      "         1.0       0.01      0.67      0.01         9\n",
      "         2.0       0.00      0.67      0.01         3\n",
      "         3.0       0.01      0.80      0.03        20\n",
      "         4.0       0.00      0.00      0.00       129\n",
      "         5.0       0.95      0.06      0.12      2758\n",
      "\n",
      "    accuracy                           0.07      2919\n",
      "   macro avg       0.19      0.44      0.03      2919\n",
      "weighted avg       0.90      0.07      0.11      2919\n",
      "\n",
      "Confusion Matrix: [[   6    0    2    0    1]\n",
      " [   1    2    0    0    0]\n",
      " [   1    2   16    0    1]\n",
      " [  43   28   51    0    7]\n",
      " [ 875  613 1077   22  171]]\n",
      "Accuracy: 31.02 %\n",
      "Standard Deviation: 0.16 %\n",
      "*********************** DecisionTreeClassifier ***********************\n",
      "DecisionTreeClassifier()\n",
      "Train Report: 0.9993743156577507\n",
      "Test Report: 0.6135662898252826\n",
      "Classification Report:               precision    recall  f1-score   support\n",
      "\n",
      "         1.0       0.01      0.22      0.02         9\n",
      "         2.0       0.00      0.33      0.01         3\n",
      "         3.0       0.02      0.30      0.04        20\n",
      "         4.0       0.11      0.36      0.17       129\n",
      "         5.0       0.96      0.63      0.76      2758\n",
      "\n",
      "    accuracy                           0.61      2919\n",
      "   macro avg       0.22      0.37      0.20      2919\n",
      "weighted avg       0.91      0.61      0.73      2919\n",
      "\n",
      "Confusion Matrix: [[   2    1    0    1    5]\n",
      " [   0    1    2    0    0]\n",
      " [   2    2    6    2    8]\n",
      " [   5    8    4   47   65]\n",
      " [ 227  195  241  360 1735]]\n",
      "Accuracy: 78.36 %\n",
      "Standard Deviation: 0.51 %\n",
      "*********************** AdaBoostClassifier ***********************\n",
      "AdaBoostClassifier()\n",
      "Train Report: 0.5311434381354606\n",
      "Test Report: 0.2552243919150394\n",
      "Classification Report:               precision    recall  f1-score   support\n",
      "\n",
      "         1.0       0.01      0.33      0.01         9\n",
      "         2.0       0.00      0.33      0.00         3\n",
      "         3.0       0.02      0.65      0.04        20\n",
      "         4.0       0.08      0.40      0.14       129\n",
      "         5.0       0.98      0.25      0.39      2758\n",
      "\n",
      "    accuracy                           0.26      2919\n",
      "   macro avg       0.22      0.39      0.12      2919\n",
      "weighted avg       0.93      0.26      0.38      2919\n",
      "\n",
      "Confusion Matrix: [[  3   0   1   3   2]\n",
      " [  0   1   2   0   0]\n",
      " [  1   2  13   2   2]\n",
      " [ 16  23  28  52  10]\n",
      " [469 481 574 558 676]]\n",
      "Accuracy: 51.06 %\n",
      "Standard Deviation: 1.59 %\n",
      "*********************** GradientBoostingClassifier ***********************\n",
      "GradientBoostingClassifier()\n",
      "Train Report: 0.6941029250743\n",
      "Test Report: 0.45940390544707094\n",
      "Classification Report:               precision    recall  f1-score   support\n",
      "\n",
      "         1.0       0.01      0.33      0.02         9\n",
      "         2.0       0.01      0.67      0.01         3\n",
      "         3.0       0.03      0.70      0.06        20\n",
      "         4.0       0.14      0.60      0.22       129\n",
      "         5.0       0.98      0.45      0.62      2758\n",
      "\n",
      "    accuracy                           0.46      2919\n",
      "   macro avg       0.23      0.55      0.19      2919\n",
      "weighted avg       0.93      0.46      0.59      2919\n",
      "\n",
      "Confusion Matrix: [[   3    1    0    2    3]\n",
      " [   0    2    1    0    0]\n",
      " [   1    1   14    2    2]\n",
      " [   3   10   15   77   24]\n",
      " [ 326  280  424  483 1245]]\n",
      "Accuracy: 68.07 %\n",
      "Standard Deviation: 0.72 %\n",
      "*********************** RandomForestClassifier ***********************\n",
      "RandomForestClassifier()\n",
      "Train Report: 0.9993743156577507\n",
      "Test Report: 0.6039739636861939\n",
      "Classification Report:               precision    recall  f1-score   support\n",
      "\n",
      "         1.0       0.01      0.33      0.02         9\n",
      "         2.0       0.00      0.33      0.01         3\n",
      "         3.0       0.02      0.30      0.04        20\n",
      "         4.0       0.12      0.37      0.19       129\n",
      "         5.0       0.96      0.62      0.75      2758\n",
      "\n",
      "    accuracy                           0.60      2919\n",
      "   macro avg       0.22      0.39      0.20      2919\n",
      "weighted avg       0.91      0.60      0.72      2919\n",
      "\n",
      "Confusion Matrix: [[   3    1    0    1    4]\n",
      " [   0    1    2    0    0]\n",
      " [   2    1    6    3    8]\n",
      " [   7    6    5   48   63]\n",
      " [ 260  210  247  336 1705]]\n",
      "Accuracy: 81.26 %\n",
      "Standard Deviation: 0.63 %\n"
     ]
    }
   ],
   "source": [
    "m=[]\n",
    "score=[]\n",
    "score2=[]\n",
    "cv_score=[]\n",
    "roc_trainscore=[]\n",
    "roc_testscore=[]\n",
    "for name, model in models:\n",
    "    print('***********************',name,'***********************')\n",
    "    m.append(name)\n",
    "    model.fit(x_train_ns, y_train_ns)\n",
    "    print(model)\n",
    "    y_pred=model.predict(x_train_ns)\n",
    "    AS=accuracy_score(y_train_ns,y_pred)\n",
    "    print(\"Train Report:\",AS)\n",
    "    score.append(AS*100)\n",
    "    \n",
    "    pred=model.predict(x_test)\n",
    "    AS2=accuracy_score(y_test,pred)\n",
    "    print(\"Test Report:\",AS2)\n",
    "    score2.append(AS2*100)\n",
    "    CR=classification_report(y_test,pred)\n",
    "    print(\"Classification Report:\",CR)\n",
    "    CM=confusion_matrix(y_test,pred)\n",
    "    print(\"Confusion Matrix:\", CM)\n",
    "    \n",
    "    accuracies= cross_val_score(model, x_train_ns, y_train_ns, cv=5, scoring='accuracy')\n",
    "    print(\"Accuracy: {:.2f} %\".format(accuracies.mean()*100))\n",
    "    cv_score.append(accuracies.mean()*100)\n",
    "    print(\"Standard Deviation: {:.2f} %\".format(accuracies.std()*100))\n",
    "    "
   ]
  },
  {
   "cell_type": "code",
   "execution_count": 55,
   "id": "ed936907",
   "metadata": {},
   "outputs": [
    {
     "name": "stdout",
     "output_type": "stream",
     "text": [
      "5 5 5 5\n"
     ]
    }
   ],
   "source": [
    "print(len(m),len(score),len(score2),len(cv_score))"
   ]
  },
  {
   "cell_type": "code",
   "execution_count": 56,
   "id": "60664ec4",
   "metadata": {},
   "outputs": [
    {
     "data": {
      "text/html": [
       "<div>\n",
       "<style scoped>\n",
       "    .dataframe tbody tr th:only-of-type {\n",
       "        vertical-align: middle;\n",
       "    }\n",
       "\n",
       "    .dataframe tbody tr th {\n",
       "        vertical-align: top;\n",
       "    }\n",
       "\n",
       "    .dataframe thead th {\n",
       "        text-align: right;\n",
       "    }\n",
       "</style>\n",
       "<table border=\"1\" class=\"dataframe\">\n",
       "  <thead>\n",
       "    <tr style=\"text-align: right;\">\n",
       "      <th></th>\n",
       "      <th>Model</th>\n",
       "      <th>Accuracy_train_score</th>\n",
       "      <th>Accuracy_test_score</th>\n",
       "      <th>Cross_val_score</th>\n",
       "    </tr>\n",
       "  </thead>\n",
       "  <tbody>\n",
       "    <tr>\n",
       "      <th>0</th>\n",
       "      <td>LogisticRegression</td>\n",
       "      <td>31.046457</td>\n",
       "      <td>6.680370</td>\n",
       "      <td>31.015173</td>\n",
       "    </tr>\n",
       "    <tr>\n",
       "      <th>1</th>\n",
       "      <td>DecisionTreeClassifier</td>\n",
       "      <td>99.937432</td>\n",
       "      <td>61.356629</td>\n",
       "      <td>78.363835</td>\n",
       "    </tr>\n",
       "    <tr>\n",
       "      <th>2</th>\n",
       "      <td>AdaBoostClassifier</td>\n",
       "      <td>53.114344</td>\n",
       "      <td>25.522439</td>\n",
       "      <td>51.055842</td>\n",
       "    </tr>\n",
       "    <tr>\n",
       "      <th>3</th>\n",
       "      <td>GradientBoostingClassifier</td>\n",
       "      <td>69.410293</td>\n",
       "      <td>45.940391</td>\n",
       "      <td>68.074456</td>\n",
       "    </tr>\n",
       "    <tr>\n",
       "      <th>4</th>\n",
       "      <td>RandomForestClassifier</td>\n",
       "      <td>99.937432</td>\n",
       "      <td>60.397396</td>\n",
       "      <td>81.260754</td>\n",
       "    </tr>\n",
       "  </tbody>\n",
       "</table>\n",
       "</div>"
      ],
      "text/plain": [
       "                        Model  Accuracy_train_score  Accuracy_test_score  \\\n",
       "0          LogisticRegression             31.046457             6.680370   \n",
       "1      DecisionTreeClassifier             99.937432            61.356629   \n",
       "2          AdaBoostClassifier             53.114344            25.522439   \n",
       "3  GradientBoostingClassifier             69.410293            45.940391   \n",
       "4      RandomForestClassifier             99.937432            60.397396   \n",
       "\n",
       "   Cross_val_score  \n",
       "0        31.015173  \n",
       "1        78.363835  \n",
       "2        51.055842  \n",
       "3        68.074456  \n",
       "4        81.260754  "
      ]
     },
     "execution_count": 56,
     "metadata": {},
     "output_type": "execute_result"
    }
   ],
   "source": [
    "result = pd.DataFrame({'Model': m, 'Accuracy_train_score': score,'Accuracy_test_score': score2 ,'Cross_val_score':cv_score})\n",
    "result"
   ]
  },
  {
   "cell_type": "markdown",
   "id": "aed22e15",
   "metadata": {},
   "source": [
    "From above accuraces we can see there are major diffrance in all models test accuracy and cross validation accuracy. Now lets use hyper Tunning Parameter method to get better accuracy. \n",
    "From above table i m selecting Decision Tree Classifier is best model as it has least diffrance in accuracy."
   ]
  },
  {
   "cell_type": "markdown",
   "id": "a30b2a42",
   "metadata": {},
   "source": [
    "# HyperParameter Tuning"
   ]
  },
  {
   "cell_type": "code",
   "execution_count": 57,
   "id": "ddccf055",
   "metadata": {},
   "outputs": [
    {
     "name": "stdout",
     "output_type": "stream",
     "text": [
      "{'random_state': 30, 'min_samples_split': 8, 'max_depth': 11, 'ccp_alpha': 0.25}\n",
      "0.1999061473486626\n"
     ]
    }
   ],
   "source": [
    "# Hyper tuning by using RandomizedSearchCV With dt\n",
    "from sklearn.model_selection import RandomizedSearchCV\n",
    "\n",
    "para={'min_samples_split':[7,10,8],'ccp_alpha':[0.25,0.1,0.3,0.092],'max_depth':[2,4,11,10,8,9],'random_state':[20,10,30]}\n",
    "rand=RandomizedSearchCV(estimator=dt, cv=5,param_distributions=para, scoring = 'accuracy')\n",
    "rand.fit(x_train_ns,y_train_ns)\n",
    "\n",
    "print(rand.best_params_)\n",
    "print(rand.best_score_)"
   ]
  },
  {
   "cell_type": "code",
   "execution_count": 58,
   "id": "c08ec039",
   "metadata": {},
   "outputs": [
    {
     "name": "stdout",
     "output_type": "stream",
     "text": [
      "Train Report: 99.93743156577507\n",
      "Test Report: 60.3973963686194\n",
      "Classification Report:               precision    recall  f1-score   support\n",
      "\n",
      "         1.0       0.01      0.33      0.02         9\n",
      "         2.0       0.00      0.33      0.01         3\n",
      "         3.0       0.02      0.30      0.04        20\n",
      "         4.0       0.12      0.37      0.19       129\n",
      "         5.0       0.96      0.62      0.75      2758\n",
      "\n",
      "    accuracy                           0.60      2919\n",
      "   macro avg       0.22      0.39      0.20      2919\n",
      "weighted avg       0.91      0.60      0.72      2919\n",
      "\n",
      "Confusion Matrix: [[   3    1    0    1    4]\n",
      " [   0    1    2    0    0]\n",
      " [   2    1    6    3    8]\n",
      " [   7    6    5   48   63]\n",
      " [ 260  210  247  336 1705]]\n",
      "Accuracy: 78.83 %\n",
      "Standard Deviation: 0.18 %\n"
     ]
    }
   ],
   "source": [
    "dt=DecisionTreeClassifier(random_state=1, min_samples_split=8, max_depth= 4, ccp_alpha= 0.3)\n",
    "\n",
    "dt.fit(x_train_ns,y_train_ns)\n",
    "y_pred=model.predict(x_train_ns)\n",
    "AS=accuracy_score(y_train_ns,y_pred)\n",
    "print(\"Train Report:\",AS*100)\n",
    "pred=model.predict(x_test)\n",
    "AS2=accuracy_score(y_test,pred)\n",
    "print(\"Test Report:\",AS2*100)\n",
    "CR=classification_report(y_test,pred)\n",
    "print(\"Classification Report:\",CR)\n",
    "CM=confusion_matrix(y_test,pred)\n",
    "print(\"Confusion Matrix:\", CM)  \n",
    "accuracies= cross_val_score(model, x_train_ns, y_train_ns, cv=2, scoring='accuracy')\n",
    "print(\"Accuracy: {:.2f} %\".format(accuracies.mean()*100))\n",
    "cv_score.append(accuracies.mean()*100)\n",
    "print(\"Standard Deviation: {:.2f} %\".format(accuracies.std()*100))"
   ]
  },
  {
   "cell_type": "markdown",
   "id": "5705af72",
   "metadata": {},
   "source": [
    "As we see there is no change in accuracy and we are getting good accuracy with out hypertunning parameter."
   ]
  },
  {
   "cell_type": "markdown",
   "id": "9a72a3f9",
   "metadata": {},
   "source": [
    "# So, i m selecting DecisionTreeClassifier as best model."
   ]
  },
  {
   "cell_type": "code",
   "execution_count": 60,
   "id": "3f9be094",
   "metadata": {},
   "outputs": [],
   "source": [
    "#save model\n",
    "import pickle\n",
    "Filename='Finalized_model_Rating_Prediction1.pickle'\n",
    "pickle.dump(dt,open(Filename,'wb'))"
   ]
  },
  {
   "cell_type": "markdown",
   "id": "9c03fcbb",
   "metadata": {},
   "source": [
    "# Lets Predict the Rating for the test data by selected model"
   ]
  },
  {
   "cell_type": "code",
   "execution_count": 61,
   "id": "69b0f963",
   "metadata": {},
   "outputs": [
    {
     "data": {
      "text/html": [
       "<div>\n",
       "<style scoped>\n",
       "    .dataframe tbody tr th:only-of-type {\n",
       "        vertical-align: middle;\n",
       "    }\n",
       "\n",
       "    .dataframe tbody tr th {\n",
       "        vertical-align: top;\n",
       "    }\n",
       "\n",
       "    .dataframe thead th {\n",
       "        text-align: right;\n",
       "    }\n",
       "</style>\n",
       "<table border=\"1\" class=\"dataframe\">\n",
       "  <thead>\n",
       "    <tr style=\"text-align: right;\">\n",
       "      <th></th>\n",
       "      <th>Unnamed: 0</th>\n",
       "      <th>Review</th>\n",
       "      <th>Text</th>\n",
       "    </tr>\n",
       "  </thead>\n",
       "  <tbody>\n",
       "    <tr>\n",
       "      <th>0</th>\n",
       "      <td>0</td>\n",
       "      <td>Good laptop.</td>\n",
       "      <td>I don't know why people are cribbing so much a...</td>\n",
       "    </tr>\n",
       "    <tr>\n",
       "      <th>1</th>\n",
       "      <td>1</td>\n",
       "      <td>Good in the range but not the best</td>\n",
       "      <td>Firstly , I would like to talk about the scree...</td>\n",
       "    </tr>\n",
       "    <tr>\n",
       "      <th>2</th>\n",
       "      <td>2</td>\n",
       "      <td>Good product</td>\n",
       "      <td>I am writing this review after one month of u...</td>\n",
       "    </tr>\n",
       "    <tr>\n",
       "      <th>3</th>\n",
       "      <td>3</td>\n",
       "      <td>Graphics and battery are remarkable..i am sati...</td>\n",
       "      <td>Battery and video quality is remarkable but th...</td>\n",
       "    </tr>\n",
       "    <tr>\n",
       "      <th>4</th>\n",
       "      <td>4</td>\n",
       "      <td>What if feel about this laptop</td>\n",
       "      <td>If you going for a coding work then it is goo...</td>\n",
       "    </tr>\n",
       "    <tr>\n",
       "      <th>...</th>\n",
       "      <td>...</td>\n",
       "      <td>...</td>\n",
       "      <td>...</td>\n",
       "    </tr>\n",
       "    <tr>\n",
       "      <th>9469</th>\n",
       "      <td>9469</td>\n",
       "      <td>Good monitor in the price range</td>\n",
       "      <td>NaN</td>\n",
       "    </tr>\n",
       "    <tr>\n",
       "      <th>9470</th>\n",
       "      <td>9470</td>\n",
       "      <td>Better than average</td>\n",
       "      <td>Abends bestellt, nächsten Mittag schon da - da...</td>\n",
       "    </tr>\n",
       "    <tr>\n",
       "      <th>9471</th>\n",
       "      <td>9471</td>\n",
       "      <td>Good product at this price.</td>\n",
       "      <td>NaN</td>\n",
       "    </tr>\n",
       "    <tr>\n",
       "      <th>9472</th>\n",
       "      <td>9472</td>\n",
       "      <td>Best product</td>\n",
       "      <td>Eu sou da área de TI e na minha casa comprei o...</td>\n",
       "    </tr>\n",
       "    <tr>\n",
       "      <th>9473</th>\n",
       "      <td>9473</td>\n",
       "      <td>Okay Monitor</td>\n",
       "      <td>NaN</td>\n",
       "    </tr>\n",
       "  </tbody>\n",
       "</table>\n",
       "<p>9474 rows × 3 columns</p>\n",
       "</div>"
      ],
      "text/plain": [
       "      Unnamed: 0                                             Review  \\\n",
       "0              0                                       Good laptop.   \n",
       "1              1                 Good in the range but not the best   \n",
       "2              2                                       Good product   \n",
       "3              3  Graphics and battery are remarkable..i am sati...   \n",
       "4              4                     What if feel about this laptop   \n",
       "...          ...                                                ...   \n",
       "9469        9469                    Good monitor in the price range   \n",
       "9470        9470                                Better than average   \n",
       "9471        9471                        Good product at this price.   \n",
       "9472        9472                                       Best product   \n",
       "9473        9473                                       Okay Monitor   \n",
       "\n",
       "                                                   Text  \n",
       "0     I don't know why people are cribbing so much a...  \n",
       "1     Firstly , I would like to talk about the scree...  \n",
       "2      I am writing this review after one month of u...  \n",
       "3     Battery and video quality is remarkable but th...  \n",
       "4      If you going for a coding work then it is goo...  \n",
       "...                                                 ...  \n",
       "9469                                                NaN  \n",
       "9470  Abends bestellt, nächsten Mittag schon da - da...  \n",
       "9471                                                NaN  \n",
       "9472  Eu sou da área de TI e na minha casa comprei o...  \n",
       "9473                                                NaN  \n",
       "\n",
       "[9474 rows x 3 columns]"
      ]
     },
     "execution_count": 61,
     "metadata": {},
     "output_type": "execute_result"
    }
   ],
   "source": [
    "df1=pd.read_csv('Rating_testdata.csv')  # read the data\n",
    "df1"
   ]
  },
  {
   "cell_type": "code",
   "execution_count": 62,
   "id": "235df8da",
   "metadata": {},
   "outputs": [
    {
     "name": "stdout",
     "output_type": "stream",
     "text": [
      "(9474, 3)\n",
      "------------------------------------------------------------\n",
      "Unnamed: 0      0\n",
      "Review          0\n",
      "Text          764\n",
      "dtype: int64\n",
      "------------------------------------------------------------\n",
      "<class 'pandas.core.frame.DataFrame'>\n",
      "RangeIndex: 9474 entries, 0 to 9473\n",
      "Data columns (total 3 columns):\n",
      " #   Column      Non-Null Count  Dtype \n",
      "---  ------      --------------  ----- \n",
      " 0   Unnamed: 0  9474 non-null   int64 \n",
      " 1   Review      9474 non-null   object\n",
      " 2   Text        8710 non-null   object\n",
      "dtypes: int64(1), object(2)\n",
      "memory usage: 222.2+ KB\n",
      "None\n"
     ]
    },
    {
     "data": {
      "image/png": "[encoded data removed]",
      "text/plain": [
       "<Figure size 432x288 with 2 Axes>"
      ]
     },
     "metadata": {
      "needs_background": "light"
     },
     "output_type": "display_data"
    },
    {
     "name": "stdout",
     "output_type": "stream",
     "text": [
      "(8325, 2)\n",
      "                               Review  \\\n",
      "0                        Good laptop.   \n",
      "1  Good in the range but not the best   \n",
      "2                        Good product   \n",
      "\n",
      "                                                Text  \n",
      "0  I don't know why people are cribbing so much a...  \n",
      "1  Firstly , I would like to talk about the scree...  \n",
      "2   I am writing this review after one month of u...  \n",
      "                               Review  \\\n",
      "0                        good laptop.   \n",
      "1  good in the range but not the best   \n",
      "2                        good product   \n",
      "\n",
      "                                                Text  \n",
      "0  i don't know why people are cribbing so much a...  \n",
      "1  firstly , i would like to talk about the scree...  \n",
      "2   i am writing this review after one month of u...  \n",
      "['!', '\"', '#', '$', '%', '&', \"'\", '(', ')', '*', '+', ',', '-', '.', '/', ':', ';', '<', '=', '>', '?', '@', '[', '\\\\', ']', '^', '_', '`', '{', '|', '}', '~']\n",
      "     Review                                               Text\n",
      "70        -  i upgraded from a 2017 acer aspire intel i3 la...\n",
      "369       -  facing some hardware issue after 10 days of pu...\n",
      "421       -  as per the gaming this laptop is awesome and u...\n",
      "489       -  making customer fool i have purchased 15s-fq26...\n",
      "618       -  this hit the spot for laptop as a portable com...\n",
      "3432      .  nice and easy to use smart watch, it have very...\n",
      "4482      -   i didn't like the fact that there was no exte...\n",
      "4507      -                                          it's fair\n",
      "4719      -                 print 2*5 inch ka hona cahiye tha*\n",
      "4775      -                                                NaN\n",
      "5136      -  better to buy hp products from official websit...\n",
      "5224      -  using mainly for wfh. bought it because it has...\n",
      "5252      -   for the fact that i got this monitor in just ...\n",
      "5368      -  i purchased this monitor for the sole purpose ...\n",
      "5430      -  good monitor but it could be supplied with 5a ...\n",
      "5596      -  product is really good at this price i expect ...\n",
      "5812      -  very good monitor for gaming. colours are not ...\n",
      "5943      -  awesome product, cool on eyes. crisp , clear h...\n",
      "5983      -  i got this monitor and a very good system a cp...\n",
      "6163      -  the think that concerns is the product isn’t l...\n",
      "6210      -   the first one i received, remote was broken i...\n",
      "6430      -           fantastic sound quality and base control\n",
      "6454      -                        sound quality is very clear\n",
      "6480      -         bass is too good. but speaker sound worst.\n",
      "6507      -  this is good one in my home i'm fitted in hall...\n",
      "6683      -                                 not a good product\n",
      "6704      -                                          it's good\n",
      "6768      -  great for extending a wifi connection.\\n\\nhow ...\n",
      "7048      -  the first piece i received was defective and n...\n",
      "7053      -                                       poor signal.\n",
      "7269      -                                   easy to install.\n",
      "7329      .  [dd wrt][open-wrt] ciao a tutti volevo segnala...\n",
      "7337      .                                  very good product\n",
      "7374      -          singal range and quality could be better.\n",
      "7397      -  limita minha internet de 150mbps para cerca de...\n",
      "7637      -  easy to configure, have good signal strength p...\n",
      "7665      -  esse modelo archer ax10 é uma excelente porta ...\n",
      "7750      -  ich schwöre ja bereits seit langem auf die hoc...\n",
      "7807      -  covers 3k office space with 2 devices excellen...\n",
      "7841      -  my flat is 1900 sqft with rooms spread across ...\n",
      "7874      -  so we upgraded from an asus rt - ac 68u to thi...\n",
      "7909      -  o roteador cumpre o que promete em relação as ...\n",
      "7943      -  not connecting to network seamlessly between d...\n",
      "8079      -  realmente no tiene un buen alcance, tampoco es...\n",
      "8087      -                        good one\\nbut heating issue\n",
      "8109      -  i received one faulty unit. vendor replaced co...\n",
      "8142      -  este producto ni siquiera lo he llegado a prob...\n",
      "8202      -  good product but not value for money and it ta...\n",
      "8296      -  fellow shoppers if you need performance look f...\n"
     ]
    }
   ],
   "source": [
    "# check the no. of rows & column & finding the count of missing value\n",
    "print(df1.shape)\n",
    "print(\"-\"*60)\n",
    "print(df1.isna().sum())\n",
    "print(\"-\"*60)\n",
    "#printing the summary of data type\n",
    "print(df1.info())\n",
    "\n",
    "# Lets first delate the irrelavant columns\n",
    "df1.drop(columns=['Unnamed: 0'],axis=1, inplace=True)\n",
    "\n",
    "# Checking null value by plotting heatmap\n",
    "sns.heatmap(df1.isnull())\n",
    "plt.show()\n",
    "\n",
    "#first remove duplicates & recheck the size\n",
    "df1.drop_duplicates(inplace=True)\n",
    "print(df1.shape)\n",
    "\n",
    "# Reset the index\n",
    "df1=df1.reset_index()\n",
    "\n",
    "df1=df1.drop(columns='index')\n",
    "\n",
    "print(df1.head(3))\n",
    "\n",
    "#Converting all capital letter into small letters\n",
    "for i in df1:\n",
    "    df1[i] =df1[i].str.lower()\n",
    "print(df1.head(3))\n",
    "\n",
    "# Checking special characater if any\n",
    "import string\n",
    "alphabet = string.punctuation\n",
    "list1=list(alphabet)\n",
    "print(list1)\n",
    "\n",
    "# contain the given list if strings\n",
    "print(df1[df1['Review'].isin(list1)])"
   ]
  },
  {
   "cell_type": "code",
   "execution_count": 63,
   "id": "1696ae76",
   "metadata": {},
   "outputs": [],
   "source": [
    "# remove special character\n",
    "df1['Review'] = df1['Review'].str.replace(\".\", \"\")\n",
    "df1['Review'] = df1['Review'].str.replace(\"!\", \"\")\n",
    "df1['Review'] = df1['Review'].str.replace(\"&\", \"\")\n",
    "df1['Review'] = df1['Review'].str.replace(\"#\", \"\")\n",
    "df1['Review'] = df1['Review'].str.replace(\"@\", \"\")\n",
    "df1['Review'] = df1['Review'].str.replace(\"4\", \"\")\n",
    "df1['Review'] = df1['Review'].str.replace(\"\\n\", \"\")\n",
    "df1['Review'] = df1['Review'].str.replace(\"=\", \"\")\n",
    "df1['Review'] = df1['Review'].str.replace(\"-\", \"\")\n",
    "df1['Review'] = df1['Review'].str.replace(\"_\", \"\")\n",
    "df1['Review'] = df1['Review'].str.replace(\"/\", \"\")\n",
    "df1['Review'] = df1['Review'].str.replace(\"^\", \"\")\n",
    "df1['Review'] = df1['Review'].str.replace(\",\", \"\")"
   ]
  },
  {
   "cell_type": "code",
   "execution_count": 64,
   "id": "8f2c75c1",
   "metadata": {},
   "outputs": [],
   "source": [
    "df1['Text'] = df1['Text'].str.replace(\".\", \"\")\n",
    "df1['Text'] = df1['Text'].str.replace(\"!\", \"\")\n",
    "df1['Text'] = df1['Text'].str.replace(\"&\", \"\")\n",
    "df1['Text'] = df1['Text'].str.replace(\"#\", \"\")\n",
    "df1['Text'] = df1['Text'].str.replace(\"@\", \"\")\n",
    "df1['Text'] = df1['Text'].str.replace(\"4\", \"\")\n",
    "df1['Text'] = df1['Text'].str.replace(\"\\n\", \"\")\n",
    "df1['Text'] = df1['Text'].str.replace(\"=\", \"\")\n",
    "df1['Text'] = df1['Text'].str.replace(\"-\", \"\")\n",
    "df1['Text'] = df1['Text'].str.replace(\"_\", \"\")\n",
    "df1['Text'] = df1['Text'].str.replace(\"/\", \"\")\n",
    "df1['Text'] = df1['Text'].str.replace(\"^\", \"\")\n",
    "df1['Text'] = df1['Text'].str.replace(\",\", \"\")\n",
    "df1['Text'] = df1['Text'].str.replace(\"2\", \"\")\n",
    "df1['Text'] = df1['Text'].str.replace(\":\", \"\")\n",
    "df1['Text'] = df1['Text'].str.replace(\";\", \"\")\n",
    "df1['Text'] = df1['Text'].str.replace(\"?\", \"\")"
   ]
  },
  {
   "cell_type": "code",
   "execution_count": 65,
   "id": "9e2eaf51",
   "metadata": {},
   "outputs": [
    {
     "name": "stdout",
     "output_type": "stream",
     "text": [
      "['Review', 'Text']\n"
     ]
    }
   ],
   "source": [
    "# lets seaprate the catogorical data & numirical data\n",
    "numerics=['int8','int16','int32','int64','float16','float32','float64']\n",
    "cat_col=[] #empty list\n",
    "features=df1.columns.values.tolist()\n",
    "for i in features:\n",
    "    if df1[i].dtype in numerics:\n",
    "        continue\n",
    "    cat_col.append(i)\n",
    "print(cat_col)"
   ]
  },
  {
   "cell_type": "code",
   "execution_count": 66,
   "id": "76c0a301",
   "metadata": {},
   "outputs": [
    {
     "data": {
      "text/html": [
       "<div>\n",
       "<style scoped>\n",
       "    .dataframe tbody tr th:only-of-type {\n",
       "        vertical-align: middle;\n",
       "    }\n",
       "\n",
       "    .dataframe tbody tr th {\n",
       "        vertical-align: top;\n",
       "    }\n",
       "\n",
       "    .dataframe thead th {\n",
       "        text-align: right;\n",
       "    }\n",
       "</style>\n",
       "<table border=\"1\" class=\"dataframe\">\n",
       "  <thead>\n",
       "    <tr style=\"text-align: right;\">\n",
       "      <th></th>\n",
       "      <th>Review</th>\n",
       "      <th>Text</th>\n",
       "    </tr>\n",
       "  </thead>\n",
       "  <tbody>\n",
       "    <tr>\n",
       "      <th>0</th>\n",
       "      <td>1117</td>\n",
       "      <td>1112</td>\n",
       "    </tr>\n",
       "    <tr>\n",
       "      <th>1</th>\n",
       "      <td>1110</td>\n",
       "      <td>722</td>\n",
       "    </tr>\n",
       "    <tr>\n",
       "      <th>2</th>\n",
       "      <td>1201</td>\n",
       "      <td>45</td>\n",
       "    </tr>\n",
       "  </tbody>\n",
       "</table>\n",
       "</div>"
      ],
      "text/plain": [
       "   Review  Text\n",
       "0    1117  1112\n",
       "1    1110   722\n",
       "2    1201    45"
      ]
     },
     "execution_count": 66,
     "metadata": {},
     "output_type": "execute_result"
    }
   ],
   "source": [
    "# Lets frist covert categorical data(type & column) into int \n",
    "label = LabelEncoder()\n",
    "for i in cat_col:\n",
    "    data=label.fit_transform(df1[i])\n",
    "    pd.Series(data)\n",
    "    df1[i]=data\n",
    "    \n",
    "df1.head(3)"
   ]
  },
  {
   "cell_type": "code",
   "execution_count": 67,
   "id": "450b3305",
   "metadata": {},
   "outputs": [],
   "source": [
    "# Creating null value list which we want to impute by using iterative inputer\n",
    "data=df1[['Text']]\n",
    "from sklearn.experimental import enable_iterative_imputer\n",
    "from sklearn.impute import IterativeImputer\n",
    "imputer = IterativeImputer()\n",
    "for i in data:\n",
    "    df2=imputer.fit_transform(df1[[i]])\n",
    "    pd.Series([df2])\n",
    "    df1[i]=df2"
   ]
  },
  {
   "cell_type": "code",
   "execution_count": 68,
   "id": "ad92de54",
   "metadata": {},
   "outputs": [
    {
     "name": "stdout",
     "output_type": "stream",
     "text": [
      "Review    0\n",
      "Text      0\n",
      "dtype: int64\n"
     ]
    }
   ],
   "source": [
    "# Rechecking the null values again after treating with Imputer Tech.\n",
    "print(df1.isna().sum())"
   ]
  },
  {
   "cell_type": "code",
   "execution_count": 69,
   "id": "4b1f2141",
   "metadata": {},
   "outputs": [
    {
     "data": {
      "image/png": "[encoded data removed]",
      "text/plain": [
       "<Figure size 1080x1440 with 2 Axes>"
      ]
     },
     "metadata": {
      "needs_background": "light"
     },
     "output_type": "display_data"
    }
   ],
   "source": [
    "#Let's see the how data is distributed or Graphical analysis of all features\n",
    "plt.figure(figsize=(15,20))\n",
    "plotnumber=1\n",
    "for column in df1:\n",
    "    if plotnumber<=40:\n",
    "        ax=plt.subplot(10,4,plotnumber)\n",
    "        sns.distplot(df1[column])\n",
    "        plt.xlabel(column,fontsize=15)\n",
    "    plotnumber+=1\n",
    "plt.tight_layout()"
   ]
  },
  {
   "cell_type": "code",
   "execution_count": 70,
   "id": "44144c32",
   "metadata": {},
   "outputs": [
    {
     "name": "stdout",
     "output_type": "stream",
     "text": [
      "Review    0.055674\n",
      "Text      0.018658\n",
      "dtype: float64\n"
     ]
    },
    {
     "data": {
      "image/png": "[encoded data removed]",
      "text/plain": [
       "<Figure size 1080x1440 with 2 Axes>"
      ]
     },
     "metadata": {
      "needs_background": "light"
     },
     "output_type": "display_data"
    }
   ],
   "source": [
    "# Check skewness by skew value\n",
    "print(df1.skew().sort_values(ascending=False))\n",
    "\n",
    "# Separate the skewed columns\n",
    "df3=['Text','Review']\n",
    "\n",
    "# Using power transformation to remove skewed data\n",
    "from sklearn.preprocessing import PowerTransformer\n",
    "pt=PowerTransformer()\n",
    "df1[df3]=pt.fit_transform(df1[df3].values)\n",
    "\n",
    "# Distribution after Power Transformation\n",
    "plt.figure(figsize=(15,20))\n",
    "plotnumber=1\n",
    "for column in df1:\n",
    "    if plotnumber<=40:\n",
    "        ax=plt.subplot(10,4,plotnumber)\n",
    "        sns.distplot(df1[column])\n",
    "        plt.xlabel(column,fontsize=15)\n",
    "    plotnumber+=1\n",
    "plt.tight_layout()\n",
    "\n"
   ]
  },
  {
   "cell_type": "code",
   "execution_count": 71,
   "id": "5644c6cc",
   "metadata": {},
   "outputs": [
    {
     "data": {
      "image/png": "[encoded data removed]",
      "text/plain": [
       "<Figure size 432x288 with 2 Axes>"
      ]
     },
     "metadata": {
      "needs_background": "light"
     },
     "output_type": "display_data"
    }
   ],
   "source": [
    "#Let's see the outliers in the dataset by using box plot or Graphical analysis of all features\n",
    "plotnumber=1\n",
    "for column in df1:\n",
    "    if plotnumber<=4:\n",
    "        ax=plt.subplot(2,2,plotnumber)\n",
    "        sns.boxplot(df1[column])\n",
    "        plt.xlabel(column,fontsize=15)\n",
    "    plotnumber+=1\n",
    "plt.tight_layout()"
   ]
  },
  {
   "cell_type": "markdown",
   "id": "c4a0306b",
   "metadata": {},
   "source": [
    "# Lets Do the prediction by using selected saved model"
   ]
  },
  {
   "cell_type": "code",
   "execution_count": 76,
   "id": "871fac68",
   "metadata": {},
   "outputs": [],
   "source": [
    "df1[\"predictions\"] = df1[['Text','Review']].apply(lambda s: dt.predict(s.values[None])[0], axis=1)"
   ]
  },
  {
   "cell_type": "code",
   "execution_count": 77,
   "id": "7e40b62a",
   "metadata": {},
   "outputs": [
    {
     "data": {
      "text/plain": [
       "0       1.0\n",
       "1       1.0\n",
       "2       1.0\n",
       "3       1.0\n",
       "4       1.0\n",
       "       ... \n",
       "8320    1.0\n",
       "8321    1.0\n",
       "8322    1.0\n",
       "8323    1.0\n",
       "8324    1.0\n",
       "Name: predictions, Length: 8325, dtype: float64"
      ]
     },
     "execution_count": 77,
     "metadata": {},
     "output_type": "execute_result"
    }
   ],
   "source": [
    "df1[\"predictions\"]"
   ]
  },
  {
   "cell_type": "code",
   "execution_count": null,
   "id": "ffe22d40",
   "metadata": {},
   "outputs": [],
   "source": []
  }
 ],
 "metadata": {
  "kernelspec": {
   "display_name": "Python 3 (ipykernel)",
   "language": "python",
   "name": "python3"
  },
  "language_info": {
   "codemirror_mode": {
    "name": "ipython",
    "version": 3
   },
   "file_extension": ".py",
   "mimetype": "text/x-python",
   "name": "python",
   "nbconvert_exporter": "python",
   "pygments_lexer": "ipython3",
   "version": "3.9.12"
  }
 },
 "nbformat": 4,
 "nbformat_minor": 5
}
