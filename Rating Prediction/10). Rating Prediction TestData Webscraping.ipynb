{
 "cells": [
  {
   "cell_type": "code",
   "execution_count": 1,
   "id": "a518049a",
   "metadata": {},
   "outputs": [],
   "source": [
    "import requests\n",
    "import selenium\n",
    "from selenium import webdriver\n",
    "from selenium.webdriver.common.by import By\n",
    "from selenium.webdriver.support.ui import WebDriverWait, Select\n",
    "from selenium.webdriver.support import expected_conditions as EC\n",
    "import pandas as pd\n",
    "import numpy as np\n",
    "import warnings\n",
    "warnings.filterwarnings(\"ignore\")\n",
    "import time\n",
    "\n",
    "from selenium.webdriver.chrome.options import Options\n",
    "from selenium.webdriver.common.keys import Keys\n",
    "from selenium.webdriver.chrome.service import Service"
   ]
  },
  {
   "cell_type": "code",
   "execution_count": 2,
   "id": "f07fbe23",
   "metadata": {},
   "outputs": [],
   "source": [
    "#connect to web driver\n",
    "chrome_options=Options()\n",
    "chrome_options.add_argument(\"disable--infobars\")\n",
    "chrome_options.add_argument(\"--incognito\")\n",
    "driver=webdriver.Chrome(r\"D:\\My Course\\chromedriver_win32\\chromedriver.exe\", options=chrome_options)\n",
    "\n",
    "#maximize the chrome window\n",
    "driver.maximize_window() \n",
    "\n",
    "# Amazon webpage by url : https://www.amazon.in/\n",
    "url=\"https://www.amazon.in/\" \n",
    "driver.get(url)\n",
    "driver.implicitly_wait(4)\n"
   ]
  },
  {
   "cell_type": "code",
   "execution_count": 3,
   "id": "0c361d72",
   "metadata": {},
   "outputs": [],
   "source": [
    "#Entering “key” in search field where “search for products, brands and more” \n",
    "key=['laptops', 'Phones', 'Headphones', 'smart watches', 'Professional Cameras', 'Printers', 'Monitors', 'Hometheater', 'Router']\n",
    "\n",
    "#Create empty list\n",
    "url2=[]\n",
    "\n",
    "for i in key:   \n",
    "    srchBar = driver.find_element(By.XPATH,\"//div[@class='nav-search-field ']/input\") #Locating search bar\n",
    "    srchBar.clear()\n",
    "    srchBar.send_keys(i)\n",
    "    \n",
    "    #Click on search button\n",
    "    driver.find_element(By.XPATH,'/html/body/div[1]/header/div/div[1]/div[2]/div/form/div[3]/div/span/input').click()\n",
    "    \n",
    "    #Scrapping url\n",
    "    for a in range(0,10):\n",
    "        for i in driver.find_elements(By.XPATH, '//h2[@class=\"a-size-mini a-spacing-none a-color-base s-line-clamp-2\"]/a'):\n",
    "            url2.append(i.get_attribute('href')) \n",
    "        try:\n",
    "            next_button=driver.find_element(By.XPATH,'//a[@class=\"s-pagination-item s-pagination-next s-pagination-button s-pagination-separator\"]').click()\n",
    "        except:\n",
    "            next_button=driver.find_element(By.XPATH,'//a[@class=\"s-pagination-item s-pagination-button\"]').click()"
   ]
  },
  {
   "cell_type": "code",
   "execution_count": 4,
   "id": "4dc9eee6",
   "metadata": {},
   "outputs": [
    {
     "data": {
      "text/plain": [
       "587"
      ]
     },
     "execution_count": 4,
     "metadata": {},
     "output_type": "execute_result"
    }
   ],
   "source": [
    "len(url2)"
   ]
  },
  {
   "cell_type": "code",
   "execution_count": 5,
   "id": "28186318",
   "metadata": {},
   "outputs": [],
   "source": [
    "def scrap1():\n",
    "    try:\n",
    "        for i in driver.find_elements(By.XPATH, '//div[@class=\"a-row\"]/a[2]'):\n",
    "            review.append(i.text)\n",
    "            driver.implicitly_wait(1)\n",
    "    except:\n",
    "        review.append(\"-\")          \n",
    "    try:\n",
    "        for i in driver.find_elements(By.XPATH, '//div[@class=\"a-expander-content reviewText review-text-content a-expander-partial-collapse-content\"]/span'):\n",
    "            story.append(i.text)\n",
    "            driver.implicitly_wait(1)\n",
    "    except:\n",
    "        for i in driver.find_elements(By.XPATH, '//span[@class=\"a-size-base review-text review-text-content\"]'):\n",
    "            story.append(i.text)\n",
    "            driver.implicitly_wait(1)\n"
   ]
  },
  {
   "cell_type": "code",
   "execution_count": 6,
   "id": "09835b04",
   "metadata": {},
   "outputs": [],
   "source": [
    "review=[]\n",
    "story=[]\n",
    "for a in url2:\n",
    "    driver.get(a)\n",
    "    driver.execute_script(\"window.scrollBy(0,6000)\")\n",
    "    scrap1()\n",
    "    try:\n",
    "        all_review=driver.find_element(By.XPATH,'//a[@id=\"acrCustomerReviewLink\"]').click()\n",
    "    except:\n",
    "        pass\n",
    "    scrap1()\n",
    "    driver.execute_script(\"window.scrollBy(0,6000)\")\n",
    "    try:\n",
    "        see_all_review=driver.find_element(By.XPATH,'//a[@class=\"a-link-emphasis a-text-bold\"]').click()\n",
    "    except:\n",
    "        pass\n",
    "    try:\n",
    "        driver.find_element(By.XPATH,'/html/body/div[1]/div[3]/div/div[1]/div/div[1]/div[5]/div[3]/div/div[11]/span/div/ul/li[2]').click()\n",
    "        scrap1()\n",
    "        driver.implicitly_wait(1)\n",
    "        driver.find_element(By.XPATH,'/html/body/div[1]/div[3]/div/div[1]/div/div[1]/div[5]/div[3]/div/div[12]/span/div/ul/li[2]').click()\n",
    "        scrap1()\n",
    "        driver.implicitly_wait(1)\n",
    "        driver.find_element(By.XPATH,'/html/body/div[1]/div[3]/div/div[1]/div/div[1]/div[5]/div[3]/div/div[13]/span/div/ul/li[2]').click()\n",
    "        scrap1()\n",
    "    except:\n",
    "        pass\n",
    "        "
   ]
  },
  {
   "cell_type": "code",
   "execution_count": 7,
   "id": "6e86a2fa",
   "metadata": {},
   "outputs": [
    {
     "name": "stdout",
     "output_type": "stream",
     "text": [
      "9474 14311 2\n"
     ]
    }
   ],
   "source": [
    "print(len(story),len(review))"
   ]
  },
  {
   "cell_type": "code",
   "execution_count": 10,
   "id": "22d36bfa",
   "metadata": {},
   "outputs": [
    {
     "data": {
      "text/html": [
       "<div>\n",
       "<style scoped>\n",
       "    .dataframe tbody tr th:only-of-type {\n",
       "        vertical-align: middle;\n",
       "    }\n",
       "\n",
       "    .dataframe tbody tr th {\n",
       "        vertical-align: top;\n",
       "    }\n",
       "\n",
       "    .dataframe thead th {\n",
       "        text-align: right;\n",
       "    }\n",
       "</style>\n",
       "<table border=\"1\" class=\"dataframe\">\n",
       "  <thead>\n",
       "    <tr style=\"text-align: right;\">\n",
       "      <th></th>\n",
       "      <th>Review</th>\n",
       "      <th>Text</th>\n",
       "    </tr>\n",
       "  </thead>\n",
       "  <tbody>\n",
       "    <tr>\n",
       "      <th>0</th>\n",
       "      <td>Good laptop.</td>\n",
       "      <td>I don't know why people are cribbing so much a...</td>\n",
       "    </tr>\n",
       "    <tr>\n",
       "      <th>1</th>\n",
       "      <td>Good in the range but not the best</td>\n",
       "      <td>Firstly , I would like to talk about the scree...</td>\n",
       "    </tr>\n",
       "    <tr>\n",
       "      <th>2</th>\n",
       "      <td>Good product</td>\n",
       "      <td>I am writing this review after one month of u...</td>\n",
       "    </tr>\n",
       "    <tr>\n",
       "      <th>3</th>\n",
       "      <td>Graphics and battery are remarkable..i am sati...</td>\n",
       "      <td>Battery and video quality is remarkable but th...</td>\n",
       "    </tr>\n",
       "    <tr>\n",
       "      <th>4</th>\n",
       "      <td>What if feel about this laptop</td>\n",
       "      <td>If you going for a coding work then it is goo...</td>\n",
       "    </tr>\n",
       "    <tr>\n",
       "      <th>...</th>\n",
       "      <td>...</td>\n",
       "      <td>...</td>\n",
       "    </tr>\n",
       "    <tr>\n",
       "      <th>9469</th>\n",
       "      <td>Good monitor in the price range</td>\n",
       "      <td></td>\n",
       "    </tr>\n",
       "    <tr>\n",
       "      <th>9470</th>\n",
       "      <td>Better than average</td>\n",
       "      <td>Abends bestellt, nächsten Mittag schon da - da...</td>\n",
       "    </tr>\n",
       "    <tr>\n",
       "      <th>9471</th>\n",
       "      <td>Good product at this price.</td>\n",
       "      <td></td>\n",
       "    </tr>\n",
       "    <tr>\n",
       "      <th>9472</th>\n",
       "      <td>Best product</td>\n",
       "      <td>Eu sou da área de TI e na minha casa comprei o...</td>\n",
       "    </tr>\n",
       "    <tr>\n",
       "      <th>9473</th>\n",
       "      <td>Okay Monitor</td>\n",
       "      <td></td>\n",
       "    </tr>\n",
       "  </tbody>\n",
       "</table>\n",
       "<p>9474 rows × 2 columns</p>\n",
       "</div>"
      ],
      "text/plain": [
       "                                                 Review  \\\n",
       "0                                          Good laptop.   \n",
       "1                    Good in the range but not the best   \n",
       "2                                          Good product   \n",
       "3     Graphics and battery are remarkable..i am sati...   \n",
       "4                        What if feel about this laptop   \n",
       "...                                                 ...   \n",
       "9469                    Good monitor in the price range   \n",
       "9470                                Better than average   \n",
       "9471                        Good product at this price.   \n",
       "9472                                       Best product   \n",
       "9473                                       Okay Monitor   \n",
       "\n",
       "                                                   Text  \n",
       "0     I don't know why people are cribbing so much a...  \n",
       "1     Firstly , I would like to talk about the scree...  \n",
       "2      I am writing this review after one month of u...  \n",
       "3     Battery and video quality is remarkable but th...  \n",
       "4      If you going for a coding work then it is goo...  \n",
       "...                                                 ...  \n",
       "9469                                                     \n",
       "9470  Abends bestellt, nächsten Mittag schon da - da...  \n",
       "9471                                                     \n",
       "9472  Eu sou da área de TI e na minha casa comprei o...  \n",
       "9473                                                     \n",
       "\n",
       "[9474 rows x 2 columns]"
      ]
     },
     "execution_count": 10,
     "metadata": {},
     "output_type": "execute_result"
    }
   ],
   "source": [
    "df1=pd.DataFrame({'Review':review[:9474],'Text':story[:9474]})\n",
    "df1"
   ]
  },
  {
   "cell_type": "code",
   "execution_count": 11,
   "id": "4e65e1ac",
   "metadata": {},
   "outputs": [],
   "source": [
    "#Save file to system \n",
    "df1.to_csv('Rating_testdata.csv')"
   ]
  },
  {
   "cell_type": "code",
   "execution_count": null,
   "id": "b502d755",
   "metadata": {},
   "outputs": [],
   "source": []
  }
 ],
 "metadata": {
  "kernelspec": {
   "display_name": "Python 3 (ipykernel)",
   "language": "python",
   "name": "python3"
  },
  "language_info": {
   "codemirror_mode": {
    "name": "ipython",
    "version": 3
   },
   "file_extension": ".py",
   "mimetype": "text/x-python",
   "name": "python",
   "nbconvert_exporter": "python",
   "pygments_lexer": "ipython3",
   "version": "3.9.12"
  }
 },
 "nbformat": 4,
 "nbformat_minor": 5
}
