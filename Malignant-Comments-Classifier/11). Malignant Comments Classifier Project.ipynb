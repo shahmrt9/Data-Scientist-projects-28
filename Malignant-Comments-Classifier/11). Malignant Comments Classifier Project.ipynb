{
 "cells": [
  {
   "cell_type": "markdown",
   "id": "ffca6601",
   "metadata": {},
   "source": [
    "# MALIGNANT COMMENTS CLASSIFICATION"
   ]
  },
  {
   "cell_type": "markdown",
   "id": "e0c9f54c",
   "metadata": {},
   "source": [
    "Problem Statement \n",
    "\n",
    "The proliferation of social media enables people to express their opinions widely online. However, at the same time, this has resulted in the emergence of conflict and hate, making online environments uninviting for users. Although researchers have found that hate is a problem across multiple platforms, there is a lack of models for online hate detection. Online hate, described as abusive language, aggression, cyberbullying, hatefulness and many others has been identified as a major threat on online social media platforms. Social media platforms are the most prominent grounds for such toxic behaviour.\n",
    "There has been a remarkable increase in the cases of cyberbullying and trolls on various social media platforms. Many celebrities and influences are facing backlashes from people and have to come across hateful and offensive comments. This can take a toll on anyone and affect them mentally leading to depression, mental illness, self-hatred and suicidal thoughts.\n",
    "Internet comments are bastions of hatred and vitriol. While online anonymity has provided a new outlet for aggression and hate speech, machine learning can be used to fight it. The problem we sought to solve was the tagging of internet comments that are aggressive towards other users. This means that insults to third parties such as celebrities will be tagged as unoffensive, but “u are an idiot” is clearly offensive. Our goal is to build a prototype of online hate and abuse comment classifier which can used to classify hate and offensive comments so that it can be controlled and restricted from spreading hatred and cyberbullying. Data Set Description The data set contains the training set, which has approximately 1,59,000 samples and the test set which contains nearly 1,53,000 samples. All the data samples contain 8 fields which includes ‘Id’, ‘Comments’, ‘Malignant’, ‘Highly malignant’, ‘Rude’, ‘Threat’, ‘Abuse’ and ‘Loathe’. The label can be either 0 or 1, where 0 denotes a NO while 1 denotes a YES. There are various comments which have multiple labels. The first attribute is a unique ID associated with each comment.\n",
    "The data set includes:\n",
    "\n",
    "Malignant: It is the Label column, which includes values 0 and 1, denoting if the comment is malignant or not.\n",
    "Highly Malignant: It denotes comments that are highly malignant and hurtful.\n",
    "Rude: It denotes comments that are very rude and offensive.\n",
    "Threat: It contains indication of the comments that are giving any threat to someone.\n",
    "Abuse: It is for comments that are abusive in nature.\n",
    "Loathe: It describes the comments which are hateful and loathing in nature.\n",
    "ID: It includes unique Ids associated with each comment text given.\n",
    "Comment text: This column contains the comments extracted from various social media platforms. This project is more about exploration, feature engineering and classification that can be done on this data. Since the data set is huge and includes many categories of comments, we can do good amount of data exploration and derive some interesting features using the comments text column available. You need to build a model that can differentiate between comments and its categories.\n",
    "Refer to the data set file provided along with this.\n",
    "abuse== Binary column with labels with abusive behaviour. loathe== Label to comments that are full of loathe and hatred.\n",
    "\n",
    "There may be some comments which have multiple labels on them, i.e. some comments may be both malignant and loathe.\n",
    "\n",
    "You are provided with a large number of comments which have been labeled by human raters for malignant behaviour.\n",
    "The types are: Malignant Highly_malignant Rude Threat Abuse Loathe\n",
    "\n",
    "You must create a model to predict a probability of each type of toxicity for each comment.\n",
    "\n",
    "File Description\n",
    "train.csv the training set which contains comments with their binary labels. test.csv The test set for which the predictions are to be done. It includes id and comments_text."
   ]
  },
  {
   "cell_type": "markdown",
   "id": "1aeff0c4",
   "metadata": {},
   "source": [
    "# Importing Libraries"
   ]
  },
  {
   "cell_type": "code",
   "execution_count": 1,
   "id": "97d41465",
   "metadata": {},
   "outputs": [],
   "source": [
    "import pandas as pd        # for data manipulation\n",
    "import numpy as np         # for mathematical calculations\n",
    "import seaborn as sns      # for data visualization\n",
    "\n",
    "import matplotlib.pyplot as plt  #for graphical analysis\n",
    "%matplotlib inline\n",
    "\n",
    "from scipy.stats import zscore # to remove outliers\n",
    "\n",
    "from sklearn.preprocessing import StandardScaler  # for normalize the model\n",
    "from sklearn.preprocessing import LabelEncoder  # to convert object into int\n",
    "\n",
    "#importing nlp library\n",
    "import nltk\n",
    "from nltk.corpus import stopwords\n",
    "from nltk.tokenize import word_tokenize\n",
    "\n",
    "from sklearn.model_selection import train_test_split  # for train and test model\n",
    "\n",
    "import warnings                      # to ignore any warnings\n",
    "warnings.filterwarnings(\"ignore\")\n",
    "\n",
    "from sklearn import metrics  # for model evaluation\n",
    "from sklearn.metrics import accuracy_score, confusion_matrix, classification_report, auc"
   ]
  },
  {
   "cell_type": "markdown",
   "id": "09083289",
   "metadata": {},
   "source": [
    "# Load the dataset"
   ]
  },
  {
   "cell_type": "code",
   "execution_count": 2,
   "id": "98dc4a06",
   "metadata": {},
   "outputs": [
    {
     "data": {
      "text/html": [
       "<div>\n",
       "<style scoped>\n",
       "    .dataframe tbody tr th:only-of-type {\n",
       "        vertical-align: middle;\n",
       "    }\n",
       "\n",
       "    .dataframe tbody tr th {\n",
       "        vertical-align: top;\n",
       "    }\n",
       "\n",
       "    .dataframe thead th {\n",
       "        text-align: right;\n",
       "    }\n",
       "</style>\n",
       "<table border=\"1\" class=\"dataframe\">\n",
       "  <thead>\n",
       "    <tr style=\"text-align: right;\">\n",
       "      <th></th>\n",
       "      <th>id</th>\n",
       "      <th>comment_text</th>\n",
       "      <th>malignant</th>\n",
       "      <th>highly_malignant</th>\n",
       "      <th>rude</th>\n",
       "      <th>threat</th>\n",
       "      <th>abuse</th>\n",
       "      <th>loathe</th>\n",
       "    </tr>\n",
       "  </thead>\n",
       "  <tbody>\n",
       "    <tr>\n",
       "      <th>0</th>\n",
       "      <td>0000997932d777bf</td>\n",
       "      <td>Explanation\\nWhy the edits made under my usern...</td>\n",
       "      <td>0</td>\n",
       "      <td>0</td>\n",
       "      <td>0</td>\n",
       "      <td>0</td>\n",
       "      <td>0</td>\n",
       "      <td>0</td>\n",
       "    </tr>\n",
       "    <tr>\n",
       "      <th>1</th>\n",
       "      <td>000103f0d9cfb60f</td>\n",
       "      <td>D'aww! He matches this background colour I'm s...</td>\n",
       "      <td>0</td>\n",
       "      <td>0</td>\n",
       "      <td>0</td>\n",
       "      <td>0</td>\n",
       "      <td>0</td>\n",
       "      <td>0</td>\n",
       "    </tr>\n",
       "    <tr>\n",
       "      <th>2</th>\n",
       "      <td>000113f07ec002fd</td>\n",
       "      <td>Hey man, I'm really not trying to edit war. It...</td>\n",
       "      <td>0</td>\n",
       "      <td>0</td>\n",
       "      <td>0</td>\n",
       "      <td>0</td>\n",
       "      <td>0</td>\n",
       "      <td>0</td>\n",
       "    </tr>\n",
       "    <tr>\n",
       "      <th>3</th>\n",
       "      <td>0001b41b1c6bb37e</td>\n",
       "      <td>\"\\nMore\\nI can't make any real suggestions on ...</td>\n",
       "      <td>0</td>\n",
       "      <td>0</td>\n",
       "      <td>0</td>\n",
       "      <td>0</td>\n",
       "      <td>0</td>\n",
       "      <td>0</td>\n",
       "    </tr>\n",
       "    <tr>\n",
       "      <th>4</th>\n",
       "      <td>0001d958c54c6e35</td>\n",
       "      <td>You, sir, are my hero. Any chance you remember...</td>\n",
       "      <td>0</td>\n",
       "      <td>0</td>\n",
       "      <td>0</td>\n",
       "      <td>0</td>\n",
       "      <td>0</td>\n",
       "      <td>0</td>\n",
       "    </tr>\n",
       "    <tr>\n",
       "      <th>...</th>\n",
       "      <td>...</td>\n",
       "      <td>...</td>\n",
       "      <td>...</td>\n",
       "      <td>...</td>\n",
       "      <td>...</td>\n",
       "      <td>...</td>\n",
       "      <td>...</td>\n",
       "      <td>...</td>\n",
       "    </tr>\n",
       "    <tr>\n",
       "      <th>159566</th>\n",
       "      <td>ffe987279560d7ff</td>\n",
       "      <td>\":::::And for the second time of asking, when ...</td>\n",
       "      <td>0</td>\n",
       "      <td>0</td>\n",
       "      <td>0</td>\n",
       "      <td>0</td>\n",
       "      <td>0</td>\n",
       "      <td>0</td>\n",
       "    </tr>\n",
       "    <tr>\n",
       "      <th>159567</th>\n",
       "      <td>ffea4adeee384e90</td>\n",
       "      <td>You should be ashamed of yourself \\n\\nThat is ...</td>\n",
       "      <td>0</td>\n",
       "      <td>0</td>\n",
       "      <td>0</td>\n",
       "      <td>0</td>\n",
       "      <td>0</td>\n",
       "      <td>0</td>\n",
       "    </tr>\n",
       "    <tr>\n",
       "      <th>159568</th>\n",
       "      <td>ffee36eab5c267c9</td>\n",
       "      <td>Spitzer \\n\\nUmm, theres no actual article for ...</td>\n",
       "      <td>0</td>\n",
       "      <td>0</td>\n",
       "      <td>0</td>\n",
       "      <td>0</td>\n",
       "      <td>0</td>\n",
       "      <td>0</td>\n",
       "    </tr>\n",
       "    <tr>\n",
       "      <th>159569</th>\n",
       "      <td>fff125370e4aaaf3</td>\n",
       "      <td>And it looks like it was actually you who put ...</td>\n",
       "      <td>0</td>\n",
       "      <td>0</td>\n",
       "      <td>0</td>\n",
       "      <td>0</td>\n",
       "      <td>0</td>\n",
       "      <td>0</td>\n",
       "    </tr>\n",
       "    <tr>\n",
       "      <th>159570</th>\n",
       "      <td>fff46fc426af1f9a</td>\n",
       "      <td>\"\\nAnd ... I really don't think you understand...</td>\n",
       "      <td>0</td>\n",
       "      <td>0</td>\n",
       "      <td>0</td>\n",
       "      <td>0</td>\n",
       "      <td>0</td>\n",
       "      <td>0</td>\n",
       "    </tr>\n",
       "  </tbody>\n",
       "</table>\n",
       "<p>159571 rows × 8 columns</p>\n",
       "</div>"
      ],
      "text/plain": [
       "                      id                                       comment_text  \\\n",
       "0       0000997932d777bf  Explanation\\nWhy the edits made under my usern...   \n",
       "1       000103f0d9cfb60f  D'aww! He matches this background colour I'm s...   \n",
       "2       000113f07ec002fd  Hey man, I'm really not trying to edit war. It...   \n",
       "3       0001b41b1c6bb37e  \"\\nMore\\nI can't make any real suggestions on ...   \n",
       "4       0001d958c54c6e35  You, sir, are my hero. Any chance you remember...   \n",
       "...                  ...                                                ...   \n",
       "159566  ffe987279560d7ff  \":::::And for the second time of asking, when ...   \n",
       "159567  ffea4adeee384e90  You should be ashamed of yourself \\n\\nThat is ...   \n",
       "159568  ffee36eab5c267c9  Spitzer \\n\\nUmm, theres no actual article for ...   \n",
       "159569  fff125370e4aaaf3  And it looks like it was actually you who put ...   \n",
       "159570  fff46fc426af1f9a  \"\\nAnd ... I really don't think you understand...   \n",
       "\n",
       "        malignant  highly_malignant  rude  threat  abuse  loathe  \n",
       "0               0                 0     0       0      0       0  \n",
       "1               0                 0     0       0      0       0  \n",
       "2               0                 0     0       0      0       0  \n",
       "3               0                 0     0       0      0       0  \n",
       "4               0                 0     0       0      0       0  \n",
       "...           ...               ...   ...     ...    ...     ...  \n",
       "159566          0                 0     0       0      0       0  \n",
       "159567          0                 0     0       0      0       0  \n",
       "159568          0                 0     0       0      0       0  \n",
       "159569          0                 0     0       0      0       0  \n",
       "159570          0                 0     0       0      0       0  \n",
       "\n",
       "[159571 rows x 8 columns]"
      ]
     },
     "execution_count": 2,
     "metadata": {},
     "output_type": "execute_result"
    }
   ],
   "source": [
    "df=pd.read_csv('Maligant_train.csv')\n",
    "df"
   ]
  },
  {
   "cell_type": "markdown",
   "id": "db97bf77",
   "metadata": {},
   "source": [
    "Observations: 1)From dataset we can see that there are unnecessary columns are present like id. 2)Special Character are present. 3) No. of 159571 rows & No. of 8 columns are present in the dataset."
   ]
  },
  {
   "cell_type": "markdown",
   "id": "877f120a",
   "metadata": {},
   "source": [
    "# Dimensions of Dataset"
   ]
  },
  {
   "cell_type": "code",
   "execution_count": 3,
   "id": "a47a3fc4",
   "metadata": {},
   "outputs": [
    {
     "name": "stdout",
     "output_type": "stream",
     "text": [
      "(159571, 8)\n",
      "------------------------------------------------------------\n",
      "id                  0\n",
      "comment_text        0\n",
      "malignant           0\n",
      "highly_malignant    0\n",
      "rude                0\n",
      "threat              0\n",
      "abuse               0\n",
      "loathe              0\n",
      "dtype: int64\n",
      "------------------------------------------------------------\n",
      "<class 'pandas.core.frame.DataFrame'>\n",
      "RangeIndex: 159571 entries, 0 to 159570\n",
      "Data columns (total 8 columns):\n",
      " #   Column            Non-Null Count   Dtype \n",
      "---  ------            --------------   ----- \n",
      " 0   id                159571 non-null  object\n",
      " 1   comment_text      159571 non-null  object\n",
      " 2   malignant         159571 non-null  int64 \n",
      " 3   highly_malignant  159571 non-null  int64 \n",
      " 4   rude              159571 non-null  int64 \n",
      " 5   threat            159571 non-null  int64 \n",
      " 6   abuse             159571 non-null  int64 \n",
      " 7   loathe            159571 non-null  int64 \n",
      "dtypes: int64(6), object(2)\n",
      "memory usage: 9.7+ MB\n"
     ]
    }
   ],
   "source": [
    "# check the no. of rows & column & finding the count of missing value\n",
    "print(df.shape)\n",
    "print(\"-\"*60)\n",
    "print(df.isna().sum())\n",
    "print(\"-\"*60)\n",
    "#printing the summary of data type\n",
    "df.info() "
   ]
  },
  {
   "cell_type": "markdown",
   "id": "9a8ab91e",
   "metadata": {},
   "source": [
    "Observation :- No null values are present."
   ]
  },
  {
   "cell_type": "markdown",
   "id": "6d50b5da",
   "metadata": {},
   "source": [
    "# Statistical Summary"
   ]
  },
  {
   "cell_type": "code",
   "execution_count": 4,
   "id": "2427e8c9",
   "metadata": {},
   "outputs": [
    {
     "data": {
      "text/html": [
       "<div>\n",
       "<style scoped>\n",
       "    .dataframe tbody tr th:only-of-type {\n",
       "        vertical-align: middle;\n",
       "    }\n",
       "\n",
       "    .dataframe tbody tr th {\n",
       "        vertical-align: top;\n",
       "    }\n",
       "\n",
       "    .dataframe thead th {\n",
       "        text-align: right;\n",
       "    }\n",
       "</style>\n",
       "<table border=\"1\" class=\"dataframe\">\n",
       "  <thead>\n",
       "    <tr style=\"text-align: right;\">\n",
       "      <th></th>\n",
       "      <th>id</th>\n",
       "      <th>comment_text</th>\n",
       "      <th>malignant</th>\n",
       "      <th>highly_malignant</th>\n",
       "      <th>rude</th>\n",
       "      <th>threat</th>\n",
       "      <th>abuse</th>\n",
       "      <th>loathe</th>\n",
       "    </tr>\n",
       "  </thead>\n",
       "  <tbody>\n",
       "    <tr>\n",
       "      <th>count</th>\n",
       "      <td>159571</td>\n",
       "      <td>159571</td>\n",
       "      <td>159571.000000</td>\n",
       "      <td>159571.000000</td>\n",
       "      <td>159571.000000</td>\n",
       "      <td>159571.000000</td>\n",
       "      <td>159571.000000</td>\n",
       "      <td>159571.000000</td>\n",
       "    </tr>\n",
       "    <tr>\n",
       "      <th>unique</th>\n",
       "      <td>159571</td>\n",
       "      <td>159571</td>\n",
       "      <td>NaN</td>\n",
       "      <td>NaN</td>\n",
       "      <td>NaN</td>\n",
       "      <td>NaN</td>\n",
       "      <td>NaN</td>\n",
       "      <td>NaN</td>\n",
       "    </tr>\n",
       "    <tr>\n",
       "      <th>top</th>\n",
       "      <td>0000997932d777bf</td>\n",
       "      <td>Explanation\\nWhy the edits made under my usern...</td>\n",
       "      <td>NaN</td>\n",
       "      <td>NaN</td>\n",
       "      <td>NaN</td>\n",
       "      <td>NaN</td>\n",
       "      <td>NaN</td>\n",
       "      <td>NaN</td>\n",
       "    </tr>\n",
       "    <tr>\n",
       "      <th>freq</th>\n",
       "      <td>1</td>\n",
       "      <td>1</td>\n",
       "      <td>NaN</td>\n",
       "      <td>NaN</td>\n",
       "      <td>NaN</td>\n",
       "      <td>NaN</td>\n",
       "      <td>NaN</td>\n",
       "      <td>NaN</td>\n",
       "    </tr>\n",
       "    <tr>\n",
       "      <th>mean</th>\n",
       "      <td>NaN</td>\n",
       "      <td>NaN</td>\n",
       "      <td>0.095844</td>\n",
       "      <td>0.009996</td>\n",
       "      <td>0.052948</td>\n",
       "      <td>0.002996</td>\n",
       "      <td>0.049364</td>\n",
       "      <td>0.008805</td>\n",
       "    </tr>\n",
       "    <tr>\n",
       "      <th>std</th>\n",
       "      <td>NaN</td>\n",
       "      <td>NaN</td>\n",
       "      <td>0.294379</td>\n",
       "      <td>0.099477</td>\n",
       "      <td>0.223931</td>\n",
       "      <td>0.054650</td>\n",
       "      <td>0.216627</td>\n",
       "      <td>0.093420</td>\n",
       "    </tr>\n",
       "    <tr>\n",
       "      <th>min</th>\n",
       "      <td>NaN</td>\n",
       "      <td>NaN</td>\n",
       "      <td>0.000000</td>\n",
       "      <td>0.000000</td>\n",
       "      <td>0.000000</td>\n",
       "      <td>0.000000</td>\n",
       "      <td>0.000000</td>\n",
       "      <td>0.000000</td>\n",
       "    </tr>\n",
       "    <tr>\n",
       "      <th>25%</th>\n",
       "      <td>NaN</td>\n",
       "      <td>NaN</td>\n",
       "      <td>0.000000</td>\n",
       "      <td>0.000000</td>\n",
       "      <td>0.000000</td>\n",
       "      <td>0.000000</td>\n",
       "      <td>0.000000</td>\n",
       "      <td>0.000000</td>\n",
       "    </tr>\n",
       "    <tr>\n",
       "      <th>50%</th>\n",
       "      <td>NaN</td>\n",
       "      <td>NaN</td>\n",
       "      <td>0.000000</td>\n",
       "      <td>0.000000</td>\n",
       "      <td>0.000000</td>\n",
       "      <td>0.000000</td>\n",
       "      <td>0.000000</td>\n",
       "      <td>0.000000</td>\n",
       "    </tr>\n",
       "    <tr>\n",
       "      <th>75%</th>\n",
       "      <td>NaN</td>\n",
       "      <td>NaN</td>\n",
       "      <td>0.000000</td>\n",
       "      <td>0.000000</td>\n",
       "      <td>0.000000</td>\n",
       "      <td>0.000000</td>\n",
       "      <td>0.000000</td>\n",
       "      <td>0.000000</td>\n",
       "    </tr>\n",
       "    <tr>\n",
       "      <th>max</th>\n",
       "      <td>NaN</td>\n",
       "      <td>NaN</td>\n",
       "      <td>1.000000</td>\n",
       "      <td>1.000000</td>\n",
       "      <td>1.000000</td>\n",
       "      <td>1.000000</td>\n",
       "      <td>1.000000</td>\n",
       "      <td>1.000000</td>\n",
       "    </tr>\n",
       "  </tbody>\n",
       "</table>\n",
       "</div>"
      ],
      "text/plain": [
       "                      id                                       comment_text  \\\n",
       "count             159571                                             159571   \n",
       "unique            159571                                             159571   \n",
       "top     0000997932d777bf  Explanation\\nWhy the edits made under my usern...   \n",
       "freq                   1                                                  1   \n",
       "mean                 NaN                                                NaN   \n",
       "std                  NaN                                                NaN   \n",
       "min                  NaN                                                NaN   \n",
       "25%                  NaN                                                NaN   \n",
       "50%                  NaN                                                NaN   \n",
       "75%                  NaN                                                NaN   \n",
       "max                  NaN                                                NaN   \n",
       "\n",
       "            malignant  highly_malignant           rude         threat  \\\n",
       "count   159571.000000     159571.000000  159571.000000  159571.000000   \n",
       "unique            NaN               NaN            NaN            NaN   \n",
       "top               NaN               NaN            NaN            NaN   \n",
       "freq              NaN               NaN            NaN            NaN   \n",
       "mean         0.095844          0.009996       0.052948       0.002996   \n",
       "std          0.294379          0.099477       0.223931       0.054650   \n",
       "min          0.000000          0.000000       0.000000       0.000000   \n",
       "25%          0.000000          0.000000       0.000000       0.000000   \n",
       "50%          0.000000          0.000000       0.000000       0.000000   \n",
       "75%          0.000000          0.000000       0.000000       0.000000   \n",
       "max          1.000000          1.000000       1.000000       1.000000   \n",
       "\n",
       "                abuse         loathe  \n",
       "count   159571.000000  159571.000000  \n",
       "unique            NaN            NaN  \n",
       "top               NaN            NaN  \n",
       "freq              NaN            NaN  \n",
       "mean         0.049364       0.008805  \n",
       "std          0.216627       0.093420  \n",
       "min          0.000000       0.000000  \n",
       "25%          0.000000       0.000000  \n",
       "50%          0.000000       0.000000  \n",
       "75%          0.000000       0.000000  \n",
       "max          1.000000       1.000000  "
      ]
     },
     "execution_count": 4,
     "metadata": {},
     "output_type": "execute_result"
    }
   ],
   "source": [
    "# Lets understand data at high level check the stastics of dataset\n",
    "df.describe(include='all')"
   ]
  },
  {
   "cell_type": "markdown",
   "id": "136af088",
   "metadata": {},
   "source": [
    "Observations:- 1) From Above graph we can see there are no data imbalance .2)No null values. 3)Objective type columns are present.\n",
    "\n",
    "Also, we have seen that there are no null values lets check by visualization also for the null values.\n"
   ]
  },
  {
   "cell_type": "code",
   "execution_count": 5,
   "id": "b4ee9f61",
   "metadata": {},
   "outputs": [
    {
     "data": {
      "image/png": "[encoded data removed]",
      "text/plain": [
       "<Figure size 432x288 with 2 Axes>"
      ]
     },
     "metadata": {
      "needs_background": "light"
     },
     "output_type": "display_data"
    }
   ],
   "source": [
    "# Checking null value by plotting heatmap\n",
    "sns.heatmap(df.isnull())\n",
    "plt.show()"
   ]
  },
  {
   "cell_type": "code",
   "execution_count": 6,
   "id": "8f56de16",
   "metadata": {},
   "outputs": [
    {
     "name": "stdout",
     "output_type": "stream",
     "text": [
      "(159571, 8)\n"
     ]
    }
   ],
   "source": [
    "#first remove duplicates & recheck the size\n",
    "df.drop_duplicates(inplace=True)\n",
    "\n",
    "print(df.shape)"
   ]
  },
  {
   "cell_type": "markdown",
   "id": "df9a1137",
   "metadata": {},
   "source": [
    "No. duplicates are found and deleated."
   ]
  },
  {
   "cell_type": "markdown",
   "id": "2fe169a4",
   "metadata": {},
   "source": [
    "# EDA"
   ]
  },
  {
   "cell_type": "markdown",
   "id": "e5769e90",
   "metadata": {},
   "source": [
    "# Data Pre-Processing"
   ]
  },
  {
   "cell_type": "code",
   "execution_count": 7,
   "id": "155d6308",
   "metadata": {},
   "outputs": [
    {
     "data": {
      "text/plain": [
       "0         explanation\\nwhy the edits made under my usern...\n",
       "1         d'aww! he matches this background colour i'm s...\n",
       "2         hey man, i'm really not trying to edit war. it...\n",
       "3         \"\\nmore\\ni can't make any real suggestions on ...\n",
       "4         you, sir, are my hero. any chance you remember...\n",
       "                                ...                        \n",
       "159566    \":::::and for the second time of asking, when ...\n",
       "159567    you should be ashamed of yourself \\n\\nthat is ...\n",
       "159568    spitzer \\n\\numm, theres no actual article for ...\n",
       "159569    and it looks like it was actually you who put ...\n",
       "159570    \"\\nand ... i really don't think you understand...\n",
       "Name: comment_text, Length: 159571, dtype: object"
      ]
     },
     "execution_count": 7,
     "metadata": {},
     "output_type": "execute_result"
    }
   ],
   "source": [
    "#Converting all capital letter into small letters\n",
    "df['comment_text'] =df['comment_text'].str.lower()\n",
    "df['comment_text']"
   ]
  },
  {
   "cell_type": "code",
   "execution_count": 8,
   "id": "9578adc0",
   "metadata": {},
   "outputs": [
    {
     "data": {
      "text/html": [
       "<div>\n",
       "<style scoped>\n",
       "    .dataframe tbody tr th:only-of-type {\n",
       "        vertical-align: middle;\n",
       "    }\n",
       "\n",
       "    .dataframe tbody tr th {\n",
       "        vertical-align: top;\n",
       "    }\n",
       "\n",
       "    .dataframe thead th {\n",
       "        text-align: right;\n",
       "    }\n",
       "</style>\n",
       "<table border=\"1\" class=\"dataframe\">\n",
       "  <thead>\n",
       "    <tr style=\"text-align: right;\">\n",
       "      <th></th>\n",
       "      <th>id</th>\n",
       "      <th>comment_text</th>\n",
       "      <th>malignant</th>\n",
       "      <th>highly_malignant</th>\n",
       "      <th>rude</th>\n",
       "      <th>threat</th>\n",
       "      <th>abuse</th>\n",
       "      <th>loathe</th>\n",
       "    </tr>\n",
       "  </thead>\n",
       "  <tbody>\n",
       "    <tr>\n",
       "      <th>0</th>\n",
       "      <td>0000997932d777bf</td>\n",
       "      <td>explanation\\nwhy the edits made under my usern...</td>\n",
       "      <td>0</td>\n",
       "      <td>0</td>\n",
       "      <td>0</td>\n",
       "      <td>0</td>\n",
       "      <td>0</td>\n",
       "      <td>0</td>\n",
       "    </tr>\n",
       "    <tr>\n",
       "      <th>1</th>\n",
       "      <td>000103f0d9cfb60f</td>\n",
       "      <td>d'aww! he matches this background colour i'm s...</td>\n",
       "      <td>0</td>\n",
       "      <td>0</td>\n",
       "      <td>0</td>\n",
       "      <td>0</td>\n",
       "      <td>0</td>\n",
       "      <td>0</td>\n",
       "    </tr>\n",
       "    <tr>\n",
       "      <th>2</th>\n",
       "      <td>000113f07ec002fd</td>\n",
       "      <td>hey man, i'm really not trying to edit war. it...</td>\n",
       "      <td>0</td>\n",
       "      <td>0</td>\n",
       "      <td>0</td>\n",
       "      <td>0</td>\n",
       "      <td>0</td>\n",
       "      <td>0</td>\n",
       "    </tr>\n",
       "  </tbody>\n",
       "</table>\n",
       "</div>"
      ],
      "text/plain": [
       "                 id                                       comment_text  \\\n",
       "0  0000997932d777bf  explanation\\nwhy the edits made under my usern...   \n",
       "1  000103f0d9cfb60f  d'aww! he matches this background colour i'm s...   \n",
       "2  000113f07ec002fd  hey man, i'm really not trying to edit war. it...   \n",
       "\n",
       "   malignant  highly_malignant  rude  threat  abuse  loathe  \n",
       "0          0                 0     0       0      0       0  \n",
       "1          0                 0     0       0      0       0  \n",
       "2          0                 0     0       0      0       0  "
      ]
     },
     "execution_count": 8,
     "metadata": {},
     "output_type": "execute_result"
    }
   ],
   "source": [
    "df.head(3)  # recheck the dataset"
   ]
  },
  {
   "cell_type": "code",
   "execution_count": 9,
   "id": "7696262b",
   "metadata": {},
   "outputs": [
    {
     "data": {
      "text/plain": [
       "0         264\n",
       "1         112\n",
       "2         233\n",
       "3         622\n",
       "4          67\n",
       "         ... \n",
       "159566    295\n",
       "159567     99\n",
       "159568     81\n",
       "159569    116\n",
       "159570    189\n",
       "Name: length, Length: 159571, dtype: int64"
      ]
     },
     "execution_count": 9,
     "metadata": {},
     "output_type": "execute_result"
    }
   ],
   "source": [
    "# Checking the text length before text preprocessing \n",
    "df['length']=df['comment_text'].str.len()\n",
    "df['length']"
   ]
  },
  {
   "cell_type": "code",
   "execution_count": 10,
   "id": "17d39277",
   "metadata": {},
   "outputs": [],
   "source": [
    "# Checking special characater if any\n",
    "import string\n",
    "alphabet = string.punctuation\n",
    "\n",
    "# Storing the punctuation free text \n",
    "df['clean_comment_text']=df['comment_text'].apply(lambda x:\"\".join([i for i in x if i not in alphabet]))\n"
   ]
  },
  {
   "cell_type": "code",
   "execution_count": 11,
   "id": "813ebeaa",
   "metadata": {},
   "outputs": [
    {
     "data": {
      "text/html": [
       "<div>\n",
       "<style scoped>\n",
       "    .dataframe tbody tr th:only-of-type {\n",
       "        vertical-align: middle;\n",
       "    }\n",
       "\n",
       "    .dataframe tbody tr th {\n",
       "        vertical-align: top;\n",
       "    }\n",
       "\n",
       "    .dataframe thead th {\n",
       "        text-align: right;\n",
       "    }\n",
       "</style>\n",
       "<table border=\"1\" class=\"dataframe\">\n",
       "  <thead>\n",
       "    <tr style=\"text-align: right;\">\n",
       "      <th></th>\n",
       "      <th>id</th>\n",
       "      <th>comment_text</th>\n",
       "      <th>malignant</th>\n",
       "      <th>highly_malignant</th>\n",
       "      <th>rude</th>\n",
       "      <th>threat</th>\n",
       "      <th>abuse</th>\n",
       "      <th>loathe</th>\n",
       "      <th>length</th>\n",
       "      <th>clean_comment_text</th>\n",
       "    </tr>\n",
       "  </thead>\n",
       "  <tbody>\n",
       "    <tr>\n",
       "      <th>0</th>\n",
       "      <td>0000997932d777bf</td>\n",
       "      <td>explanation\\nwhy the edits made under my usern...</td>\n",
       "      <td>0</td>\n",
       "      <td>0</td>\n",
       "      <td>0</td>\n",
       "      <td>0</td>\n",
       "      <td>0</td>\n",
       "      <td>0</td>\n",
       "      <td>264</td>\n",
       "      <td>explanation\\nwhy the edits made under my usern...</td>\n",
       "    </tr>\n",
       "    <tr>\n",
       "      <th>1</th>\n",
       "      <td>000103f0d9cfb60f</td>\n",
       "      <td>d'aww! he matches this background colour i'm s...</td>\n",
       "      <td>0</td>\n",
       "      <td>0</td>\n",
       "      <td>0</td>\n",
       "      <td>0</td>\n",
       "      <td>0</td>\n",
       "      <td>0</td>\n",
       "      <td>112</td>\n",
       "      <td>daww he matches this background colour im seem...</td>\n",
       "    </tr>\n",
       "    <tr>\n",
       "      <th>2</th>\n",
       "      <td>000113f07ec002fd</td>\n",
       "      <td>hey man, i'm really not trying to edit war. it...</td>\n",
       "      <td>0</td>\n",
       "      <td>0</td>\n",
       "      <td>0</td>\n",
       "      <td>0</td>\n",
       "      <td>0</td>\n",
       "      <td>0</td>\n",
       "      <td>233</td>\n",
       "      <td>hey man im really not trying to edit war its j...</td>\n",
       "    </tr>\n",
       "  </tbody>\n",
       "</table>\n",
       "</div>"
      ],
      "text/plain": [
       "                 id                                       comment_text  \\\n",
       "0  0000997932d777bf  explanation\\nwhy the edits made under my usern...   \n",
       "1  000103f0d9cfb60f  d'aww! he matches this background colour i'm s...   \n",
       "2  000113f07ec002fd  hey man, i'm really not trying to edit war. it...   \n",
       "\n",
       "   malignant  highly_malignant  rude  threat  abuse  loathe  length  \\\n",
       "0          0                 0     0       0      0       0     264   \n",
       "1          0                 0     0       0      0       0     112   \n",
       "2          0                 0     0       0      0       0     233   \n",
       "\n",
       "                                  clean_comment_text  \n",
       "0  explanation\\nwhy the edits made under my usern...  \n",
       "1  daww he matches this background colour im seem...  \n",
       "2  hey man im really not trying to edit war its j...  "
      ]
     },
     "execution_count": 11,
     "metadata": {},
     "output_type": "execute_result"
    }
   ],
   "source": [
    "df.head(3)"
   ]
  },
  {
   "cell_type": "code",
   "execution_count": 12,
   "id": "c851056d",
   "metadata": {},
   "outputs": [
    {
     "data": {
      "text/plain": [
       "0         254\n",
       "1         100\n",
       "2         227\n",
       "3         601\n",
       "4          62\n",
       "         ... \n",
       "159566    277\n",
       "159567     95\n",
       "159568     77\n",
       "159569    115\n",
       "159570    175\n",
       "Name: str_re_length, Length: 159571, dtype: int64"
      ]
     },
     "execution_count": 12,
     "metadata": {},
     "output_type": "execute_result"
    }
   ],
   "source": [
    "# Checking the text length after removing special character \n",
    "df['str_re_length']=df['clean_comment_text'].str.len()\n",
    "df['str_re_length']"
   ]
  },
  {
   "cell_type": "code",
   "execution_count": 13,
   "id": "c32f03a5",
   "metadata": {},
   "outputs": [],
   "source": [
    "# Removing some special character\n",
    "df['clean_comment_text'] = df['clean_comment_text'].str.replace(\"4\", \"\")\n",
    "df['clean_comment_text'] = df['clean_comment_text'].str.replace(\"\\n\", \"\")\n",
    "df['clean_comment_text'] = df['clean_comment_text'].str.replace(\"2\", \"\")"
   ]
  },
  {
   "cell_type": "code",
   "execution_count": 14,
   "id": "9f70e8e2",
   "metadata": {},
   "outputs": [
    {
     "data": {
      "text/plain": [
       "0         251\n",
       "1          98\n",
       "2         227\n",
       "3         597\n",
       "4          62\n",
       "         ... \n",
       "159566    275\n",
       "159567     92\n",
       "159568     75\n",
       "159569    115\n",
       "159570    174\n",
       "Name: chr_length, Length: 159571, dtype: int64"
      ]
     },
     "execution_count": 14,
     "metadata": {},
     "output_type": "execute_result"
    }
   ],
   "source": [
    "# Checking the text length after removing special character \n",
    "df['chr_length']=df['clean_comment_text'].str.len()\n",
    "df['chr_length']"
   ]
  },
  {
   "cell_type": "markdown",
   "id": "df57aa6d",
   "metadata": {},
   "source": [
    "# Stop word removal"
   ]
  },
  {
   "cell_type": "code",
   "execution_count": 15,
   "id": "cf718ae6",
   "metadata": {},
   "outputs": [],
   "source": [
    "Stopwords = set(stopwords.words('english') + ['u', 'ü', 'ur','im', 'dont', 'doin', 'ure'])\n",
    "\n",
    "df['clean_comment_text']=df['clean_comment_text'].apply(lambda x:' '.join(term for term in x.split() if term not in Stopwords))"
   ]
  },
  {
   "cell_type": "code",
   "execution_count": 16,
   "id": "7de82f88",
   "metadata": {},
   "outputs": [
    {
     "data": {
      "text/plain": [
       "0         179\n",
       "1          81\n",
       "2         141\n",
       "3         388\n",
       "4          35\n",
       "         ... \n",
       "159566    186\n",
       "159567     45\n",
       "159568     66\n",
       "159569     57\n",
       "159570    110\n",
       "Name: new_length, Length: 159571, dtype: int64"
      ]
     },
     "execution_count": 16,
     "metadata": {},
     "output_type": "execute_result"
    }
   ],
   "source": [
    "df['new_length']=df['clean_comment_text'].str.len()\n",
    "df['new_length']"
   ]
  },
  {
   "cell_type": "code",
   "execution_count": 17,
   "id": "02f20cb2",
   "metadata": {},
   "outputs": [
    {
     "data": {
      "text/html": [
       "<div>\n",
       "<style scoped>\n",
       "    .dataframe tbody tr th:only-of-type {\n",
       "        vertical-align: middle;\n",
       "    }\n",
       "\n",
       "    .dataframe tbody tr th {\n",
       "        vertical-align: top;\n",
       "    }\n",
       "\n",
       "    .dataframe thead th {\n",
       "        text-align: right;\n",
       "    }\n",
       "</style>\n",
       "<table border=\"1\" class=\"dataframe\">\n",
       "  <thead>\n",
       "    <tr style=\"text-align: right;\">\n",
       "      <th></th>\n",
       "      <th>id</th>\n",
       "      <th>comment_text</th>\n",
       "      <th>malignant</th>\n",
       "      <th>highly_malignant</th>\n",
       "      <th>rude</th>\n",
       "      <th>threat</th>\n",
       "      <th>abuse</th>\n",
       "      <th>loathe</th>\n",
       "      <th>length</th>\n",
       "      <th>clean_comment_text</th>\n",
       "      <th>str_re_length</th>\n",
       "      <th>chr_length</th>\n",
       "      <th>new_length</th>\n",
       "    </tr>\n",
       "  </thead>\n",
       "  <tbody>\n",
       "    <tr>\n",
       "      <th>0</th>\n",
       "      <td>0000997932d777bf</td>\n",
       "      <td>explanation\\nwhy the edits made under my usern...</td>\n",
       "      <td>0</td>\n",
       "      <td>0</td>\n",
       "      <td>0</td>\n",
       "      <td>0</td>\n",
       "      <td>0</td>\n",
       "      <td>0</td>\n",
       "      <td>264</td>\n",
       "      <td>explanationwhy edits made username hardcore me...</td>\n",
       "      <td>254</td>\n",
       "      <td>251</td>\n",
       "      <td>179</td>\n",
       "    </tr>\n",
       "    <tr>\n",
       "      <th>1</th>\n",
       "      <td>000103f0d9cfb60f</td>\n",
       "      <td>d'aww! he matches this background colour i'm s...</td>\n",
       "      <td>0</td>\n",
       "      <td>0</td>\n",
       "      <td>0</td>\n",
       "      <td>0</td>\n",
       "      <td>0</td>\n",
       "      <td>0</td>\n",
       "      <td>112</td>\n",
       "      <td>daww matches background colour seemingly stuck...</td>\n",
       "      <td>100</td>\n",
       "      <td>98</td>\n",
       "      <td>81</td>\n",
       "    </tr>\n",
       "    <tr>\n",
       "      <th>2</th>\n",
       "      <td>000113f07ec002fd</td>\n",
       "      <td>hey man, i'm really not trying to edit war. it...</td>\n",
       "      <td>0</td>\n",
       "      <td>0</td>\n",
       "      <td>0</td>\n",
       "      <td>0</td>\n",
       "      <td>0</td>\n",
       "      <td>0</td>\n",
       "      <td>233</td>\n",
       "      <td>hey man really trying edit war guy constantly ...</td>\n",
       "      <td>227</td>\n",
       "      <td>227</td>\n",
       "      <td>141</td>\n",
       "    </tr>\n",
       "  </tbody>\n",
       "</table>\n",
       "</div>"
      ],
      "text/plain": [
       "                 id                                       comment_text  \\\n",
       "0  0000997932d777bf  explanation\\nwhy the edits made under my usern...   \n",
       "1  000103f0d9cfb60f  d'aww! he matches this background colour i'm s...   \n",
       "2  000113f07ec002fd  hey man, i'm really not trying to edit war. it...   \n",
       "\n",
       "   malignant  highly_malignant  rude  threat  abuse  loathe  length  \\\n",
       "0          0                 0     0       0      0       0     264   \n",
       "1          0                 0     0       0      0       0     112   \n",
       "2          0                 0     0       0      0       0     233   \n",
       "\n",
       "                                  clean_comment_text  str_re_length  \\\n",
       "0  explanationwhy edits made username hardcore me...            254   \n",
       "1  daww matches background colour seemingly stuck...            100   \n",
       "2  hey man really trying edit war guy constantly ...            227   \n",
       "\n",
       "   chr_length  new_length  \n",
       "0         251         179  \n",
       "1          98          81  \n",
       "2         227         141  "
      ]
     },
     "execution_count": 17,
     "metadata": {},
     "output_type": "execute_result"
    }
   ],
   "source": [
    "df.head(3)"
   ]
  },
  {
   "cell_type": "markdown",
   "id": "37959faf",
   "metadata": {},
   "source": [
    "# Data Visualisation"
   ]
  },
  {
   "cell_type": "markdown",
   "id": "e2e1f33e",
   "metadata": {},
   "source": [
    "# Univariate Plots"
   ]
  },
  {
   "cell_type": "code",
   "execution_count": 18,
   "id": "faed5475",
   "metadata": {},
   "outputs": [
    {
     "data": {
      "image/png": "[encoded data removed]",
      "text/plain": [
       "<Figure size 432x288 with 1 Axes>"
      ]
     },
     "metadata": {
      "needs_background": "light"
     },
     "output_type": "display_data"
    },
    {
     "name": "stdout",
     "output_type": "stream",
     "text": [
      "0    144277\n",
      "1     15294\n",
      "Name: malignant, dtype: int64\n"
     ]
    }
   ],
   "source": [
    "#plot each class frequency\n",
    "sns.countplot(x='malignant',data=df)\n",
    "plt.show()\n",
    "print(df['malignant'].value_counts())"
   ]
  },
  {
   "cell_type": "code",
   "execution_count": 19,
   "id": "033f86de",
   "metadata": {},
   "outputs": [
    {
     "data": {
      "image/png": "[encoded data removed]",
      "text/plain": [
       "<Figure size 432x288 with 1 Axes>"
      ]
     },
     "metadata": {
      "needs_background": "light"
     },
     "output_type": "display_data"
    },
    {
     "name": "stdout",
     "output_type": "stream",
     "text": [
      "0    157976\n",
      "1      1595\n",
      "Name: highly_malignant, dtype: int64\n"
     ]
    }
   ],
   "source": [
    "#plot each class frequency\n",
    "sns.countplot(x='highly_malignant',data=df)\n",
    "plt.show()\n",
    "print(df['highly_malignant'].value_counts())"
   ]
  },
  {
   "cell_type": "code",
   "execution_count": 20,
   "id": "f4d906c5",
   "metadata": {},
   "outputs": [
    {
     "data": {
      "image/png": "[encoded data removed]",
      "text/plain": [
       "<Figure size 432x288 with 1 Axes>"
      ]
     },
     "metadata": {
      "needs_background": "light"
     },
     "output_type": "display_data"
    },
    {
     "name": "stdout",
     "output_type": "stream",
     "text": [
      "0    151122\n",
      "1      8449\n",
      "Name: rude, dtype: int64\n"
     ]
    }
   ],
   "source": [
    "#plot each class frequency\n",
    "sns.countplot(x='rude',data=df)\n",
    "plt.show()\n",
    "print(df['rude'].value_counts())"
   ]
  },
  {
   "cell_type": "code",
   "execution_count": 21,
   "id": "9290ff7a",
   "metadata": {},
   "outputs": [
    {
     "data": {
      "image/png": "[encoded data removed]",
      "text/plain": [
       "<Figure size 432x288 with 1 Axes>"
      ]
     },
     "metadata": {
      "needs_background": "light"
     },
     "output_type": "display_data"
    },
    {
     "name": "stdout",
     "output_type": "stream",
     "text": [
      "0    151694\n",
      "1      7877\n",
      "Name: abuse, dtype: int64\n"
     ]
    }
   ],
   "source": [
    "#plot each class frequency\n",
    "sns.countplot(x='abuse',data=df)\n",
    "plt.show()\n",
    "print(df['abuse'].value_counts())"
   ]
  },
  {
   "cell_type": "code",
   "execution_count": 22,
   "id": "752e0701",
   "metadata": {},
   "outputs": [
    {
     "data": {
      "image/png": "[encoded data removed]",
      "text/plain": [
       "<Figure size 432x288 with 1 Axes>"
      ]
     },
     "metadata": {
      "needs_background": "light"
     },
     "output_type": "display_data"
    },
    {
     "name": "stdout",
     "output_type": "stream",
     "text": [
      "0    159093\n",
      "1       478\n",
      "Name: threat, dtype: int64\n"
     ]
    }
   ],
   "source": [
    "#plot each class frequency\n",
    "sns.countplot(x='threat',data=df)\n",
    "plt.show()\n",
    "print(df['threat'].value_counts())"
   ]
  },
  {
   "cell_type": "code",
   "execution_count": 23,
   "id": "d4fa03f4",
   "metadata": {},
   "outputs": [
    {
     "data": {
      "image/png": "[encoded data removed]",
      "text/plain": [
       "<Figure size 432x288 with 1 Axes>"
      ]
     },
     "metadata": {
      "needs_background": "light"
     },
     "output_type": "display_data"
    },
    {
     "name": "stdout",
     "output_type": "stream",
     "text": [
      "0    158166\n",
      "1      1405\n",
      "Name: loathe, dtype: int64\n"
     ]
    }
   ],
   "source": [
    "#plot each class frequency\n",
    "sns.countplot(x='loathe',data=df)\n",
    "plt.show()\n",
    "print(df['loathe'].value_counts())"
   ]
  },
  {
   "cell_type": "code",
   "execution_count": 24,
   "id": "a7109458",
   "metadata": {},
   "outputs": [
    {
     "name": "stdout",
     "output_type": "stream",
     "text": [
      "malignant  loathe  highly_malignant  rude  threat  abuse\n",
      "0          0       0                 0     0       0        143346\n",
      "                                     1     0       0           317\n",
      "                                     0     0       1           301\n",
      "                                     1     0       1           181\n",
      "           1       0                 0     0       0            54\n",
      "                                                   1            28\n",
      "           0       0                 0     1       0            22\n",
      "           1       0                 1     0       1            18\n",
      "                                                   0             3\n",
      "           0       0                 0     1       1             3\n",
      "                                     1     1       1             2\n",
      "                                                   0             2\n",
      "1          0       0                 0     0       0          5666\n",
      "                                     1     0       1          3800\n",
      "                                                   0          1758\n",
      "                                     0     0       1          1215\n",
      "                   1                 1     0       1           989\n",
      "           1       0                 1     0       1           618\n",
      "                   1                 1     0       1           265\n",
      "           0       1                 1     0       0           158\n",
      "           1       0                 0     0       0           136\n",
      "                                                   1           134\n",
      "           0       0                 1     1       1           131\n",
      "                                     0     1       0           113\n",
      "                   1                 1     1       1            64\n",
      "           1       0                 1     1       1            56\n",
      "           0       1                 0     0       0            41\n",
      "           1       0                 1     0       0            35\n",
      "                   1                 1     1       1            31\n",
      "           0       0                 0     1       1            16\n",
      "                   1                 0     0       1            14\n",
      "                   0                 1     1       0            11\n",
      "                   1                 0     1       0            11\n",
      "           1       1                 0     0       1             7\n",
      "                   0                 0     1       0             7\n",
      "                   1                 1     0       0             6\n",
      "           0       1                 1     1       0             4\n",
      "           1       0                 0     1       1             3\n",
      "                   1                 0     0       0             3\n",
      "           0       1                 0     1       1             1\n",
      "           1       1                 0     1       0             1\n",
      "dtype: int64\n"
     ]
    }
   ],
   "source": [
    "print(df[['loathe','highly_malignant','rude','threat','abuse']].groupby(df['malignant']).value_counts())"
   ]
  },
  {
   "cell_type": "markdown",
   "id": "fea422ea",
   "metadata": {},
   "source": [
    "As we see ther are some comments which have multiple labels on them, i.e. some comments may be both malignant and loathe.etc."
   ]
  },
  {
   "cell_type": "code",
   "execution_count": 25,
   "id": "2effc494",
   "metadata": {},
   "outputs": [],
   "source": [
    "df.drop(columns='comment_text', inplace=True)"
   ]
  },
  {
   "cell_type": "markdown",
   "id": "074eea6e",
   "metadata": {},
   "source": [
    "# Bivariate Plot"
   ]
  },
  {
   "cell_type": "code",
   "execution_count": 26,
   "id": "1565dcc5",
   "metadata": {},
   "outputs": [
    {
     "data": {
      "text/html": [
       "<div>\n",
       "<style scoped>\n",
       "    .dataframe tbody tr th:only-of-type {\n",
       "        vertical-align: middle;\n",
       "    }\n",
       "\n",
       "    .dataframe tbody tr th {\n",
       "        vertical-align: top;\n",
       "    }\n",
       "\n",
       "    .dataframe thead th {\n",
       "        text-align: right;\n",
       "    }\n",
       "</style>\n",
       "<table border=\"1\" class=\"dataframe\">\n",
       "  <thead>\n",
       "    <tr style=\"text-align: right;\">\n",
       "      <th></th>\n",
       "      <th>id</th>\n",
       "      <th>malignant</th>\n",
       "      <th>highly_malignant</th>\n",
       "      <th>rude</th>\n",
       "      <th>threat</th>\n",
       "      <th>abuse</th>\n",
       "      <th>loathe</th>\n",
       "      <th>length</th>\n",
       "      <th>clean_comment_text</th>\n",
       "      <th>str_re_length</th>\n",
       "      <th>chr_length</th>\n",
       "      <th>new_length</th>\n",
       "    </tr>\n",
       "  </thead>\n",
       "  <tbody>\n",
       "    <tr>\n",
       "      <th>0</th>\n",
       "      <td>0000997932d777bf</td>\n",
       "      <td>0</td>\n",
       "      <td>0</td>\n",
       "      <td>0</td>\n",
       "      <td>0</td>\n",
       "      <td>0</td>\n",
       "      <td>0</td>\n",
       "      <td>264</td>\n",
       "      <td>explanationwhy edits made username hardcore me...</td>\n",
       "      <td>254</td>\n",
       "      <td>251</td>\n",
       "      <td>179</td>\n",
       "    </tr>\n",
       "    <tr>\n",
       "      <th>1</th>\n",
       "      <td>000103f0d9cfb60f</td>\n",
       "      <td>0</td>\n",
       "      <td>0</td>\n",
       "      <td>0</td>\n",
       "      <td>0</td>\n",
       "      <td>0</td>\n",
       "      <td>0</td>\n",
       "      <td>112</td>\n",
       "      <td>daww matches background colour seemingly stuck...</td>\n",
       "      <td>100</td>\n",
       "      <td>98</td>\n",
       "      <td>81</td>\n",
       "    </tr>\n",
       "    <tr>\n",
       "      <th>2</th>\n",
       "      <td>000113f07ec002fd</td>\n",
       "      <td>0</td>\n",
       "      <td>0</td>\n",
       "      <td>0</td>\n",
       "      <td>0</td>\n",
       "      <td>0</td>\n",
       "      <td>0</td>\n",
       "      <td>233</td>\n",
       "      <td>hey man really trying edit war guy constantly ...</td>\n",
       "      <td>227</td>\n",
       "      <td>227</td>\n",
       "      <td>141</td>\n",
       "    </tr>\n",
       "  </tbody>\n",
       "</table>\n",
       "</div>"
      ],
      "text/plain": [
       "                 id  malignant  highly_malignant  rude  threat  abuse  loathe  \\\n",
       "0  0000997932d777bf          0                 0     0       0      0       0   \n",
       "1  000103f0d9cfb60f          0                 0     0       0      0       0   \n",
       "2  000113f07ec002fd          0                 0     0       0      0       0   \n",
       "\n",
       "   length                                 clean_comment_text  str_re_length  \\\n",
       "0     264  explanationwhy edits made username hardcore me...            254   \n",
       "1     112  daww matches background colour seemingly stuck...            100   \n",
       "2     233  hey man really trying edit war guy constantly ...            227   \n",
       "\n",
       "   chr_length  new_length  \n",
       "0         251         179  \n",
       "1          98          81  \n",
       "2         227         141  "
      ]
     },
     "execution_count": 26,
     "metadata": {},
     "output_type": "execute_result"
    }
   ],
   "source": [
    "df.head(3)"
   ]
  },
  {
   "cell_type": "code",
   "execution_count": 27,
   "id": "354f99de",
   "metadata": {},
   "outputs": [
    {
     "data": {
      "image/png": "[encoded data removed]",
      "text/plain": [
       "<Figure size 1080x360 with 2 Axes>"
      ]
     },
     "metadata": {
      "needs_background": "light"
     },
     "output_type": "display_data"
    }
   ],
   "source": [
    "#Bivariant graph\n",
    "f,ax=plt.subplots(1,2, figsize =(15, 5))\n",
    "sns.distplot(df[df['malignant']==1]['new_length'], ax=ax[0], bins=40, label='Distribusion of comment at 1 with new length').legend()\n",
    "sns.distplot(df[df['malignant']==0]['new_length'], ax=ax[1], bins=40,label='Distribusion of comment at 0 with new length').legend()\n",
    "sns.distplot(df[df['malignant']==1]['length'], ax=ax[0], bins=40, label='Distribusion of comment at 1 with old length').legend()\n",
    "sns.distplot(df[df['malignant']==0]['length'], ax=ax[1], bins=40,label='Distribusion of comment at 0  with old length').legend()\n",
    "plt.show()"
   ]
  },
  {
   "cell_type": "code",
   "execution_count": 28,
   "id": "e071bdd0",
   "metadata": {},
   "outputs": [
    {
     "data": {
      "image/png": "[encoded data removed]",
      "text/plain": [
       "<Figure size 1080x360 with 2 Axes>"
      ]
     },
     "metadata": {
      "needs_background": "light"
     },
     "output_type": "display_data"
    }
   ],
   "source": [
    "#Bivariant graph\n",
    "f,ax=plt.subplots(1,2, figsize =(15, 5))\n",
    "sns.distplot(df[df['highly_malignant']==1]['new_length'], ax=ax[0], bins=40, label='Distribusion of comment at 1 with new length').legend()\n",
    "sns.distplot(df[df['highly_malignant']==0]['new_length'], ax=ax[1], bins=40,label='Distribusion of comment at 0 with new length').legend()\n",
    "sns.distplot(df[df['highly_malignant']==1]['length'], ax=ax[0], bins=40, label='Distribusion of comment at 1 with old length').legend()\n",
    "sns.distplot(df[df['highly_malignant']==0]['length'], ax=ax[1], bins=40,label='Distribusion of comment at 0  with old length').legend()\n",
    "plt.show()"
   ]
  },
  {
   "cell_type": "code",
   "execution_count": 29,
   "id": "f40310d4",
   "metadata": {},
   "outputs": [
    {
     "data": {
      "image/png": "[encoded data removed]",
      "text/plain": [
       "<Figure size 1080x360 with 2 Axes>"
      ]
     },
     "metadata": {
      "needs_background": "light"
     },
     "output_type": "display_data"
    }
   ],
   "source": [
    "#Bivariant graph\n",
    "f,ax=plt.subplots(1,2, figsize =(15, 5))\n",
    "sns.distplot(df[df['rude']==1]['new_length'], ax=ax[0], bins=40, label='Distribusion of comment at 1 with new length').legend()\n",
    "sns.distplot(df[df['rude']==0]['new_length'], ax=ax[1], bins=40,label='Distribusion of comment at 0 with new length').legend()\n",
    "sns.distplot(df[df['rude']==1]['length'], ax=ax[0], bins=40, label='Distribusion of comment at 1 with old length').legend()\n",
    "sns.distplot(df[df['rude']==0]['length'], ax=ax[1], bins=40,label='Distribusion of comment at 0  with old length').legend()\n",
    "plt.show()"
   ]
  },
  {
   "cell_type": "code",
   "execution_count": 30,
   "id": "19e64a60",
   "metadata": {},
   "outputs": [
    {
     "data": {
      "image/png": "[encoded data removed]",
      "text/plain": [
       "<Figure size 1080x360 with 2 Axes>"
      ]
     },
     "metadata": {
      "needs_background": "light"
     },
     "output_type": "display_data"
    }
   ],
   "source": [
    "#Bivariant graph\n",
    "f,ax=plt.subplots(1,2, figsize =(15, 5))\n",
    "sns.distplot(df[df['threat']==1]['new_length'], ax=ax[0], bins=40, label='Distribusion of comment at 1 with new length').legend()\n",
    "sns.distplot(df[df['threat']==0]['new_length'], ax=ax[1], bins=40,label='Distribusion of comment at 0 with new length').legend()\n",
    "sns.distplot(df[df['threat']==1]['length'], ax=ax[0], bins=40, label='Distribusion of comment at 1 with old length').legend()\n",
    "sns.distplot(df[df['threat']==0]['length'], ax=ax[1], bins=40,label='Distribusion of comment at 0  with old length').legend()\n",
    "plt.show()"
   ]
  },
  {
   "cell_type": "code",
   "execution_count": 31,
   "id": "01a128df",
   "metadata": {},
   "outputs": [
    {
     "data": {
      "image/png": "[encoded data removed]",
      "text/plain": [
       "<Figure size 1080x360 with 2 Axes>"
      ]
     },
     "metadata": {
      "needs_background": "light"
     },
     "output_type": "display_data"
    }
   ],
   "source": [
    "#Bivariant graph\n",
    "f,ax=plt.subplots(1,2, figsize =(15, 5))\n",
    "sns.distplot(df[df['abuse']==1]['new_length'], ax=ax[0], bins=40, label='Distribusion of comment at 1 with new length').legend()\n",
    "sns.distplot(df[df['abuse']==0]['new_length'], ax=ax[1], bins=40,label='Distribusion of comment at 0 with new length').legend()\n",
    "sns.distplot(df[df['abuse']==1]['length'], ax=ax[0], bins=40, label='Distribusion of comment at 1 with old length').legend()\n",
    "sns.distplot(df[df['abuse']==0]['length'], ax=ax[1], bins=40,label='Distribusion of comment at 0  with old length').legend()\n",
    "plt.show()"
   ]
  },
  {
   "cell_type": "code",
   "execution_count": 32,
   "id": "7089bca0",
   "metadata": {},
   "outputs": [
    {
     "data": {
      "image/png": "[encoded data removed]",
      "text/plain": [
       "<Figure size 1080x360 with 2 Axes>"
      ]
     },
     "metadata": {
      "needs_background": "light"
     },
     "output_type": "display_data"
    }
   ],
   "source": [
    "#Bivariant graph\n",
    "f,ax=plt.subplots(1,2, figsize =(15, 5))\n",
    "sns.distplot(df[df['loathe']==1]['new_length'], ax=ax[0], bins=40, label='Distribusion of comment at 1 with new length').legend()\n",
    "sns.distplot(df[df['loathe']==0]['new_length'], ax=ax[1], bins=40,label='Distribusion of comment at 0 with new length').legend()\n",
    "sns.distplot(df[df['loathe']==1]['length'], ax=ax[0], bins=40, label='Distribusion of comment at 1 with old length').legend()\n",
    "sns.distplot(df[df['loathe']==0]['length'], ax=ax[1], bins=40,label='Distribusion of comment at 0  with old length').legend()\n",
    "plt.show()"
   ]
  },
  {
   "cell_type": "markdown",
   "id": "c8fc0ede",
   "metadata": {},
   "source": [
    "# Lets Check Correlation"
   ]
  },
  {
   "cell_type": "code",
   "execution_count": 33,
   "id": "fc055587",
   "metadata": {},
   "outputs": [
    {
     "data": {
      "text/html": [
       "<div>\n",
       "<style scoped>\n",
       "    .dataframe tbody tr th:only-of-type {\n",
       "        vertical-align: middle;\n",
       "    }\n",
       "\n",
       "    .dataframe tbody tr th {\n",
       "        vertical-align: top;\n",
       "    }\n",
       "\n",
       "    .dataframe thead th {\n",
       "        text-align: right;\n",
       "    }\n",
       "</style>\n",
       "<table border=\"1\" class=\"dataframe\">\n",
       "  <thead>\n",
       "    <tr style=\"text-align: right;\">\n",
       "      <th></th>\n",
       "      <th>malignant</th>\n",
       "      <th>highly_malignant</th>\n",
       "      <th>rude</th>\n",
       "      <th>threat</th>\n",
       "      <th>abuse</th>\n",
       "      <th>loathe</th>\n",
       "      <th>length</th>\n",
       "      <th>str_re_length</th>\n",
       "      <th>chr_length</th>\n",
       "      <th>new_length</th>\n",
       "    </tr>\n",
       "  </thead>\n",
       "  <tbody>\n",
       "    <tr>\n",
       "      <th>malignant</th>\n",
       "      <td>1.000000</td>\n",
       "      <td>0.308619</td>\n",
       "      <td>0.676515</td>\n",
       "      <td>0.157058</td>\n",
       "      <td>0.647518</td>\n",
       "      <td>0.266009</td>\n",
       "      <td>-0.054413</td>\n",
       "      <td>-0.055664</td>\n",
       "      <td>-0.055868</td>\n",
       "      <td>-0.051310</td>\n",
       "    </tr>\n",
       "    <tr>\n",
       "      <th>highly_malignant</th>\n",
       "      <td>0.308619</td>\n",
       "      <td>1.000000</td>\n",
       "      <td>0.403014</td>\n",
       "      <td>0.123601</td>\n",
       "      <td>0.375807</td>\n",
       "      <td>0.201600</td>\n",
       "      <td>0.010175</td>\n",
       "      <td>0.008114</td>\n",
       "      <td>0.008017</td>\n",
       "      <td>0.014845</td>\n",
       "    </tr>\n",
       "    <tr>\n",
       "      <th>rude</th>\n",
       "      <td>0.676515</td>\n",
       "      <td>0.403014</td>\n",
       "      <td>1.000000</td>\n",
       "      <td>0.141179</td>\n",
       "      <td>0.741272</td>\n",
       "      <td>0.286867</td>\n",
       "      <td>-0.042910</td>\n",
       "      <td>-0.043699</td>\n",
       "      <td>-0.043900</td>\n",
       "      <td>-0.038972</td>\n",
       "    </tr>\n",
       "    <tr>\n",
       "      <th>threat</th>\n",
       "      <td>0.157058</td>\n",
       "      <td>0.123601</td>\n",
       "      <td>0.141179</td>\n",
       "      <td>1.000000</td>\n",
       "      <td>0.150022</td>\n",
       "      <td>0.115128</td>\n",
       "      <td>-0.007917</td>\n",
       "      <td>-0.009362</td>\n",
       "      <td>-0.009398</td>\n",
       "      <td>-0.010067</td>\n",
       "    </tr>\n",
       "    <tr>\n",
       "      <th>abuse</th>\n",
       "      <td>0.647518</td>\n",
       "      <td>0.375807</td>\n",
       "      <td>0.741272</td>\n",
       "      <td>0.150022</td>\n",
       "      <td>1.000000</td>\n",
       "      <td>0.337736</td>\n",
       "      <td>-0.045027</td>\n",
       "      <td>-0.045764</td>\n",
       "      <td>-0.045918</td>\n",
       "      <td>-0.041729</td>\n",
       "    </tr>\n",
       "    <tr>\n",
       "      <th>loathe</th>\n",
       "      <td>0.266009</td>\n",
       "      <td>0.201600</td>\n",
       "      <td>0.286867</td>\n",
       "      <td>0.115128</td>\n",
       "      <td>0.337736</td>\n",
       "      <td>1.000000</td>\n",
       "      <td>-0.013628</td>\n",
       "      <td>-0.013477</td>\n",
       "      <td>-0.013582</td>\n",
       "      <td>-0.008112</td>\n",
       "    </tr>\n",
       "    <tr>\n",
       "      <th>length</th>\n",
       "      <td>-0.054413</td>\n",
       "      <td>0.010175</td>\n",
       "      <td>-0.042910</td>\n",
       "      <td>-0.007917</td>\n",
       "      <td>-0.045027</td>\n",
       "      <td>-0.013628</td>\n",
       "      <td>1.000000</td>\n",
       "      <td>0.998731</td>\n",
       "      <td>0.998583</td>\n",
       "      <td>0.989935</td>\n",
       "    </tr>\n",
       "    <tr>\n",
       "      <th>str_re_length</th>\n",
       "      <td>-0.055664</td>\n",
       "      <td>0.008114</td>\n",
       "      <td>-0.043699</td>\n",
       "      <td>-0.009362</td>\n",
       "      <td>-0.045764</td>\n",
       "      <td>-0.013477</td>\n",
       "      <td>0.998731</td>\n",
       "      <td>1.000000</td>\n",
       "      <td>0.999943</td>\n",
       "      <td>0.990516</td>\n",
       "    </tr>\n",
       "    <tr>\n",
       "      <th>chr_length</th>\n",
       "      <td>-0.055868</td>\n",
       "      <td>0.008017</td>\n",
       "      <td>-0.043900</td>\n",
       "      <td>-0.009398</td>\n",
       "      <td>-0.045918</td>\n",
       "      <td>-0.013582</td>\n",
       "      <td>0.998583</td>\n",
       "      <td>0.999943</td>\n",
       "      <td>1.000000</td>\n",
       "      <td>0.990221</td>\n",
       "    </tr>\n",
       "    <tr>\n",
       "      <th>new_length</th>\n",
       "      <td>-0.051310</td>\n",
       "      <td>0.014845</td>\n",
       "      <td>-0.038972</td>\n",
       "      <td>-0.010067</td>\n",
       "      <td>-0.041729</td>\n",
       "      <td>-0.008112</td>\n",
       "      <td>0.989935</td>\n",
       "      <td>0.990516</td>\n",
       "      <td>0.990221</td>\n",
       "      <td>1.000000</td>\n",
       "    </tr>\n",
       "  </tbody>\n",
       "</table>\n",
       "</div>"
      ],
      "text/plain": [
       "                  malignant  highly_malignant      rude    threat     abuse  \\\n",
       "malignant          1.000000          0.308619  0.676515  0.157058  0.647518   \n",
       "highly_malignant   0.308619          1.000000  0.403014  0.123601  0.375807   \n",
       "rude               0.676515          0.403014  1.000000  0.141179  0.741272   \n",
       "threat             0.157058          0.123601  0.141179  1.000000  0.150022   \n",
       "abuse              0.647518          0.375807  0.741272  0.150022  1.000000   \n",
       "loathe             0.266009          0.201600  0.286867  0.115128  0.337736   \n",
       "length            -0.054413          0.010175 -0.042910 -0.007917 -0.045027   \n",
       "str_re_length     -0.055664          0.008114 -0.043699 -0.009362 -0.045764   \n",
       "chr_length        -0.055868          0.008017 -0.043900 -0.009398 -0.045918   \n",
       "new_length        -0.051310          0.014845 -0.038972 -0.010067 -0.041729   \n",
       "\n",
       "                    loathe    length  str_re_length  chr_length  new_length  \n",
       "malignant         0.266009 -0.054413      -0.055664   -0.055868   -0.051310  \n",
       "highly_malignant  0.201600  0.010175       0.008114    0.008017    0.014845  \n",
       "rude              0.286867 -0.042910      -0.043699   -0.043900   -0.038972  \n",
       "threat            0.115128 -0.007917      -0.009362   -0.009398   -0.010067  \n",
       "abuse             0.337736 -0.045027      -0.045764   -0.045918   -0.041729  \n",
       "loathe            1.000000 -0.013628      -0.013477   -0.013582   -0.008112  \n",
       "length           -0.013628  1.000000       0.998731    0.998583    0.989935  \n",
       "str_re_length    -0.013477  0.998731       1.000000    0.999943    0.990516  \n",
       "chr_length       -0.013582  0.998583       0.999943    1.000000    0.990221  \n",
       "new_length       -0.008112  0.989935       0.990516    0.990221    1.000000  "
      ]
     },
     "execution_count": 33,
     "metadata": {},
     "output_type": "execute_result"
    }
   ],
   "source": [
    "df.corr()"
   ]
  },
  {
   "cell_type": "code",
   "execution_count": 34,
   "id": "734b0f67",
   "metadata": {},
   "outputs": [
    {
     "data": {
      "image/png": "[encoded data removed]",
      "text/plain": [
       "<Figure size 720x720 with 2 Axes>"
      ]
     },
     "metadata": {
      "needs_background": "light"
     },
     "output_type": "display_data"
    }
   ],
   "source": [
    "plt.figure(figsize=(10,10))\n",
    "sns.heatmap(df.corr(), annot = True)\n",
    "plt.title(\"Correlation Matrix\")\n",
    "plt.savefig('Colinearity.png')\n",
    "plt.show()"
   ]
  },
  {
   "cell_type": "code",
   "execution_count": 35,
   "id": "fb8bcab6",
   "metadata": {},
   "outputs": [
    {
     "data": {
      "text/plain": [
       "malignant           1.000000\n",
       "rude                0.676515\n",
       "abuse               0.647518\n",
       "highly_malignant    0.308619\n",
       "loathe              0.266009\n",
       "threat              0.157058\n",
       "new_length         -0.051310\n",
       "length             -0.054413\n",
       "str_re_length      -0.055664\n",
       "chr_length         -0.055868\n",
       "Name: malignant, dtype: float64"
      ]
     },
     "execution_count": 35,
     "metadata": {},
     "output_type": "execute_result"
    }
   ],
   "source": [
    "# Check correlation with target variable\n",
    "df.corr()['malignant'].sort_values(ascending = False)"
   ]
  },
  {
   "cell_type": "markdown",
   "id": "3d81728d",
   "metadata": {},
   "source": [
    "As we seen there are many target variable so lets gruop them into one for better prediction."
   ]
  },
  {
   "cell_type": "code",
   "execution_count": 36,
   "id": "a352884b",
   "metadata": {},
   "outputs": [],
   "source": [
    "# Adding the all target variable with one column\n",
    "df['total_malignant']=df[['malignant', 'highly_malignant', 'rude', 'threat', 'abuse','loathe']].sum(axis=1).astype(int)"
   ]
  },
  {
   "cell_type": "code",
   "execution_count": 37,
   "id": "cfd0e09c",
   "metadata": {},
   "outputs": [
    {
     "data": {
      "text/plain": [
       "0    143346\n",
       "1      6360\n",
       "3      4209\n",
       "2      3480\n",
       "4      1760\n",
       "5       385\n",
       "6        31\n",
       "Name: total_malignant, dtype: int64"
      ]
     },
     "execution_count": 37,
     "metadata": {},
     "output_type": "execute_result"
    }
   ],
   "source": [
    "df['total_malignant'].value_counts() #lets check the count for each class"
   ]
  },
  {
   "cell_type": "code",
   "execution_count": 38,
   "id": "f95fac84",
   "metadata": {},
   "outputs": [
    {
     "data": {
      "text/plain": [
       "False    143346\n",
       "True      16225\n",
       "Name: total_malignant, dtype: int64"
      ]
     },
     "execution_count": 38,
     "metadata": {},
     "output_type": "execute_result"
    }
   ],
   "source": [
    "# Lets convert each class in to 1 & 0 as target variable\n",
    "df['total_malignant']=df['total_malignant']>0\n",
    "df['total_malignant'].value_counts() #lets check the count for each class"
   ]
  },
  {
   "cell_type": "code",
   "execution_count": 40,
   "id": "4ea18505",
   "metadata": {},
   "outputs": [
    {
     "data": {
      "text/plain": [
       "0    143346\n",
       "1     16225\n",
       "Name: total_malignant, dtype: int64"
      ]
     },
     "execution_count": 40,
     "metadata": {},
     "output_type": "execute_result"
    }
   ],
   "source": [
    "df['total_malignant']=df['total_malignant'].astype(int)\n",
    "df['total_malignant'].value_counts()"
   ]
  },
  {
   "cell_type": "markdown",
   "id": "ec0fe140",
   "metadata": {},
   "source": [
    "# Encoding text"
   ]
  },
  {
   "cell_type": "code",
   "execution_count": 41,
   "id": "818d6bc8",
   "metadata": {},
   "outputs": [
    {
     "data": {
      "text/plain": [
       "['id', 'clean_comment_text']"
      ]
     },
     "execution_count": 41,
     "metadata": {},
     "output_type": "execute_result"
    }
   ],
   "source": [
    "# lets seaprate the catogorical data & numirical data\n",
    "numerics=['int8','int16','int32','int64','float16','float32','float64']\n",
    "cat_col=[] #empty list\n",
    "features=df.columns.values.tolist()\n",
    "for i in features:\n",
    "    if df[i].dtype in numerics:\n",
    "        continue\n",
    "    cat_col.append(i)\n",
    "cat_col"
   ]
  },
  {
   "cell_type": "code",
   "execution_count": 42,
   "id": "5daaf20a",
   "metadata": {},
   "outputs": [],
   "source": [
    "# Lets frist covert categorical data(type & column) into int \n",
    "label = LabelEncoder()\n",
    "for i in cat_col:\n",
    "    data=label.fit_transform(df[i])\n",
    "    pd.Series(data)\n",
    "    df[i]=data"
   ]
  },
  {
   "cell_type": "code",
   "execution_count": 43,
   "id": "31cb7e21",
   "metadata": {},
   "outputs": [
    {
     "data": {
      "text/html": [
       "<div>\n",
       "<style scoped>\n",
       "    .dataframe tbody tr th:only-of-type {\n",
       "        vertical-align: middle;\n",
       "    }\n",
       "\n",
       "    .dataframe tbody tr th {\n",
       "        vertical-align: top;\n",
       "    }\n",
       "\n",
       "    .dataframe thead th {\n",
       "        text-align: right;\n",
       "    }\n",
       "</style>\n",
       "<table border=\"1\" class=\"dataframe\">\n",
       "  <thead>\n",
       "    <tr style=\"text-align: right;\">\n",
       "      <th></th>\n",
       "      <th>id</th>\n",
       "      <th>malignant</th>\n",
       "      <th>highly_malignant</th>\n",
       "      <th>rude</th>\n",
       "      <th>threat</th>\n",
       "      <th>abuse</th>\n",
       "      <th>loathe</th>\n",
       "      <th>length</th>\n",
       "      <th>clean_comment_text</th>\n",
       "      <th>str_re_length</th>\n",
       "      <th>chr_length</th>\n",
       "      <th>new_length</th>\n",
       "      <th>total_malignant</th>\n",
       "    </tr>\n",
       "  </thead>\n",
       "  <tbody>\n",
       "    <tr>\n",
       "      <th>0</th>\n",
       "      <td>0</td>\n",
       "      <td>0</td>\n",
       "      <td>0</td>\n",
       "      <td>0</td>\n",
       "      <td>0</td>\n",
       "      <td>0</td>\n",
       "      <td>0</td>\n",
       "      <td>264</td>\n",
       "      <td>40962</td>\n",
       "      <td>254</td>\n",
       "      <td>251</td>\n",
       "      <td>179</td>\n",
       "      <td>0</td>\n",
       "    </tr>\n",
       "    <tr>\n",
       "      <th>1</th>\n",
       "      <td>1</td>\n",
       "      <td>0</td>\n",
       "      <td>0</td>\n",
       "      <td>0</td>\n",
       "      <td>0</td>\n",
       "      <td>0</td>\n",
       "      <td>0</td>\n",
       "      <td>112</td>\n",
       "      <td>30887</td>\n",
       "      <td>100</td>\n",
       "      <td>98</td>\n",
       "      <td>81</td>\n",
       "      <td>0</td>\n",
       "    </tr>\n",
       "    <tr>\n",
       "      <th>2</th>\n",
       "      <td>2</td>\n",
       "      <td>0</td>\n",
       "      <td>0</td>\n",
       "      <td>0</td>\n",
       "      <td>0</td>\n",
       "      <td>0</td>\n",
       "      <td>0</td>\n",
       "      <td>233</td>\n",
       "      <td>56249</td>\n",
       "      <td>227</td>\n",
       "      <td>227</td>\n",
       "      <td>141</td>\n",
       "      <td>0</td>\n",
       "    </tr>\n",
       "  </tbody>\n",
       "</table>\n",
       "</div>"
      ],
      "text/plain": [
       "   id  malignant  highly_malignant  rude  threat  abuse  loathe  length  \\\n",
       "0   0          0                 0     0       0      0       0     264   \n",
       "1   1          0                 0     0       0      0       0     112   \n",
       "2   2          0                 0     0       0      0       0     233   \n",
       "\n",
       "   clean_comment_text  str_re_length  chr_length  new_length  total_malignant  \n",
       "0               40962            254         251         179                0  \n",
       "1               30887            100          98          81                0  \n",
       "2               56249            227         227         141                0  "
      ]
     },
     "execution_count": 43,
     "metadata": {},
     "output_type": "execute_result"
    }
   ],
   "source": [
    "df.head(3)"
   ]
  },
  {
   "cell_type": "code",
   "execution_count": 44,
   "id": "5e096642",
   "metadata": {},
   "outputs": [],
   "source": [
    "# Divide the dataset into features & target variable for further treatment\n",
    "x=df[['id','clean_comment_text']]\n",
    "y=df['total_malignant']"
   ]
  },
  {
   "cell_type": "code",
   "execution_count": 45,
   "id": "482b2d9b",
   "metadata": {},
   "outputs": [
    {
     "name": "stdout",
     "output_type": "stream",
     "text": [
      "(159571, 2) (159571,)\n"
     ]
    }
   ],
   "source": [
    "print(x.shape,y.shape)"
   ]
  },
  {
   "cell_type": "code",
   "execution_count": 46,
   "id": "3d24bf92",
   "metadata": {},
   "outputs": [
    {
     "data": {
      "text/plain": [
       "0    143346\n",
       "1     16225\n",
       "Name: total_malignant, dtype: int64"
      ]
     },
     "execution_count": 46,
     "metadata": {},
     "output_type": "execute_result"
    }
   ],
   "source": [
    "y.value_counts() # As we see the dataimbalance in target variable so lets use SMOTE resampling tech to build the better model "
   ]
  },
  {
   "cell_type": "markdown",
   "id": "a7051ecc",
   "metadata": {},
   "source": [
    "# Find the best Random state"
   ]
  },
  {
   "cell_type": "code",
   "execution_count": 47,
   "id": "8fdd10a6",
   "metadata": {},
   "outputs": [
    {
     "name": "stdout",
     "output_type": "stream",
     "text": [
      "at random sate 1, the training accuracy is:- 0.8988285232039306\n",
      "at random sate 1, the testing accuracy is:- 0.8967989371568947\n",
      "\n",
      "\n",
      "at random sate 2, the training accuracy is:- 0.8988285232039306\n",
      "at random sate 2, the testing accuracy is:- 0.8967989371568947\n",
      "\n",
      "\n",
      "at random sate 3, the training accuracy is:- 0.8988285232039306\n",
      "at random sate 3, the testing accuracy is:- 0.8967989371568947\n",
      "\n",
      "\n",
      "at random sate 4, the training accuracy is:- 0.8988285232039306\n",
      "at random sate 4, the testing accuracy is:- 0.8967989371568947\n",
      "\n",
      "\n",
      "at random sate 5, the training accuracy is:- 0.8988285232039306\n",
      "at random sate 5, the testing accuracy is:- 0.8967989371568947\n",
      "\n",
      "\n",
      "at random sate 6, the training accuracy is:- 0.8988285232039306\n",
      "at random sate 6, the testing accuracy is:- 0.8967989371568947\n",
      "\n",
      "\n",
      "at random sate 7, the training accuracy is:- 0.8988285232039306\n",
      "at random sate 7, the testing accuracy is:- 0.8967989371568947\n",
      "\n",
      "\n",
      "at random sate 8, the training accuracy is:- 0.8988285232039306\n",
      "at random sate 8, the testing accuracy is:- 0.8967989371568947\n",
      "\n",
      "\n",
      "at random sate 9, the training accuracy is:- 0.8988285232039306\n",
      "at random sate 9, the testing accuracy is:- 0.8967989371568947\n",
      "\n",
      "\n",
      "at random sate 10, the training accuracy is:- 0.8988285232039306\n",
      "at random sate 10, the testing accuracy is:- 0.8967989371568947\n",
      "\n",
      "\n",
      "at random sate 11, the training accuracy is:- 0.8988285232039306\n",
      "at random sate 11, the testing accuracy is:- 0.8967989371568947\n",
      "\n",
      "\n",
      "at random sate 12, the training accuracy is:- 0.8988285232039306\n",
      "at random sate 12, the testing accuracy is:- 0.8967989371568947\n",
      "\n",
      "\n",
      "at random sate 13, the training accuracy is:- 0.8988285232039306\n",
      "at random sate 13, the testing accuracy is:- 0.8967989371568947\n",
      "\n",
      "\n",
      "at random sate 14, the training accuracy is:- 0.8988285232039306\n",
      "at random sate 14, the testing accuracy is:- 0.8967989371568947\n",
      "\n",
      "\n",
      "at random sate 15, the training accuracy is:- 0.8988285232039306\n",
      "at random sate 15, the testing accuracy is:- 0.8967989371568947\n",
      "\n",
      "\n",
      "at random sate 16, the training accuracy is:- 0.8988285232039306\n",
      "at random sate 16, the testing accuracy is:- 0.8967989371568947\n",
      "\n",
      "\n",
      "at random sate 17, the training accuracy is:- 0.8988285232039306\n",
      "at random sate 17, the testing accuracy is:- 0.8967989371568947\n",
      "\n",
      "\n",
      "at random sate 18, the training accuracy is:- 0.8988285232039306\n",
      "at random sate 18, the testing accuracy is:- 0.8967989371568947\n",
      "\n",
      "\n",
      "at random sate 19, the training accuracy is:- 0.8988285232039306\n",
      "at random sate 19, the testing accuracy is:- 0.8967989371568947\n",
      "\n",
      "\n",
      "at random sate 20, the training accuracy is:- 0.8988285232039306\n",
      "at random sate 20, the testing accuracy is:- 0.8967989371568947\n",
      "\n",
      "\n",
      "at random sate 21, the training accuracy is:- 0.8988285232039306\n",
      "at random sate 21, the testing accuracy is:- 0.8967989371568947\n",
      "\n",
      "\n",
      "at random sate 22, the training accuracy is:- 0.8988285232039306\n",
      "at random sate 22, the testing accuracy is:- 0.8967989371568947\n",
      "\n",
      "\n",
      "at random sate 23, the training accuracy is:- 0.8988285232039306\n",
      "at random sate 23, the testing accuracy is:- 0.8967989371568947\n",
      "\n",
      "\n",
      "at random sate 24, the training accuracy is:- 0.8988285232039306\n",
      "at random sate 24, the testing accuracy is:- 0.8967989371568947\n",
      "\n",
      "\n",
      "at random sate 25, the training accuracy is:- 0.8988285232039306\n",
      "at random sate 25, the testing accuracy is:- 0.8967989371568947\n",
      "\n",
      "\n",
      "at random sate 26, the training accuracy is:- 0.8988285232039306\n",
      "at random sate 26, the testing accuracy is:- 0.8967989371568947\n",
      "\n",
      "\n",
      "at random sate 27, the training accuracy is:- 0.8988285232039306\n",
      "at random sate 27, the testing accuracy is:- 0.8967989371568947\n",
      "\n",
      "\n",
      "at random sate 28, the training accuracy is:- 0.8988285232039306\n",
      "at random sate 28, the testing accuracy is:- 0.8967989371568947\n",
      "\n",
      "\n",
      "at random sate 29, the training accuracy is:- 0.8988285232039306\n",
      "at random sate 29, the testing accuracy is:- 0.8967989371568947\n",
      "\n",
      "\n",
      "at random sate 30, the training accuracy is:- 0.8988285232039306\n",
      "at random sate 30, the testing accuracy is:- 0.8967989371568947\n",
      "\n",
      "\n",
      "at random sate 31, the training accuracy is:- 0.8988285232039306\n",
      "at random sate 31, the testing accuracy is:- 0.8967989371568947\n",
      "\n",
      "\n",
      "at random sate 32, the training accuracy is:- 0.8988285232039306\n",
      "at random sate 32, the testing accuracy is:- 0.8967989371568947\n",
      "\n",
      "\n",
      "at random sate 33, the training accuracy is:- 0.8988285232039306\n",
      "at random sate 33, the testing accuracy is:- 0.8967989371568947\n",
      "\n",
      "\n",
      "at random sate 34, the training accuracy is:- 0.8988285232039306\n",
      "at random sate 34, the testing accuracy is:- 0.8967989371568947\n",
      "\n",
      "\n",
      "at random sate 35, the training accuracy is:- 0.8988285232039306\n",
      "at random sate 35, the testing accuracy is:- 0.8967989371568947\n",
      "\n",
      "\n",
      "at random sate 36, the training accuracy is:- 0.8988285232039306\n",
      "at random sate 36, the testing accuracy is:- 0.8967989371568947\n",
      "\n",
      "\n",
      "at random sate 37, the training accuracy is:- 0.8988285232039306\n",
      "at random sate 37, the testing accuracy is:- 0.8967989371568947\n",
      "\n",
      "\n",
      "at random sate 38, the training accuracy is:- 0.8988285232039306\n",
      "at random sate 38, the testing accuracy is:- 0.8967989371568947\n",
      "\n",
      "\n",
      "at random sate 39, the training accuracy is:- 0.8988285232039306\n",
      "at random sate 39, the testing accuracy is:- 0.8967989371568947\n",
      "\n",
      "\n",
      "at random sate 40, the training accuracy is:- 0.8988285232039306\n",
      "at random sate 40, the testing accuracy is:- 0.8967989371568947\n",
      "\n",
      "\n",
      "at random sate 41, the training accuracy is:- 0.8988285232039306\n",
      "at random sate 41, the testing accuracy is:- 0.8967989371568947\n",
      "\n",
      "\n",
      "at random sate 42, the training accuracy is:- 0.8988285232039306\n",
      "at random sate 42, the testing accuracy is:- 0.8967989371568947\n",
      "\n",
      "\n",
      "at random sate 43, the training accuracy is:- 0.8988285232039306\n",
      "at random sate 43, the testing accuracy is:- 0.8967989371568947\n",
      "\n",
      "\n",
      "at random sate 44, the training accuracy is:- 0.8988285232039306\n",
      "at random sate 44, the testing accuracy is:- 0.8967989371568947\n",
      "\n",
      "\n",
      "at random sate 45, the training accuracy is:- 0.8988285232039306\n",
      "at random sate 45, the testing accuracy is:- 0.8967989371568947\n",
      "\n",
      "\n",
      "at random sate 46, the training accuracy is:- 0.8988285232039306\n",
      "at random sate 46, the testing accuracy is:- 0.8967989371568947\n",
      "\n",
      "\n",
      "at random sate 47, the training accuracy is:- 0.8988285232039306\n",
      "at random sate 47, the testing accuracy is:- 0.8967989371568947\n",
      "\n",
      "\n",
      "at random sate 48, the training accuracy is:- 0.8988285232039306\n",
      "at random sate 48, the testing accuracy is:- 0.8967989371568947\n",
      "\n",
      "\n",
      "at random sate 49, the training accuracy is:- 0.8988285232039306\n",
      "at random sate 49, the testing accuracy is:- 0.8967989371568947\n",
      "\n",
      "\n",
      "at random sate 50, the training accuracy is:- 0.8988285232039306\n",
      "at random sate 50, the testing accuracy is:- 0.8967989371568947\n",
      "\n",
      "\n",
      "at random sate 51, the training accuracy is:- 0.8988285232039306\n",
      "at random sate 51, the testing accuracy is:- 0.8967989371568947\n",
      "\n",
      "\n",
      "at random sate 52, the training accuracy is:- 0.8988285232039306\n",
      "at random sate 52, the testing accuracy is:- 0.8967989371568947\n",
      "\n",
      "\n",
      "at random sate 53, the training accuracy is:- 0.8988285232039306\n",
      "at random sate 53, the testing accuracy is:- 0.8967989371568947\n",
      "\n",
      "\n",
      "at random sate 54, the training accuracy is:- 0.8988285232039306\n",
      "at random sate 54, the testing accuracy is:- 0.8967989371568947\n",
      "\n",
      "\n",
      "at random sate 55, the training accuracy is:- 0.8988285232039306\n",
      "at random sate 55, the testing accuracy is:- 0.8967989371568947\n",
      "\n",
      "\n",
      "at random sate 56, the training accuracy is:- 0.8988285232039306\n",
      "at random sate 56, the testing accuracy is:- 0.8967989371568947\n",
      "\n",
      "\n",
      "at random sate 57, the training accuracy is:- 0.8988285232039306\n",
      "at random sate 57, the testing accuracy is:- 0.8967989371568947\n",
      "\n",
      "\n",
      "at random sate 58, the training accuracy is:- 0.8988285232039306\n",
      "at random sate 58, the testing accuracy is:- 0.8967989371568947\n",
      "\n",
      "\n",
      "at random sate 59, the training accuracy is:- 0.8988285232039306\n",
      "at random sate 59, the testing accuracy is:- 0.8967989371568947\n",
      "\n",
      "\n",
      "at random sate 60, the training accuracy is:- 0.8988285232039306\n",
      "at random sate 60, the testing accuracy is:- 0.8967989371568947\n",
      "\n",
      "\n",
      "at random sate 61, the training accuracy is:- 0.8988285232039306\n",
      "at random sate 61, the testing accuracy is:- 0.8967989371568947\n",
      "\n",
      "\n",
      "at random sate 62, the training accuracy is:- 0.8988285232039306\n",
      "at random sate 62, the testing accuracy is:- 0.8967989371568947\n",
      "\n",
      "\n",
      "at random sate 63, the training accuracy is:- 0.8988285232039306\n",
      "at random sate 63, the testing accuracy is:- 0.8967989371568947\n",
      "\n",
      "\n",
      "at random sate 64, the training accuracy is:- 0.8988285232039306\n",
      "at random sate 64, the testing accuracy is:- 0.8967989371568947\n",
      "\n",
      "\n"
     ]
    },
    {
     "name": "stdout",
     "output_type": "stream",
     "text": [
      "at random sate 65, the training accuracy is:- 0.8988285232039306\n",
      "at random sate 65, the testing accuracy is:- 0.8967989371568947\n",
      "\n",
      "\n",
      "at random sate 66, the training accuracy is:- 0.8988285232039306\n",
      "at random sate 66, the testing accuracy is:- 0.8967989371568947\n",
      "\n",
      "\n",
      "at random sate 67, the training accuracy is:- 0.8988285232039306\n",
      "at random sate 67, the testing accuracy is:- 0.8967989371568947\n",
      "\n",
      "\n",
      "at random sate 68, the training accuracy is:- 0.8988285232039306\n",
      "at random sate 68, the testing accuracy is:- 0.8967989371568947\n",
      "\n",
      "\n",
      "at random sate 69, the training accuracy is:- 0.8988285232039306\n",
      "at random sate 69, the testing accuracy is:- 0.8967989371568947\n",
      "\n",
      "\n",
      "at random sate 70, the training accuracy is:- 0.8988285232039306\n",
      "at random sate 70, the testing accuracy is:- 0.8967989371568947\n",
      "\n",
      "\n",
      "at random sate 71, the training accuracy is:- 0.8988285232039306\n",
      "at random sate 71, the testing accuracy is:- 0.8967989371568947\n",
      "\n",
      "\n",
      "at random sate 72, the training accuracy is:- 0.8988285232039306\n",
      "at random sate 72, the testing accuracy is:- 0.8967989371568947\n",
      "\n",
      "\n",
      "at random sate 73, the training accuracy is:- 0.8988285232039306\n",
      "at random sate 73, the testing accuracy is:- 0.8967989371568947\n",
      "\n",
      "\n",
      "at random sate 74, the training accuracy is:- 0.8988285232039306\n",
      "at random sate 74, the testing accuracy is:- 0.8967989371568947\n",
      "\n",
      "\n",
      "at random sate 75, the training accuracy is:- 0.8988285232039306\n",
      "at random sate 75, the testing accuracy is:- 0.8967989371568947\n",
      "\n",
      "\n",
      "at random sate 76, the training accuracy is:- 0.8988285232039306\n",
      "at random sate 76, the testing accuracy is:- 0.8967989371568947\n",
      "\n",
      "\n",
      "at random sate 77, the training accuracy is:- 0.8988285232039306\n",
      "at random sate 77, the testing accuracy is:- 0.8967989371568947\n",
      "\n",
      "\n",
      "at random sate 78, the training accuracy is:- 0.8988285232039306\n",
      "at random sate 78, the testing accuracy is:- 0.8967989371568947\n",
      "\n",
      "\n",
      "at random sate 79, the training accuracy is:- 0.8988285232039306\n",
      "at random sate 79, the testing accuracy is:- 0.8967989371568947\n",
      "\n",
      "\n",
      "at random sate 80, the training accuracy is:- 0.8988285232039306\n",
      "at random sate 80, the testing accuracy is:- 0.8967989371568947\n",
      "\n",
      "\n",
      "at random sate 81, the training accuracy is:- 0.8988285232039306\n",
      "at random sate 81, the testing accuracy is:- 0.8967989371568947\n",
      "\n",
      "\n",
      "at random sate 82, the training accuracy is:- 0.8988285232039306\n",
      "at random sate 82, the testing accuracy is:- 0.8967989371568947\n",
      "\n",
      "\n",
      "at random sate 83, the training accuracy is:- 0.8988285232039306\n",
      "at random sate 83, the testing accuracy is:- 0.8967989371568947\n",
      "\n",
      "\n",
      "at random sate 84, the training accuracy is:- 0.8988285232039306\n",
      "at random sate 84, the testing accuracy is:- 0.8967989371568947\n",
      "\n",
      "\n",
      "at random sate 85, the training accuracy is:- 0.8988285232039306\n",
      "at random sate 85, the testing accuracy is:- 0.8967989371568947\n",
      "\n",
      "\n",
      "at random sate 86, the training accuracy is:- 0.8988285232039306\n",
      "at random sate 86, the testing accuracy is:- 0.8967989371568947\n",
      "\n",
      "\n",
      "at random sate 87, the training accuracy is:- 0.8988285232039306\n",
      "at random sate 87, the testing accuracy is:- 0.8967989371568947\n",
      "\n",
      "\n",
      "at random sate 88, the training accuracy is:- 0.8988285232039306\n",
      "at random sate 88, the testing accuracy is:- 0.8967989371568947\n",
      "\n",
      "\n",
      "at random sate 89, the training accuracy is:- 0.8988285232039306\n",
      "at random sate 89, the testing accuracy is:- 0.8967989371568947\n",
      "\n",
      "\n",
      "at random sate 90, the training accuracy is:- 0.8988285232039306\n",
      "at random sate 90, the testing accuracy is:- 0.8967989371568947\n",
      "\n",
      "\n",
      "at random sate 91, the training accuracy is:- 0.8988285232039306\n",
      "at random sate 91, the testing accuracy is:- 0.8967989371568947\n",
      "\n",
      "\n",
      "at random sate 92, the training accuracy is:- 0.8988285232039306\n",
      "at random sate 92, the testing accuracy is:- 0.8967989371568947\n",
      "\n",
      "\n",
      "at random sate 93, the training accuracy is:- 0.8988285232039306\n",
      "at random sate 93, the testing accuracy is:- 0.8967989371568947\n",
      "\n",
      "\n",
      "at random sate 94, the training accuracy is:- 0.8988285232039306\n",
      "at random sate 94, the testing accuracy is:- 0.8967989371568947\n",
      "\n",
      "\n",
      "at random sate 95, the training accuracy is:- 0.8988285232039306\n",
      "at random sate 95, the testing accuracy is:- 0.8967989371568947\n",
      "\n",
      "\n",
      "at random sate 96, the training accuracy is:- 0.8988285232039306\n",
      "at random sate 96, the testing accuracy is:- 0.8967989371568947\n",
      "\n",
      "\n",
      "at random sate 97, the training accuracy is:- 0.8988285232039306\n",
      "at random sate 97, the testing accuracy is:- 0.8967989371568947\n",
      "\n",
      "\n",
      "at random sate 98, the training accuracy is:- 0.8988285232039306\n",
      "at random sate 98, the testing accuracy is:- 0.8967989371568947\n",
      "\n",
      "\n",
      "at random sate 99, the training accuracy is:- 0.8988285232039306\n",
      "at random sate 99, the testing accuracy is:- 0.8967989371568947\n",
      "\n",
      "\n",
      "at random sate 100, the training accuracy is:- 0.8988285232039306\n",
      "at random sate 100, the testing accuracy is:- 0.8967989371568947\n",
      "\n",
      "\n",
      "at random sate 101, the training accuracy is:- 0.8988285232039306\n",
      "at random sate 101, the testing accuracy is:- 0.8967989371568947\n",
      "\n",
      "\n",
      "at random sate 102, the training accuracy is:- 0.8988285232039306\n",
      "at random sate 102, the testing accuracy is:- 0.8967989371568947\n",
      "\n",
      "\n",
      "at random sate 103, the training accuracy is:- 0.8988285232039306\n",
      "at random sate 103, the testing accuracy is:- 0.8967989371568947\n",
      "\n",
      "\n",
      "at random sate 104, the training accuracy is:- 0.8988285232039306\n",
      "at random sate 104, the testing accuracy is:- 0.8967989371568947\n",
      "\n",
      "\n",
      "at random sate 105, the training accuracy is:- 0.8988285232039306\n",
      "at random sate 105, the testing accuracy is:- 0.8967989371568947\n",
      "\n",
      "\n",
      "at random sate 106, the training accuracy is:- 0.8988285232039306\n",
      "at random sate 106, the testing accuracy is:- 0.8967989371568947\n",
      "\n",
      "\n",
      "at random sate 107, the training accuracy is:- 0.8988285232039306\n",
      "at random sate 107, the testing accuracy is:- 0.8967989371568947\n",
      "\n",
      "\n",
      "at random sate 108, the training accuracy is:- 0.8988285232039306\n",
      "at random sate 108, the testing accuracy is:- 0.8967989371568947\n",
      "\n",
      "\n",
      "at random sate 109, the training accuracy is:- 0.8988285232039306\n",
      "at random sate 109, the testing accuracy is:- 0.8967989371568947\n",
      "\n",
      "\n",
      "at random sate 110, the training accuracy is:- 0.8988285232039306\n",
      "at random sate 110, the testing accuracy is:- 0.8967989371568947\n",
      "\n",
      "\n",
      "at random sate 111, the training accuracy is:- 0.8988285232039306\n",
      "at random sate 111, the testing accuracy is:- 0.8967989371568947\n",
      "\n",
      "\n",
      "at random sate 112, the training accuracy is:- 0.8988285232039306\n",
      "at random sate 112, the testing accuracy is:- 0.8967989371568947\n",
      "\n",
      "\n",
      "at random sate 113, the training accuracy is:- 0.8988285232039306\n",
      "at random sate 113, the testing accuracy is:- 0.8967989371568947\n",
      "\n",
      "\n",
      "at random sate 114, the training accuracy is:- 0.8988285232039306\n",
      "at random sate 114, the testing accuracy is:- 0.8967989371568947\n",
      "\n",
      "\n",
      "at random sate 115, the training accuracy is:- 0.8988285232039306\n",
      "at random sate 115, the testing accuracy is:- 0.8967989371568947\n",
      "\n",
      "\n",
      "at random sate 116, the training accuracy is:- 0.8988285232039306\n",
      "at random sate 116, the testing accuracy is:- 0.8967989371568947\n",
      "\n",
      "\n",
      "at random sate 117, the training accuracy is:- 0.8988285232039306\n",
      "at random sate 117, the testing accuracy is:- 0.8967989371568947\n",
      "\n",
      "\n",
      "at random sate 118, the training accuracy is:- 0.8988285232039306\n",
      "at random sate 118, the testing accuracy is:- 0.8967989371568947\n",
      "\n",
      "\n",
      "at random sate 119, the training accuracy is:- 0.8988285232039306\n",
      "at random sate 119, the testing accuracy is:- 0.8967989371568947\n",
      "\n",
      "\n",
      "at random sate 120, the training accuracy is:- 0.8988285232039306\n",
      "at random sate 120, the testing accuracy is:- 0.8967989371568947\n",
      "\n",
      "\n",
      "at random sate 121, the training accuracy is:- 0.8988285232039306\n",
      "at random sate 121, the testing accuracy is:- 0.8967989371568947\n",
      "\n",
      "\n",
      "at random sate 122, the training accuracy is:- 0.8988285232039306\n",
      "at random sate 122, the testing accuracy is:- 0.8967989371568947\n",
      "\n",
      "\n",
      "at random sate 123, the training accuracy is:- 0.8988285232039306\n",
      "at random sate 123, the testing accuracy is:- 0.8967989371568947\n",
      "\n",
      "\n",
      "at random sate 124, the training accuracy is:- 0.8988285232039306\n",
      "at random sate 124, the testing accuracy is:- 0.8967989371568947\n",
      "\n",
      "\n",
      "at random sate 125, the training accuracy is:- 0.8988285232039306\n",
      "at random sate 125, the testing accuracy is:- 0.8967989371568947\n",
      "\n",
      "\n",
      "at random sate 126, the training accuracy is:- 0.8988285232039306\n",
      "at random sate 126, the testing accuracy is:- 0.8967989371568947\n",
      "\n",
      "\n",
      "at random sate 127, the training accuracy is:- 0.8988285232039306\n",
      "at random sate 127, the testing accuracy is:- 0.8967989371568947\n",
      "\n",
      "\n",
      "at random sate 128, the training accuracy is:- 0.8988285232039306\n",
      "at random sate 128, the testing accuracy is:- 0.8967989371568947\n",
      "\n",
      "\n"
     ]
    },
    {
     "name": "stdout",
     "output_type": "stream",
     "text": [
      "at random sate 129, the training accuracy is:- 0.8988285232039306\n",
      "at random sate 129, the testing accuracy is:- 0.8967989371568947\n",
      "\n",
      "\n",
      "at random sate 130, the training accuracy is:- 0.8988285232039306\n",
      "at random sate 130, the testing accuracy is:- 0.8967989371568947\n",
      "\n",
      "\n",
      "at random sate 131, the training accuracy is:- 0.8988285232039306\n",
      "at random sate 131, the testing accuracy is:- 0.8967989371568947\n",
      "\n",
      "\n",
      "at random sate 132, the training accuracy is:- 0.8988285232039306\n",
      "at random sate 132, the testing accuracy is:- 0.8967989371568947\n",
      "\n",
      "\n",
      "at random sate 133, the training accuracy is:- 0.8988285232039306\n",
      "at random sate 133, the testing accuracy is:- 0.8967989371568947\n",
      "\n",
      "\n",
      "at random sate 134, the training accuracy is:- 0.8988285232039306\n",
      "at random sate 134, the testing accuracy is:- 0.8967989371568947\n",
      "\n",
      "\n",
      "at random sate 135, the training accuracy is:- 0.8988285232039306\n",
      "at random sate 135, the testing accuracy is:- 0.8967989371568947\n",
      "\n",
      "\n",
      "at random sate 136, the training accuracy is:- 0.8988285232039306\n",
      "at random sate 136, the testing accuracy is:- 0.8967989371568947\n",
      "\n",
      "\n",
      "at random sate 137, the training accuracy is:- 0.8988285232039306\n",
      "at random sate 137, the testing accuracy is:- 0.8967989371568947\n",
      "\n",
      "\n",
      "at random sate 138, the training accuracy is:- 0.8988285232039306\n",
      "at random sate 138, the testing accuracy is:- 0.8967989371568947\n",
      "\n",
      "\n",
      "at random sate 139, the training accuracy is:- 0.8988285232039306\n",
      "at random sate 139, the testing accuracy is:- 0.8967989371568947\n",
      "\n",
      "\n",
      "at random sate 140, the training accuracy is:- 0.8988285232039306\n",
      "at random sate 140, the testing accuracy is:- 0.8967989371568947\n",
      "\n",
      "\n",
      "at random sate 141, the training accuracy is:- 0.8988285232039306\n",
      "at random sate 141, the testing accuracy is:- 0.8967989371568947\n",
      "\n",
      "\n",
      "at random sate 142, the training accuracy is:- 0.8988285232039306\n",
      "at random sate 142, the testing accuracy is:- 0.8967989371568947\n",
      "\n",
      "\n",
      "at random sate 143, the training accuracy is:- 0.8988285232039306\n",
      "at random sate 143, the testing accuracy is:- 0.8967989371568947\n",
      "\n",
      "\n",
      "at random sate 144, the training accuracy is:- 0.8988285232039306\n",
      "at random sate 144, the testing accuracy is:- 0.8967989371568947\n",
      "\n",
      "\n",
      "at random sate 145, the training accuracy is:- 0.8988285232039306\n",
      "at random sate 145, the testing accuracy is:- 0.8967989371568947\n",
      "\n",
      "\n",
      "at random sate 146, the training accuracy is:- 0.8988285232039306\n",
      "at random sate 146, the testing accuracy is:- 0.8967989371568947\n",
      "\n",
      "\n",
      "at random sate 147, the training accuracy is:- 0.8988285232039306\n",
      "at random sate 147, the testing accuracy is:- 0.8967989371568947\n",
      "\n",
      "\n",
      "at random sate 148, the training accuracy is:- 0.8988285232039306\n",
      "at random sate 148, the testing accuracy is:- 0.8967989371568947\n",
      "\n",
      "\n",
      "at random sate 149, the training accuracy is:- 0.8988285232039306\n",
      "at random sate 149, the testing accuracy is:- 0.8967989371568947\n",
      "\n",
      "\n",
      "at random sate 150, the training accuracy is:- 0.8988285232039306\n",
      "at random sate 150, the testing accuracy is:- 0.8967989371568947\n",
      "\n",
      "\n",
      "at random sate 151, the training accuracy is:- 0.8988285232039306\n",
      "at random sate 151, the testing accuracy is:- 0.8967989371568947\n",
      "\n",
      "\n",
      "at random sate 152, the training accuracy is:- 0.8988285232039306\n",
      "at random sate 152, the testing accuracy is:- 0.8967989371568947\n",
      "\n",
      "\n",
      "at random sate 153, the training accuracy is:- 0.8988285232039306\n",
      "at random sate 153, the testing accuracy is:- 0.8967989371568947\n",
      "\n",
      "\n",
      "at random sate 154, the training accuracy is:- 0.8988285232039306\n",
      "at random sate 154, the testing accuracy is:- 0.8967989371568947\n",
      "\n",
      "\n",
      "at random sate 155, the training accuracy is:- 0.8988285232039306\n",
      "at random sate 155, the testing accuracy is:- 0.8967989371568947\n",
      "\n",
      "\n",
      "at random sate 156, the training accuracy is:- 0.8988285232039306\n",
      "at random sate 156, the testing accuracy is:- 0.8967989371568947\n",
      "\n",
      "\n",
      "at random sate 157, the training accuracy is:- 0.8988285232039306\n",
      "at random sate 157, the testing accuracy is:- 0.8967989371568947\n",
      "\n",
      "\n",
      "at random sate 158, the training accuracy is:- 0.8988285232039306\n",
      "at random sate 158, the testing accuracy is:- 0.8967989371568947\n",
      "\n",
      "\n",
      "at random sate 159, the training accuracy is:- 0.8988285232039306\n",
      "at random sate 159, the testing accuracy is:- 0.8967989371568947\n",
      "\n",
      "\n",
      "at random sate 160, the training accuracy is:- 0.8988285232039306\n",
      "at random sate 160, the testing accuracy is:- 0.8967989371568947\n",
      "\n",
      "\n",
      "at random sate 161, the training accuracy is:- 0.8988285232039306\n",
      "at random sate 161, the testing accuracy is:- 0.8967989371568947\n",
      "\n",
      "\n",
      "at random sate 162, the training accuracy is:- 0.8988285232039306\n",
      "at random sate 162, the testing accuracy is:- 0.8967989371568947\n",
      "\n",
      "\n",
      "at random sate 163, the training accuracy is:- 0.8988285232039306\n",
      "at random sate 163, the testing accuracy is:- 0.8967989371568947\n",
      "\n",
      "\n",
      "at random sate 164, the training accuracy is:- 0.8988285232039306\n",
      "at random sate 164, the testing accuracy is:- 0.8967989371568947\n",
      "\n",
      "\n",
      "at random sate 165, the training accuracy is:- 0.8988285232039306\n",
      "at random sate 165, the testing accuracy is:- 0.8967989371568947\n",
      "\n",
      "\n",
      "at random sate 166, the training accuracy is:- 0.8988285232039306\n",
      "at random sate 166, the testing accuracy is:- 0.8967989371568947\n",
      "\n",
      "\n",
      "at random sate 167, the training accuracy is:- 0.8988285232039306\n",
      "at random sate 167, the testing accuracy is:- 0.8967989371568947\n",
      "\n",
      "\n",
      "at random sate 168, the training accuracy is:- 0.8988285232039306\n",
      "at random sate 168, the testing accuracy is:- 0.8967989371568947\n",
      "\n",
      "\n",
      "at random sate 169, the training accuracy is:- 0.8988285232039306\n",
      "at random sate 169, the testing accuracy is:- 0.8967989371568947\n",
      "\n",
      "\n",
      "at random sate 170, the training accuracy is:- 0.8988285232039306\n",
      "at random sate 170, the testing accuracy is:- 0.8967989371568947\n",
      "\n",
      "\n",
      "at random sate 171, the training accuracy is:- 0.8988285232039306\n",
      "at random sate 171, the testing accuracy is:- 0.8967989371568947\n",
      "\n",
      "\n",
      "at random sate 172, the training accuracy is:- 0.8988285232039306\n",
      "at random sate 172, the testing accuracy is:- 0.8967989371568947\n",
      "\n",
      "\n",
      "at random sate 173, the training accuracy is:- 0.8988285232039306\n",
      "at random sate 173, the testing accuracy is:- 0.8967989371568947\n",
      "\n",
      "\n",
      "at random sate 174, the training accuracy is:- 0.8988285232039306\n",
      "at random sate 174, the testing accuracy is:- 0.8967989371568947\n",
      "\n",
      "\n",
      "at random sate 175, the training accuracy is:- 0.8988285232039306\n",
      "at random sate 175, the testing accuracy is:- 0.8967989371568947\n",
      "\n",
      "\n",
      "at random sate 176, the training accuracy is:- 0.8988285232039306\n",
      "at random sate 176, the testing accuracy is:- 0.8967989371568947\n",
      "\n",
      "\n",
      "at random sate 177, the training accuracy is:- 0.8988285232039306\n",
      "at random sate 177, the testing accuracy is:- 0.8967989371568947\n",
      "\n",
      "\n",
      "at random sate 178, the training accuracy is:- 0.8988285232039306\n",
      "at random sate 178, the testing accuracy is:- 0.8967989371568947\n",
      "\n",
      "\n",
      "at random sate 179, the training accuracy is:- 0.8988285232039306\n",
      "at random sate 179, the testing accuracy is:- 0.8967989371568947\n",
      "\n",
      "\n",
      "at random sate 180, the training accuracy is:- 0.8988285232039306\n",
      "at random sate 180, the testing accuracy is:- 0.8967989371568947\n",
      "\n",
      "\n",
      "at random sate 181, the training accuracy is:- 0.8988285232039306\n",
      "at random sate 181, the testing accuracy is:- 0.8967989371568947\n",
      "\n",
      "\n",
      "at random sate 182, the training accuracy is:- 0.8988285232039306\n",
      "at random sate 182, the testing accuracy is:- 0.8967989371568947\n",
      "\n",
      "\n",
      "at random sate 183, the training accuracy is:- 0.8988285232039306\n",
      "at random sate 183, the testing accuracy is:- 0.8967989371568947\n",
      "\n",
      "\n",
      "at random sate 184, the training accuracy is:- 0.8988285232039306\n",
      "at random sate 184, the testing accuracy is:- 0.8967989371568947\n",
      "\n",
      "\n",
      "at random sate 185, the training accuracy is:- 0.8988285232039306\n",
      "at random sate 185, the testing accuracy is:- 0.8967989371568947\n",
      "\n",
      "\n",
      "at random sate 186, the training accuracy is:- 0.8988285232039306\n",
      "at random sate 186, the testing accuracy is:- 0.8967989371568947\n",
      "\n",
      "\n",
      "at random sate 187, the training accuracy is:- 0.8988285232039306\n",
      "at random sate 187, the testing accuracy is:- 0.8967989371568947\n",
      "\n",
      "\n",
      "at random sate 188, the training accuracy is:- 0.8988285232039306\n",
      "at random sate 188, the testing accuracy is:- 0.8967989371568947\n",
      "\n",
      "\n",
      "at random sate 189, the training accuracy is:- 0.8988285232039306\n",
      "at random sate 189, the testing accuracy is:- 0.8967989371568947\n",
      "\n",
      "\n",
      "at random sate 190, the training accuracy is:- 0.8988285232039306\n",
      "at random sate 190, the testing accuracy is:- 0.8967989371568947\n",
      "\n",
      "\n"
     ]
    },
    {
     "name": "stdout",
     "output_type": "stream",
     "text": [
      "at random sate 191, the training accuracy is:- 0.8988285232039306\n",
      "at random sate 191, the testing accuracy is:- 0.8967989371568947\n",
      "\n",
      "\n",
      "at random sate 192, the training accuracy is:- 0.8988285232039306\n",
      "at random sate 192, the testing accuracy is:- 0.8967989371568947\n",
      "\n",
      "\n",
      "at random sate 193, the training accuracy is:- 0.8988285232039306\n",
      "at random sate 193, the testing accuracy is:- 0.8967989371568947\n",
      "\n",
      "\n",
      "at random sate 194, the training accuracy is:- 0.8988285232039306\n",
      "at random sate 194, the testing accuracy is:- 0.8967989371568947\n",
      "\n",
      "\n",
      "at random sate 195, the training accuracy is:- 0.8988285232039306\n",
      "at random sate 195, the testing accuracy is:- 0.8967989371568947\n",
      "\n",
      "\n",
      "at random sate 196, the training accuracy is:- 0.8988285232039306\n",
      "at random sate 196, the testing accuracy is:- 0.8967989371568947\n",
      "\n",
      "\n",
      "at random sate 197, the training accuracy is:- 0.8988285232039306\n",
      "at random sate 197, the testing accuracy is:- 0.8967989371568947\n",
      "\n",
      "\n",
      "at random sate 198, the training accuracy is:- 0.8988285232039306\n",
      "at random sate 198, the testing accuracy is:- 0.8967989371568947\n",
      "\n",
      "\n",
      "at random sate 199, the training accuracy is:- 0.8988285232039306\n",
      "at random sate 199, the testing accuracy is:- 0.8967989371568947\n",
      "\n",
      "\n",
      "Best Training accuracy_score is 0.8988285232039306 on random state 1\n",
      "Best Testing accuracy_score is 0.8967989371568947 on random state 1\n"
     ]
    }
   ],
   "source": [
    "# Lets select the proper random state to build best model by using LogisticRegression\n",
    "\n",
    "from sklearn.linear_model import LogisticRegression\n",
    "\n",
    "acc_score_test = 0\n",
    "acc_score_train = 0\n",
    "rand_state = 0\n",
    "for i in range(1,200):\n",
    "    \n",
    "    x_train,x_test,y_train,y_test = train_test_split(x,y,test_size=0.25,random_state= i )\n",
    "    \n",
    "    lr = LogisticRegression()\n",
    "    lr.fit(x_train,y_train)\n",
    "    \n",
    "    y_pred=lr.predict(x_train) # prediction on train data\n",
    "    r1 =accuracy_score(y_train,y_pred) # accuracy check on train data\n",
    "    \n",
    "    pred = lr.predict(x_test)   #prediction on test data\n",
    "    r2 =accuracy_score(y_test,pred) #accuracy check on test data\n",
    "    \n",
    "    if r2 > acc_score_test and r1 > acc_score_train: # selecting max score accuracy\n",
    "        acc_score_test = r2\n",
    "        acc_score_train = r1\n",
    "        rand_state = i\n",
    "    print(f\"at random sate {i}, the training accuracy is:- {acc_score_train}\")\n",
    "    print(f\"at random sate {i}, the testing accuracy is:- {acc_score_test}\")\n",
    "    print(\"\\n\")\n",
    "print('Best Training accuracy_score is {} on random state {}'.format(acc_score_train,rand_state))\n",
    "print('Best Testing accuracy_score is {} on random state {}'.format(acc_score_test,rand_state))"
   ]
  },
  {
   "cell_type": "code",
   "execution_count": 48,
   "id": "1039a89c",
   "metadata": {},
   "outputs": [
    {
     "name": "stdout",
     "output_type": "stream",
     "text": [
      "We got our best randoms sate as : 1\n"
     ]
    }
   ],
   "source": [
    "print('We got our best randoms sate as :',rand_state)"
   ]
  },
  {
   "cell_type": "code",
   "execution_count": 52,
   "id": "38c426e0",
   "metadata": {},
   "outputs": [
    {
     "name": "stdout",
     "output_type": "stream",
     "text": [
      "(111699, 2)\n",
      "(47872, 2)\n",
      "(111699,)\n",
      "(47872,)\n"
     ]
    }
   ],
   "source": [
    "#Lets split for train and test data\n",
    "x_train,x_test,y_train,y_test = train_test_split(x,y,test_size=0.30,random_state= rand_state )\n",
    "print(x_train.shape)\n",
    "print(x_test.shape)\n",
    "print(y_train.shape)\n",
    "print(y_test.shape)"
   ]
  },
  {
   "cell_type": "code",
   "execution_count": 53,
   "id": "5934203e",
   "metadata": {},
   "outputs": [
    {
     "name": "stdout",
     "output_type": "stream",
     "text": [
      "Counter({0: 100443, 1: 11256})\n",
      "Counter({0: 100443, 1: 90398})\n"
     ]
    }
   ],
   "source": [
    "# We have imbalance dataset lets use SMOTE\n",
    "# Lets use of Resampling Techniques to handle Imbalanced Data \n",
    "from imblearn.over_sampling import SMOTE\n",
    "from collections import Counter\n",
    "\n",
    "ove_smp=SMOTE(0.90) # selecting 90% data for resampling\n",
    "x_train_ns,y_train_ns=ove_smp.fit_resample(x_train,y_train)\n",
    "print(Counter(y_train))\n",
    "print(Counter(y_train_ns))"
   ]
  },
  {
   "cell_type": "markdown",
   "id": "a6d6528f",
   "metadata": {},
   "source": [
    "# Lets build the model to predict the Malignant comment "
   ]
  },
  {
   "cell_type": "code",
   "execution_count": 55,
   "id": "7e2fb401",
   "metadata": {},
   "outputs": [],
   "source": [
    "from sklearn.linear_model import LogisticRegression\n",
    "LR= LogisticRegression()\n",
    "\n",
    "from sklearn.tree import DecisionTreeClassifier\n",
    "dt=DecisionTreeClassifier()\n",
    "\n",
    "from sklearn.ensemble import AdaBoostClassifier, GradientBoostingClassifier\n",
    "ada=AdaBoostClassifier()\n",
    "gb=GradientBoostingClassifier()\n",
    "\n",
    "from sklearn.ensemble import RandomForestClassifier\n",
    "rfc= RandomForestClassifier()\n",
    "\n",
    "import xgboost as xgb\n",
    "xgb=xgb.XGBClassifier()\n",
    "\n",
    "from sklearn.neighbors import KNeighborsClassifier\n",
    "knn=KNeighborsClassifier()\n",
    "\n",
    "from sklearn.model_selection import cross_val_score\n",
    "from sklearn.metrics import roc_curve,roc_auc_score, plot_roc_curve, auc\n",
    "\n",
    "models=[]\n",
    "models.append(('LogisticRegression', LR))\n",
    "models.append(('DecisionTreeClassifier', dt))\n",
    "models.append(('AdaBoostClassifier', ada))\n",
    "models.append(('GradientBoostingClassifier', gb))\n",
    "models.append(('RandomForestClassifier', rfc))\n",
    "models.append(('XGBClassifier', xgb))\n",
    "models.append(('KNeighborsClassifier', knn))"
   ]
  },
  {
   "cell_type": "code",
   "execution_count": 56,
   "id": "6074c66d",
   "metadata": {},
   "outputs": [
    {
     "name": "stdout",
     "output_type": "stream",
     "text": [
      "*********************** LogisticRegression ***********************\n",
      "LogisticRegression()\n",
      "Train Report: 0.5263177199867953\n",
      "Test Report: 0.8962023729946524\n",
      "Classification Report:               precision    recall  f1-score   support\n",
      "\n",
      "           0       0.90      1.00      0.95     42903\n",
      "           1       0.00      0.00      0.00      4969\n",
      "\n",
      "    accuracy                           0.90     47872\n",
      "   macro avg       0.45      0.50      0.47     47872\n",
      "weighted avg       0.80      0.90      0.85     47872\n",
      "\n",
      "Confusion Matrix: [[42903     0]\n",
      " [ 4969     0]]\n",
      "Accuracy: 52.63 %\n",
      "Standard Deviation: 0.00 %\n",
      "\n",
      "\n",
      "*********************** DecisionTreeClassifier ***********************\n",
      "DecisionTreeClassifier()\n",
      "Train Report: 1.0\n",
      "Test Report: 0.7071983622994652\n",
      "Classification Report:               precision    recall  f1-score   support\n",
      "\n",
      "           0       0.92      0.74      0.82     42903\n",
      "           1       0.16      0.44      0.24      4969\n",
      "\n",
      "    accuracy                           0.71     47872\n",
      "   macro avg       0.54      0.59      0.53     47872\n",
      "weighted avg       0.84      0.71      0.76     47872\n",
      "\n",
      "Confusion Matrix: [[31693 11210]\n",
      " [ 2807  2162]]\n",
      "Accuracy: 70.86 %\n",
      "Standard Deviation: 0.40 %\n",
      "\n",
      "\n",
      "*********************** AdaBoostClassifier ***********************\n",
      "AdaBoostClassifier()\n",
      "Train Report: 0.6071494070980554\n",
      "Test Report: 0.7574991644385026\n",
      "Classification Report:               precision    recall  f1-score   support\n",
      "\n",
      "           0       0.92      0.80      0.86     42903\n",
      "           1       0.18      0.38      0.25      4969\n",
      "\n",
      "    accuracy                           0.76     47872\n",
      "   macro avg       0.55      0.59      0.55     47872\n",
      "weighted avg       0.84      0.76      0.79     47872\n",
      "\n",
      "Confusion Matrix: [[34374  8529]\n",
      " [ 3080  1889]]\n",
      "Accuracy: 60.67 %\n",
      "Standard Deviation: 0.04 %\n",
      "\n",
      "\n",
      "*********************** GradientBoostingClassifier ***********************\n",
      "GradientBoostingClassifier()\n",
      "Train Report: 0.6366661252037036\n",
      "Test Report: 0.7846966911764706\n",
      "Classification Report:               precision    recall  f1-score   support\n",
      "\n",
      "           0       0.92      0.83      0.87     42903\n",
      "           1       0.21      0.40      0.28      4969\n",
      "\n",
      "    accuracy                           0.78     47872\n",
      "   macro avg       0.57      0.62      0.58     47872\n",
      "weighted avg       0.85      0.78      0.81     47872\n",
      "\n",
      "Confusion Matrix: [[35571  7332]\n",
      " [ 2975  1994]]\n",
      "Accuracy: 63.07 %\n",
      "Standard Deviation: 0.55 %\n",
      "\n",
      "\n",
      "*********************** RandomForestClassifier ***********************\n",
      "RandomForestClassifier()\n",
      "Train Report: 0.999984280107524\n",
      "Test Report: 0.7450701871657754\n",
      "Classification Report:               precision    recall  f1-score   support\n",
      "\n",
      "           0       0.92      0.79      0.85     42903\n",
      "           1       0.18      0.39      0.24      4969\n",
      "\n",
      "    accuracy                           0.75     47872\n",
      "   macro avg       0.55      0.59      0.54     47872\n",
      "weighted avg       0.84      0.75      0.78     47872\n",
      "\n",
      "Confusion Matrix: [[33717  9186]\n",
      " [ 3018  1951]]\n",
      "Accuracy: 75.73 %\n",
      "Standard Deviation: 0.30 %\n",
      "\n",
      "\n",
      "*********************** XGBClassifier ***********************\n",
      "XGBClassifier(base_score=0.5, booster='gbtree', callbacks=None,\n",
      "              colsample_bylevel=1, colsample_bynode=1, colsample_bytree=1,\n",
      "              early_stopping_rounds=None, enable_categorical=False,\n",
      "              eval_metric=None, gamma=0, gpu_id=-1, grow_policy='depthwise',\n",
      "              importance_type=None, interaction_constraints='',\n",
      "              learning_rate=0.300000012, max_bin=256, max_cat_to_onehot=4,\n",
      "              max_delta_step=0, max_depth=6, max_leaves=0, min_child_weight=1,\n",
      "              missing=nan, monotone_constraints='()', n_estimators=100,\n",
      "              n_jobs=0, num_parallel_tree=1, predictor='auto', random_state=0,\n",
      "              reg_alpha=0, reg_lambda=1, ...)\n",
      "Train Report: 0.7109111773675468\n",
      "Test Report: 0.7349390040106952\n",
      "Classification Report:               precision    recall  f1-score   support\n",
      "\n",
      "           0       0.93      0.76      0.84     42903\n",
      "           1       0.20      0.52      0.29      4969\n",
      "\n",
      "    accuracy                           0.73     47872\n",
      "   macro avg       0.57      0.64      0.56     47872\n",
      "weighted avg       0.86      0.73      0.78     47872\n",
      "\n",
      "Confusion Matrix: [[32611 10292]\n",
      " [ 2397  2572]]\n",
      "Accuracy: 67.70 %\n",
      "Standard Deviation: 0.11 %\n",
      "\n",
      "\n",
      "*********************** KNeighborsClassifier ***********************\n",
      "KNeighborsClassifier()\n",
      "Train Report: 0.8510120990772423\n",
      "Test Report: 0.6836146390374331\n",
      "Classification Report:               precision    recall  f1-score   support\n",
      "\n",
      "           0       0.91      0.72      0.80     42903\n",
      "           1       0.14      0.41      0.21      4969\n",
      "\n",
      "    accuracy                           0.68     47872\n",
      "   macro avg       0.53      0.56      0.51     47872\n",
      "weighted avg       0.83      0.68      0.74     47872\n",
      "\n",
      "Confusion Matrix: [[30700 12203]\n",
      " [ 2943  2026]]\n",
      "Accuracy: 74.54 %\n",
      "Standard Deviation: 0.02 %\n",
      "\n",
      "\n"
     ]
    },
    {
     "data": {
      "image/png": "[encoded data removed]",
      "text/plain": [
       "<Figure size 432x288 with 1 Axes>"
      ]
     },
     "metadata": {
      "needs_background": "light"
     },
     "output_type": "display_data"
    },
    {
     "data": {
      "image/png": "[encoded data removed]",
      "text/plain": [
       "<Figure size 432x288 with 1 Axes>"
      ]
     },
     "metadata": {
      "needs_background": "light"
     },
     "output_type": "display_data"
    },
    {
     "data": {
      "image/png": "[encoded data removed]",
      "text/plain": [
       "<Figure size 432x288 with 1 Axes>"
      ]
     },
     "metadata": {
      "needs_background": "light"
     },
     "output_type": "display_data"
    },
    {
     "data": {
      "image/png": "[encoded data removed]",
      "text/plain": [
       "<Figure size 432x288 with 1 Axes>"
      ]
     },
     "metadata": {
      "needs_background": "light"
     },
     "output_type": "display_data"
    },
    {
     "data": {
      "image/png": "[encoded data removed]",
      "text/plain": [
       "<Figure size 432x288 with 1 Axes>"
      ]
     },
     "metadata": {
      "needs_background": "light"
     },
     "output_type": "display_data"
    },
    {
     "data": {
      "image/png": "[encoded data removed]",
      "text/plain": [
       "<Figure size 432x288 with 1 Axes>"
      ]
     },
     "metadata": {
      "needs_background": "light"
     },
     "output_type": "display_data"
    },
    {
     "data": {
      "image/png": "[encoded data removed]",
      "text/plain": [
       "<Figure size 432x288 with 1 Axes>"
      ]
     },
     "metadata": {
      "needs_background": "light"
     },
     "output_type": "display_data"
    },
    {
     "data": {
      "image/png": "[encoded data removed]",
      "text/plain": [
       "<Figure size 432x288 with 1 Axes>"
      ]
     },
     "metadata": {
      "needs_background": "light"
     },
     "output_type": "display_data"
    },
    {
     "data": {
      "image/png": "[encoded data removed]",
      "text/plain": [
       "<Figure size 432x288 with 1 Axes>"
      ]
     },
     "metadata": {
      "needs_background": "light"
     },
     "output_type": "display_data"
    },
    {
     "data": {
      "image/png": "[encoded data removed]",
      "text/plain": [
       "<Figure size 432x288 with 1 Axes>"
      ]
     },
     "metadata": {
      "needs_background": "light"
     },
     "output_type": "display_data"
    },
    {
     "data": {
      "image/png": "[encoded data removed]",
      "text/plain": [
       "<Figure size 432x288 with 1 Axes>"
      ]
     },
     "metadata": {
      "needs_background": "light"
     },
     "output_type": "display_data"
    },
    {
     "data": {
      "image/png": "[encoded data removed]",
      "text/plain": [
       "<Figure size 432x288 with 1 Axes>"
      ]
     },
     "metadata": {
      "needs_background": "light"
     },
     "output_type": "display_data"
    },
    {
     "data": {
      "image/png": "[encoded data removed]",
      "text/plain": [
       "<Figure size 432x288 with 1 Axes>"
      ]
     },
     "metadata": {
      "needs_background": "light"
     },
     "output_type": "display_data"
    },
    {
     "data": {
      "image/png": "[encoded data removed]",
      "text/plain": [
       "<Figure size 432x288 with 1 Axes>"
      ]
     },
     "metadata": {
      "needs_background": "light"
     },
     "output_type": "display_data"
    }
   ],
   "source": [
    "m=[]\n",
    "score=[]\n",
    "score2=[]\n",
    "cv_score=[]\n",
    "roc_trainscore=[]\n",
    "roc_testscore=[]\n",
    "for name, model in models:\n",
    "    print('***********************',name,'***********************')\n",
    "    m.append(name)\n",
    "    model.fit(x_train_ns, y_train_ns)\n",
    "    print(model)\n",
    "    y_pred=model.predict(x_train_ns)\n",
    "    AS=accuracy_score(y_train_ns,y_pred)\n",
    "    print(\"Train Report:\",AS)\n",
    "    score.append(AS*100)\n",
    "    \n",
    "    pred=model.predict(x_test)\n",
    "    AS2=accuracy_score(y_test,pred)\n",
    "    print(\"Test Report:\",AS2)\n",
    "    score2.append(AS2*100)\n",
    "    CR=classification_report(y_test,pred)\n",
    "    print(\"Classification Report:\",CR)\n",
    "    CM=confusion_matrix(y_test,pred)\n",
    "    print(\"Confusion Matrix:\", CM)\n",
    "    \n",
    "    accuracies= cross_val_score(model, x_train_ns, y_train_ns, cv=2, scoring='accuracy')\n",
    "    print(\"Accuracy: {:.2f} %\".format(accuracies.mean()*100))\n",
    "    cv_score.append(accuracies.mean()*100)\n",
    "    print(\"Standard Deviation: {:.2f} %\".format(accuracies.std()*100))\n",
    "    print('\\n')\n",
    "    plot_roc_curve(model,x_train_ns,y_train_ns)\n",
    "    auc = metrics.roc_auc_score(y_train_ns,y_pred) #calculate AUC of model\n",
    "    roc_trainscore.append(auc*100)  #print AUC score\n",
    "    \n",
    "    plot_roc_curve(model,x_test, y_test)\n",
    "    auc1 = metrics.roc_auc_score(y_test, pred) #calculate AUC of model\n",
    "    roc_testscore.append(auc1*100) #print AUC score"
   ]
  },
  {
   "cell_type": "code",
   "execution_count": 57,
   "id": "3fdf876c",
   "metadata": {},
   "outputs": [
    {
     "name": "stdout",
     "output_type": "stream",
     "text": [
      "7 7 7 7 7 7\n"
     ]
    }
   ],
   "source": [
    "print(len(m),len(score),len(score2),len(cv_score),len(roc_trainscore),len(roc_testscore))"
   ]
  },
  {
   "cell_type": "code",
   "execution_count": 58,
   "id": "9b5bc43e",
   "metadata": {},
   "outputs": [
    {
     "data": {
      "text/html": [
       "<div>\n",
       "<style scoped>\n",
       "    .dataframe tbody tr th:only-of-type {\n",
       "        vertical-align: middle;\n",
       "    }\n",
       "\n",
       "    .dataframe tbody tr th {\n",
       "        vertical-align: top;\n",
       "    }\n",
       "\n",
       "    .dataframe thead th {\n",
       "        text-align: right;\n",
       "    }\n",
       "</style>\n",
       "<table border=\"1\" class=\"dataframe\">\n",
       "  <thead>\n",
       "    <tr style=\"text-align: right;\">\n",
       "      <th></th>\n",
       "      <th>Model</th>\n",
       "      <th>Accuracy_train_score</th>\n",
       "      <th>Accuracy_test_score</th>\n",
       "      <th>Cross_val_score</th>\n",
       "      <th>Roc_auc_trainScore</th>\n",
       "      <th>Roc_auc_testScore</th>\n",
       "    </tr>\n",
       "  </thead>\n",
       "  <tbody>\n",
       "    <tr>\n",
       "      <th>0</th>\n",
       "      <td>LogisticRegression</td>\n",
       "      <td>52.631772</td>\n",
       "      <td>89.620237</td>\n",
       "      <td>52.631772</td>\n",
       "      <td>50.000000</td>\n",
       "      <td>50.000000</td>\n",
       "    </tr>\n",
       "    <tr>\n",
       "      <th>1</th>\n",
       "      <td>DecisionTreeClassifier</td>\n",
       "      <td>100.000000</td>\n",
       "      <td>70.719836</td>\n",
       "      <td>70.863177</td>\n",
       "      <td>100.000000</td>\n",
       "      <td>58.690526</td>\n",
       "    </tr>\n",
       "    <tr>\n",
       "      <th>2</th>\n",
       "      <td>AdaBoostClassifier</td>\n",
       "      <td>60.714941</td>\n",
       "      <td>75.749916</td>\n",
       "      <td>60.673545</td>\n",
       "      <td>59.645092</td>\n",
       "      <td>59.067984</td>\n",
       "    </tr>\n",
       "    <tr>\n",
       "      <th>3</th>\n",
       "      <td>GradientBoostingClassifier</td>\n",
       "      <td>63.666613</td>\n",
       "      <td>78.469669</td>\n",
       "      <td>63.073975</td>\n",
       "      <td>62.594648</td>\n",
       "      <td>61.519542</td>\n",
       "    </tr>\n",
       "    <tr>\n",
       "      <th>4</th>\n",
       "      <td>RandomForestClassifier</td>\n",
       "      <td>99.998428</td>\n",
       "      <td>74.507019</td>\n",
       "      <td>75.725344</td>\n",
       "      <td>99.998341</td>\n",
       "      <td>58.926172</td>\n",
       "    </tr>\n",
       "    <tr>\n",
       "      <th>5</th>\n",
       "      <td>XGBClassifier</td>\n",
       "      <td>71.091118</td>\n",
       "      <td>73.493900</td>\n",
       "      <td>67.700336</td>\n",
       "      <td>70.693131</td>\n",
       "      <td>63.885960</td>\n",
       "    </tr>\n",
       "    <tr>\n",
       "      <th>6</th>\n",
       "      <td>KNeighborsClassifier</td>\n",
       "      <td>85.101210</td>\n",
       "      <td>68.361464</td>\n",
       "      <td>74.535346</td>\n",
       "      <td>85.383604</td>\n",
       "      <td>56.164779</td>\n",
       "    </tr>\n",
       "  </tbody>\n",
       "</table>\n",
       "</div>"
      ],
      "text/plain": [
       "                        Model  Accuracy_train_score  Accuracy_test_score  \\\n",
       "0          LogisticRegression             52.631772            89.620237   \n",
       "1      DecisionTreeClassifier            100.000000            70.719836   \n",
       "2          AdaBoostClassifier             60.714941            75.749916   \n",
       "3  GradientBoostingClassifier             63.666613            78.469669   \n",
       "4      RandomForestClassifier             99.998428            74.507019   \n",
       "5               XGBClassifier             71.091118            73.493900   \n",
       "6        KNeighborsClassifier             85.101210            68.361464   \n",
       "\n",
       "   Cross_val_score  Roc_auc_trainScore  Roc_auc_testScore  \n",
       "0        52.631772           50.000000          50.000000  \n",
       "1        70.863177          100.000000          58.690526  \n",
       "2        60.673545           59.645092          59.067984  \n",
       "3        63.073975           62.594648          61.519542  \n",
       "4        75.725344           99.998341          58.926172  \n",
       "5        67.700336           70.693131          63.885960  \n",
       "6        74.535346           85.383604          56.164779  "
      ]
     },
     "execution_count": 58,
     "metadata": {},
     "output_type": "execute_result"
    }
   ],
   "source": [
    "# Collecting all accuracies to \n",
    "result = pd.DataFrame({'Model': m, 'Accuracy_train_score': score,'Accuracy_test_score': score2 ,'Cross_val_score':cv_score,'Roc_auc_trainScore':roc_trainscore,'Roc_auc_testScore':roc_testscore})\n",
    "result"
   ]
  },
  {
   "cell_type": "markdown",
   "id": "92bf0fac",
   "metadata": {},
   "source": [
    "# Looking at the accuracy and ROC curve i m selecting XGBClassifier lets get better accuracy by hyper tuning parameter"
   ]
  },
  {
   "cell_type": "markdown",
   "id": "6fe0a8d4",
   "metadata": {},
   "source": [
    "# HyperParameter Tuning"
   ]
  },
  {
   "cell_type": "code",
   "execution_count": 59,
   "id": "78eecc54",
   "metadata": {},
   "outputs": [
    {
     "data": {
      "text/plain": [
       "{'random_state': 20, 'n_estimators': 10, 'max_depth': 11, 'gamma': 0.092}"
      ]
     },
     "execution_count": 59,
     "metadata": {},
     "output_type": "execute_result"
    }
   ],
   "source": [
    "# Hyper tuning by using RandomizedSearchCV With XGB\n",
    "from sklearn.model_selection import RandomizedSearchCV\n",
    "\n",
    "para={'n_estimators':[15,10,12],'gamma':[0.25,0.001,0.3,0.092],'max_depth':[25,20,11,21,8,9],'random_state':[20,10,30]}\n",
    "rand=RandomizedSearchCV(estimator=xgb, cv=5,param_distributions=para)\n",
    "rand.fit(x_train,y_train)\n",
    "\n",
    "rand.best_params_"
   ]
  },
  {
   "cell_type": "code",
   "execution_count": 76,
   "id": "1abe52fb",
   "metadata": {},
   "outputs": [
    {
     "name": "stdout",
     "output_type": "stream",
     "text": [
      "Train Report: 94.45716591298515\n",
      "Test Report: 74.04745989304813\n",
      "Classification Report:               precision    recall  f1-score   support\n",
      "\n",
      "           0       0.92      0.78      0.84     42903\n",
      "           1       0.18      0.44      0.26      4969\n",
      "\n",
      "    accuracy                           0.74     47872\n",
      "   macro avg       0.55      0.61      0.55     47872\n",
      "weighted avg       0.85      0.74      0.78     47872\n",
      "\n",
      "Confusion Matrix: [[33272  9631]\n",
      " [ 2793  2176]]\n",
      "Accuracy: 73.64 %\n",
      "Standard Deviation: 0.03 %\n",
      "roc_auc_train 94.4511150896557\n",
      "roc_auc_test 60.6715968539007\n"
     ]
    },
    {
     "data": {
      "image/png": "[encoded data removed]",
      "text/plain": [
       "<Figure size 432x288 with 1 Axes>"
      ]
     },
     "metadata": {
      "needs_background": "light"
     },
     "output_type": "display_data"
    },
    {
     "data": {
      "image/png": "[encoded data removed]",
      "text/plain": [
       "<Figure size 432x288 with 1 Axes>"
      ]
     },
     "metadata": {
      "needs_background": "light"
     },
     "output_type": "display_data"
    }
   ],
   "source": [
    "#Model no.5\n",
    "import xgboost as xgb\n",
    "\n",
    "xgb=xgb.XGBClassifier(random_state=20, n_estimators= 15, max_depth= 25, gamma= 0.001)\n",
    "\n",
    "xgb.fit(x_train_ns,y_train_ns)\n",
    "y_pred=xgb.predict(x_train_ns)\n",
    "AS=accuracy_score(y_train_ns,y_pred)\n",
    "print(\"Train Report:\",AS*100) \n",
    "pred=xgb.predict(x_test)\n",
    "AS2=accuracy_score(y_test,pred)\n",
    "print(\"Test Report:\",AS2*100)\n",
    "CR=classification_report(y_test,pred)\n",
    "print(\"Classification Report:\",CR)\n",
    "CM=confusion_matrix(y_test,pred)\n",
    "print(\"Confusion Matrix:\", CM)\n",
    "    \n",
    "accuracies= cross_val_score(xgb, x_train_ns, y_train_ns, cv=2, scoring='accuracy')\n",
    "print(\"Accuracy: {:.2f} %\".format(accuracies.mean()*100))\n",
    "cv_score.append(accuracies.mean()*100)\n",
    "print(\"Standard Deviation: {:.2f} %\".format(accuracies.std()*100))\n",
    "\n",
    "plot_roc_curve(xgb,x_train_ns,y_train_ns)\n",
    "auc = metrics.roc_auc_score(y_train_ns,y_pred) #calculate AUC of model\n",
    "print('roc_auc_train',auc*100)  #print AUC score\n",
    "    \n",
    "plot_roc_curve(xgb,x_test, y_test)\n",
    "auc1 = metrics.roc_auc_score(y_test, pred) #calculate AUC of model\n",
    "print('roc_auc_test',auc1*100) #print AUC score"
   ]
  },
  {
   "cell_type": "code",
   "execution_count": 78,
   "id": "5f3f6f6e",
   "metadata": {},
   "outputs": [
    {
     "name": "stdout",
     "output_type": "stream",
     "text": [
      "{'max_depth': 10, 'n_estimators': 20, 'random_state': 41}\n"
     ]
    }
   ],
   "source": [
    "# Hyper tuning by using GridSearchCV\n",
    "\n",
    "from sklearn.model_selection import GridSearchCV\n",
    "\n",
    "para={'max_depth':[20,3,40,6,10],'random_state':[41,35,56,300],'n_estimators':[20,30,7]}\n",
    "grid=GridSearchCV(estimator=xgb, param_grid=para,cv=2)\n",
    "grid.fit(x_train,y_train)\n",
    "\n",
    "print(grid.best_params_)"
   ]
  },
  {
   "cell_type": "code",
   "execution_count": 81,
   "id": "a5389af8",
   "metadata": {},
   "outputs": [
    {
     "name": "stdout",
     "output_type": "stream",
     "text": [
      "Train Report: 92.53724304525757\n",
      "Test Report: 74.0161263368984\n",
      "Classification Report:               precision    recall  f1-score   support\n",
      "\n",
      "           0       0.92      0.77      0.84     42903\n",
      "           1       0.19      0.44      0.26      4969\n",
      "\n",
      "    accuracy                           0.74     47872\n",
      "   macro avg       0.55      0.61      0.55     47872\n",
      "weighted avg       0.85      0.74      0.78     47872\n",
      "\n",
      "Confusion Matrix: [[33238  9665]\n",
      " [ 2774  2195]]\n",
      "Accuracy: 73.38 %\n",
      "Standard Deviation: 0.01 %\n",
      "roc_auc_train 92.5199949480114\n",
      "roc_auc_test 60.823157934366364\n"
     ]
    },
    {
     "data": {
      "image/png": "[encoded data removed]",
      "text/plain": [
       "<Figure size 432x288 with 1 Axes>"
      ]
     },
     "metadata": {
      "needs_background": "light"
     },
     "output_type": "display_data"
    },
    {
     "data": {
      "image/png": "[encoded data removed]",
      "text/plain": [
       "<Figure size 432x288 with 1 Axes>"
      ]
     },
     "metadata": {
      "needs_background": "light"
     },
     "output_type": "display_data"
    }
   ],
   "source": [
    "#Model no.5\n",
    "import xgboost as xgb\n",
    "\n",
    "xgb=xgb.XGBClassifier(random_state=41, n_estimators= 20, max_depth= 22)\n",
    "\n",
    "xgb.fit(x_train_ns,y_train_ns)\n",
    "y_pred=xgb.predict(x_train_ns)\n",
    "AS=accuracy_score(y_train_ns,y_pred)\n",
    "print(\"Train Report:\",AS*100) \n",
    "pred=xgb.predict(x_test)\n",
    "AS2=accuracy_score(y_test,pred)\n",
    "print(\"Test Report:\",AS2*100)\n",
    "CR=classification_report(y_test,pred)\n",
    "print(\"Classification Report:\",CR)\n",
    "CM=confusion_matrix(y_test,pred)\n",
    "print(\"Confusion Matrix:\", CM)\n",
    "    \n",
    "accuracies= cross_val_score(xgb, x_train_ns, y_train_ns, cv=2, scoring='accuracy')\n",
    "print(\"Accuracy: {:.2f} %\".format(accuracies.mean()*100))\n",
    "cv_score.append(accuracies.mean()*100)\n",
    "print(\"Standard Deviation: {:.2f} %\".format(accuracies.std()*100))\n",
    "\n",
    "plot_roc_curve(xgb,x_train_ns,y_train_ns)\n",
    "auc = metrics.roc_auc_score(y_train_ns,y_pred) #calculate AUC of model\n",
    "print('roc_auc_train',auc*100)  #print AUC score\n",
    "    \n",
    "plot_roc_curve(xgb,x_test, y_test)\n",
    "auc1 = metrics.roc_auc_score(y_test, pred) #calculate AUC of model\n",
    "print('roc_auc_test',auc1*100) #print AUC score"
   ]
  },
  {
   "cell_type": "markdown",
   "id": "9472f4b6",
   "metadata": {},
   "source": [
    "# After doing both hypertuning parameter and also looking at the accuracy , roc curve & after cross validation i m selecting the XGBClassifier with RandomizedSearchCV classifier is the best model with accuracy 73.64%."
   ]
  },
  {
   "cell_type": "code",
   "execution_count": 83,
   "id": "340af77a",
   "metadata": {},
   "outputs": [],
   "source": [
    "#save model\n",
    "import pickle\n",
    "Filename='Finalized_model_Malignant_Comments.pickle'\n",
    "pickle.dump(xgb,open(Filename,'wb'))"
   ]
  },
  {
   "cell_type": "markdown",
   "id": "8571898c",
   "metadata": {},
   "source": [
    "# Lets Predict the Malignant comments for the test data by selected model"
   ]
  },
  {
   "cell_type": "code",
   "execution_count": 90,
   "id": "54119557",
   "metadata": {},
   "outputs": [
    {
     "data": {
      "text/html": [
       "<div>\n",
       "<style scoped>\n",
       "    .dataframe tbody tr th:only-of-type {\n",
       "        vertical-align: middle;\n",
       "    }\n",
       "\n",
       "    .dataframe tbody tr th {\n",
       "        vertical-align: top;\n",
       "    }\n",
       "\n",
       "    .dataframe thead th {\n",
       "        text-align: right;\n",
       "    }\n",
       "</style>\n",
       "<table border=\"1\" class=\"dataframe\">\n",
       "  <thead>\n",
       "    <tr style=\"text-align: right;\">\n",
       "      <th></th>\n",
       "      <th>id</th>\n",
       "      <th>comment_text</th>\n",
       "    </tr>\n",
       "  </thead>\n",
       "  <tbody>\n",
       "    <tr>\n",
       "      <th>0</th>\n",
       "      <td>00001cee341fdb12</td>\n",
       "      <td>Yo bitch Ja Rule is more succesful then you'll...</td>\n",
       "    </tr>\n",
       "    <tr>\n",
       "      <th>1</th>\n",
       "      <td>0000247867823ef7</td>\n",
       "      <td>== From RfC == \\n\\n The title is fine as it is...</td>\n",
       "    </tr>\n",
       "    <tr>\n",
       "      <th>2</th>\n",
       "      <td>00013b17ad220c46</td>\n",
       "      <td>\" \\n\\n == Sources == \\n\\n * Zawe Ashton on Lap...</td>\n",
       "    </tr>\n",
       "    <tr>\n",
       "      <th>3</th>\n",
       "      <td>00017563c3f7919a</td>\n",
       "      <td>:If you have a look back at the source, the in...</td>\n",
       "    </tr>\n",
       "    <tr>\n",
       "      <th>4</th>\n",
       "      <td>00017695ad8997eb</td>\n",
       "      <td>I don't anonymously edit articles at all.</td>\n",
       "    </tr>\n",
       "    <tr>\n",
       "      <th>...</th>\n",
       "      <td>...</td>\n",
       "      <td>...</td>\n",
       "    </tr>\n",
       "    <tr>\n",
       "      <th>153159</th>\n",
       "      <td>fffcd0960ee309b5</td>\n",
       "      <td>. \\n i totally agree, this stuff is nothing bu...</td>\n",
       "    </tr>\n",
       "    <tr>\n",
       "      <th>153160</th>\n",
       "      <td>fffd7a9a6eb32c16</td>\n",
       "      <td>== Throw from out field to home plate. == \\n\\n...</td>\n",
       "    </tr>\n",
       "    <tr>\n",
       "      <th>153161</th>\n",
       "      <td>fffda9e8d6fafa9e</td>\n",
       "      <td>\" \\n\\n == Okinotorishima categories == \\n\\n I ...</td>\n",
       "    </tr>\n",
       "    <tr>\n",
       "      <th>153162</th>\n",
       "      <td>fffe8f1340a79fc2</td>\n",
       "      <td>\" \\n\\n == \"\"One of the founding nations of the...</td>\n",
       "    </tr>\n",
       "    <tr>\n",
       "      <th>153163</th>\n",
       "      <td>ffffce3fb183ee80</td>\n",
       "      <td>\" \\n :::Stop already. Your bullshit is not wel...</td>\n",
       "    </tr>\n",
       "  </tbody>\n",
       "</table>\n",
       "<p>153164 rows × 2 columns</p>\n",
       "</div>"
      ],
      "text/plain": [
       "                      id                                       comment_text\n",
       "0       00001cee341fdb12  Yo bitch Ja Rule is more succesful then you'll...\n",
       "1       0000247867823ef7  == From RfC == \\n\\n The title is fine as it is...\n",
       "2       00013b17ad220c46  \" \\n\\n == Sources == \\n\\n * Zawe Ashton on Lap...\n",
       "3       00017563c3f7919a  :If you have a look back at the source, the in...\n",
       "4       00017695ad8997eb          I don't anonymously edit articles at all.\n",
       "...                  ...                                                ...\n",
       "153159  fffcd0960ee309b5  . \\n i totally agree, this stuff is nothing bu...\n",
       "153160  fffd7a9a6eb32c16  == Throw from out field to home plate. == \\n\\n...\n",
       "153161  fffda9e8d6fafa9e  \" \\n\\n == Okinotorishima categories == \\n\\n I ...\n",
       "153162  fffe8f1340a79fc2  \" \\n\\n == \"\"One of the founding nations of the...\n",
       "153163  ffffce3fb183ee80  \" \\n :::Stop already. Your bullshit is not wel...\n",
       "\n",
       "[153164 rows x 2 columns]"
      ]
     },
     "execution_count": 90,
     "metadata": {},
     "output_type": "execute_result"
    }
   ],
   "source": [
    "df1=pd.read_csv('Maligant_test.csv')  # read the data\n",
    "df1"
   ]
  },
  {
   "cell_type": "code",
   "execution_count": 91,
   "id": "5cefccda",
   "metadata": {},
   "outputs": [
    {
     "name": "stdout",
     "output_type": "stream",
     "text": [
      "(153164, 2)\n",
      "------------------------------------------------------------\n",
      "id              0\n",
      "comment_text    0\n",
      "dtype: int64\n",
      "------------------------------------------------------------\n",
      "<class 'pandas.core.frame.DataFrame'>\n",
      "RangeIndex: 153164 entries, 0 to 153163\n",
      "Data columns (total 2 columns):\n",
      " #   Column        Non-Null Count   Dtype \n",
      "---  ------        --------------   ----- \n",
      " 0   id            153164 non-null  object\n",
      " 1   comment_text  153164 non-null  object\n",
      "dtypes: object(2)\n",
      "memory usage: 2.3+ MB\n",
      "None\n",
      "(153164, 2)\n"
     ]
    }
   ],
   "source": [
    "# check the no. of rows & column & finding the count of missing value\n",
    "print(df1.shape)\n",
    "print(\"-\"*60)\n",
    "print(df1.isna().sum())\n",
    "print(\"-\"*60)\n",
    "#printing the summary of data type\n",
    "print(df1.info())\n",
    "#first remove duplicates & recheck the size\n",
    "df1.drop_duplicates(inplace=True)\n",
    "print(df1.shape)\n",
    "#Converting all capital letter into small letters\n",
    "df1['comment_text'] =df1['comment_text'].str.lower()"
   ]
  },
  {
   "cell_type": "code",
   "execution_count": 92,
   "id": "3d8cde13",
   "metadata": {},
   "outputs": [],
   "source": [
    "# Checking the text length before text preprocessing \n",
    "df1['length']=df1['comment_text'].str.len()\n",
    "# Checking special characater if any\n",
    "import string\n",
    "alphabet = string.punctuation\n",
    "# Storing the punctuation free text \n",
    "df1['clean_comment_text']=df1['comment_text'].apply(lambda x:\"\".join([i for i in x if i not in alphabet]))\n",
    "# Checking the text length after removing special character \n",
    "df1['str_re_length']=df1['clean_comment_text'].str.len()\n",
    "# Removing some special character\n",
    "df1['clean_comment_text'] = df1['clean_comment_text'].str.replace(\"4\", \"\")\n",
    "df1['clean_comment_text'] = df1['clean_comment_text'].str.replace(\"\\n\", \"\")\n",
    "df1['clean_comment_text'] = df1['clean_comment_text'].str.replace(\"2\", \"\")\n",
    "# Checking the text length after removing special character \n",
    "df1['chr_length']=df1['clean_comment_text'].str.len()\n",
    "Stopwords = set(stopwords.words('english') + ['u', 'ü', 'ur','im', 'dont', 'doin', 'ure'])\n",
    "df1['clean_comment_text']=df1['clean_comment_text'].apply(lambda x:' '.join(term for term in x.split() if term not in Stopwords))\n",
    "df1['new_length']=df1['clean_comment_text'].str.len()\n",
    "df1.drop(columns='comment_text', inplace=True)\n",
    "# lets seaprate the catogorical data & numirical data\n",
    "numerics=['int8','int16','int32','int64','float16','float32','float64']\n",
    "cat_col=[] #empty list\n",
    "features=df1.columns.values.tolist()\n",
    "for i in features:\n",
    "    if df1[i].dtype in numerics:\n",
    "        continue\n",
    "    cat_col.append(i)\n",
    "# Lets frist covert categorical data(type & column) into int \n",
    "label = LabelEncoder()\n",
    "for i in cat_col:\n",
    "    data=label.fit_transform(df1[i])\n",
    "    pd.Series(data)\n",
    "    df1[i]=data"
   ]
  },
  {
   "cell_type": "code",
   "execution_count": 95,
   "id": "2cf2975d",
   "metadata": {},
   "outputs": [],
   "source": [
    "df1[\"predictions\"] = df1[['clean_comment_text','id']].apply(lambda s: dt.predict(s.values[None])[0], axis=1)"
   ]
  },
  {
   "cell_type": "code",
   "execution_count": 97,
   "id": "da71961c",
   "metadata": {},
   "outputs": [
    {
     "data": {
      "text/plain": [
       "0    111725\n",
       "1     41439\n",
       "Name: predictions, dtype: int64"
      ]
     },
     "execution_count": 97,
     "metadata": {},
     "output_type": "execute_result"
    }
   ],
   "source": [
    "df1[\"predictions\"].value_counts()"
   ]
  },
  {
   "cell_type": "code",
   "execution_count": 98,
   "id": "731af6a4",
   "metadata": {},
   "outputs": [
    {
     "data": {
      "text/plain": [
       "0         0\n",
       "1         0\n",
       "2         0\n",
       "3         0\n",
       "4         0\n",
       "         ..\n",
       "153159    0\n",
       "153160    1\n",
       "153161    0\n",
       "153162    0\n",
       "153163    0\n",
       "Name: predictions, Length: 153164, dtype: int32"
      ]
     },
     "execution_count": 98,
     "metadata": {},
     "output_type": "execute_result"
    }
   ],
   "source": [
    "df1[\"predictions\"]"
   ]
  },
  {
   "cell_type": "code",
   "execution_count": null,
   "id": "a1368acb",
   "metadata": {},
   "outputs": [],
   "source": []
  }
 ],
 "metadata": {
  "kernelspec": {
   "display_name": "Python 3 (ipykernel)",
   "language": "python",
   "name": "python3"
  },
  "language_info": {
   "codemirror_mode": {
    "name": "ipython",
    "version": 3
   },
   "file_extension": ".py",
   "mimetype": "text/x-python",
   "name": "python",
   "nbconvert_exporter": "python",
   "pygments_lexer": "ipython3",
   "version": "3.9.12"
  }
 },
 "nbformat": 4,
 "nbformat_minor": 5
}
